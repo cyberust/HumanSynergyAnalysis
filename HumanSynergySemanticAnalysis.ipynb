{
  "nbformat": 4,
  "nbformat_minor": 0,
  "metadata": {
    "colab": {
      "provenance": [],
      "authorship_tag": "ABX9TyO402YLjgf/54wINutE45HS",
      "include_colab_link": true
    },
    "kernelspec": {
      "name": "python3",
      "display_name": "Python 3"
    },
    "language_info": {
      "name": "python"
    }
  },
  "cells": [
    {
      "cell_type": "markdown",
      "metadata": {
        "id": "view-in-github",
        "colab_type": "text"
      },
      "source": [
        "<a href=\"https://colab.research.google.com/github/cyberust/HumanSynergyAnalysis/blob/main/HumanSynergySemanticAnalysis.ipynb\" target=\"_parent\"><img src=\"https://colab.research.google.com/assets/colab-badge.svg\" alt=\"Open In Colab\"/></a>"
      ]
    },
    {
      "cell_type": "code",
      "execution_count": 16,
      "metadata": {
        "colab": {
          "base_uri": "https://localhost:8080/"
        },
        "id": "vKO4chrp6Qlc",
        "outputId": "7d0e357f-71af-45ce-dda3-6f229bf6eedd"
      },
      "outputs": [
        {
          "output_type": "stream",
          "name": "stdout",
          "text": [
            "✅ ライブラリのインストールが完了しました。\n",
            "✅ ライブラリのインポートが完了しました。\n",
            "✅ 分析パラメータの定義が完了しました。\n",
            "--- パイプライン実行開始 ---\n",
            "Mounted at /content/drive\n",
            "✅ 3件のプロフィールを読み込みました。\n",
            "✅ プロフィール分析（意味ベクトル化）が完了しました。\n",
            "✅ シナジーマトリクスの計算が完了しました。\n",
            "✅ 動的成長シミュレーションが完了しました。\n",
            "✅ シャプレー値の計算が完了しました。\n",
            "✅ ビジネス指標の予測が完了しました。\n",
            "✅ 全てのグラフオブジェクトの生成が完了しました。\n",
            "✅ 全てのグラフをHTMLとして '/content/drive/MyDrive/synergy_analysis_charts_V3/' に保存しました。\n",
            "✅ 分析レポートを '/content/drive/MyDrive/synergy_analysis_report_V3_20250620_205327.md' に保存しました。\n",
            "\n",
            "--- ✅ パイプライン実行完了 ---\n"
          ]
        }
      ],
      "source": [
        "# ======================================================================\n",
        "#\n",
        "#  人的シナジー分析システム V3 - 最終安定版\n",
        "#\n",
        "#  改善点:\n",
        "#  - 全てのパラメータを冒頭のCONFIGで一元管理\n",
        "#  - 全ての処理を単一のパイプラインで実行し、一貫性を担保\n",
        "#  - 可視化とファイル保存を分離し、Colabのリソース問題を根本的に解決\n",
        "#\n",
        "# ======================================================================\n",
        "\n",
        "# ===============================================================\n",
        "# STEP 1: ライブラリのインストール\n",
        "# ===============================================================\n",
        "!pip install sentence-transformers pandas numpy scipy networkx plotly scikit-learn --quiet\n",
        "print(\"✅ ライブラリのインストールが完了しました。\")\n",
        "\n",
        "# ===============================================================\n",
        "# STEP 2: ライブラリのインポート\n",
        "# ===============================================================\n",
        "import os\n",
        "import re\n",
        "import pandas as pd\n",
        "import numpy as np\n",
        "import networkx as nx\n",
        "import plotly.express as px\n",
        "from datetime import datetime\n",
        "from scipy.integrate import odeint\n",
        "from sentence_transformers import SentenceTransformer\n",
        "from sklearn.metrics.pairwise import cosine_similarity\n",
        "import warnings\n",
        "warnings.filterwarnings('ignore')\n",
        "print(\"✅ ライブラリのインポートが完了しました。\")\n",
        "\n",
        "\n",
        "# ===============================================================\n",
        "# STEP 3: 分析パラメータの一元管理\n",
        "# ===============================================================\n",
        "CONFIG = {\n",
        "    'data': {\n",
        "        'base_path': \"/content/drive/MyDrive/\",\n",
        "        'names': [\"arale_cohen\", \"yanay_geva\", \"yasuyuki_sakane\"],\n",
        "        'display_names': [\"Arale Cohen\", \"Yanay Geva\", \"Yasuyuki Sakane\"]\n",
        "    },\n",
        "    'profile_analysis': {\n",
        "        'embedding_model': 'all-MiniLM-L6-v2',\n",
        "        'experience_default': 10,\n",
        "        'network_keywords': ['network', 'ecosystem', 'connections', 'board member', 'partner'],\n",
        "        'network_multiplier': 20\n",
        "    },\n",
        "    'synergy_calculation': {\n",
        "        'weights': {\n",
        "            'complementarity': 0.5, # スキル補完性の重要度をさらに上げる\n",
        "            'experience': 0.2,\n",
        "            'network': 0.2\n",
        "        },\n",
        "        'diversity_bonus': 1.2, # 異文化ボーナス\n",
        "        'cultural_backgrounds': {'Arale Cohen': 'Western', 'Yanay Geva': 'Western', 'Yasuyuki Sakane': 'Eastern'}\n",
        "    },\n",
        "    'dynamic_model': {\n",
        "        'alpha': np.array([0.4, 0.35, 0.45]), # 個人の基礎成長率\n",
        "        'beta_multiplier': 0.1, # シナジー効果の強さ\n",
        "        'K': np.array([12.0, 12.0, 12.0]), # パフォーマンス上限\n",
        "        'initial_state': [1.0, 1.0, 1.0],\n",
        "        'time_horizon': 24\n",
        "    },\n",
        "    'game_theory': {\n",
        "        'synergy_value_multiplier': 5\n",
        "    },\n",
        "    'business_forecast': {\n",
        "        'revenue_base_multiplier': 10,\n",
        "        'revenue_synergy_multiplier': 5,\n",
        "        'innovation_synergy_multiplier': 10,\n",
        "        'market_share_cap': 40,\n",
        "        'satisfaction_base': 75,\n",
        "        'satisfaction_synergy_cap': 98\n",
        "    },\n",
        "    'output': {\n",
        "        'charts_path': \"/content/drive/MyDrive/synergy_analysis_charts_V3/\",\n",
        "        'report_path': \"/content/drive/MyDrive/\"\n",
        "    }\n",
        "}\n",
        "print(\"✅ 分析パラメータの定義が完了しました。\")\n",
        "\n",
        "\n",
        "# ===============================================================\n",
        "# STEP 4: 各種分析クラスの定義\n",
        "# ===============================================================\n",
        "\n",
        "class DataLoader:\n",
        "    def __init__(self, config):\n",
        "        self.config = config['data']\n",
        "\n",
        "    def load_profiles(self):\n",
        "        drive.mount('/content/drive', force_remount=True)\n",
        "        profiles = {}\n",
        "        for name, display_name in zip(self.config['names'], self.config['display_names']):\n",
        "            try:\n",
        "                with open(f\"{self.config['base_path']}{name}_profile.txt\", 'r', encoding='utf-8') as f:\n",
        "                    profiles[display_name] = f.read()\n",
        "            except FileNotFoundError:\n",
        "                profiles[display_name] = \"Profile data not available.\"\n",
        "        return profiles\n",
        "\n",
        "class SemanticProfileAnalyzer:\n",
        "    def __init__(self, config):\n",
        "        self.config = config['profile_analysis']\n",
        "        self.model = SentenceTransformer(self.config['embedding_model'])\n",
        "\n",
        "    def analyze(self, profiles_dict):\n",
        "        analysis_results = {}\n",
        "        names = list(profiles_dict.keys())\n",
        "        texts = list(profiles_dict.values())\n",
        "        embeddings = self.model.encode(texts, show_progress_bar=False)\n",
        "\n",
        "        for i, name in enumerate(names):\n",
        "            analysis_results[name] = {\n",
        "                'embedding': embeddings[i],\n",
        "                'experience_years': self._extract_experience(texts[i]),\n",
        "                'network_strength': self._extract_network_strength(texts[i])\n",
        "            }\n",
        "        return analysis_results\n",
        "\n",
        "    def _extract_experience(self, text):\n",
        "        matches = re.findall(r'(\\d+)\\+?\\s*years?', text.lower())\n",
        "        return max([int(m) for m in matches]) if matches else self.config['experience_default']\n",
        "\n",
        "    def _extract_network_strength(self, text):\n",
        "        score = sum(text.lower().count(k) for k in self.config['network_keywords'])\n",
        "        return min(score * self.config['network_multiplier'], 100)\n",
        "\n",
        "class SynergyCalculator:\n",
        "    def __init__(self, config):\n",
        "        self.config = config['synergy_calculation']\n",
        "\n",
        "    def calculate(self, analysis_data):\n",
        "        names = list(analysis_data.keys())\n",
        "        # 1. スキル補完性\n",
        "        embeddings = np.array([analysis_data[n]['embedding'] for n in names])\n",
        "        comp_matrix = 1 - cosine_similarity(embeddings)\n",
        "\n",
        "        # 2. 経験シナジー\n",
        "        experiences = [analysis_data[n]['experience_years'] for n in names]\n",
        "        exp_matrix = np.zeros((len(names), len(names)))\n",
        "        for i, j in np.ndindex(exp_matrix.shape):\n",
        "            if i != j: exp_matrix[i, j] = np.exp(-0.1 * abs(experiences[i] - experiences[j]))\n",
        "\n",
        "        # 3. ネットワーク効果\n",
        "        networks = [analysis_data[n]['network_strength'] for n in names]\n",
        "        net_matrix = np.zeros((len(names), len(names)))\n",
        "        for i, j in np.ndindex(net_matrix.shape):\n",
        "            if i != j: net_matrix[i, j] = (networks[i] * networks[j]) / 10000.0\n",
        "\n",
        "        # 4. 総合シナジー計算\n",
        "        w = self.config['weights']\n",
        "        total_synergy = (w['complementarity'] * comp_matrix +\n",
        "                         w['experience'] * exp_matrix +\n",
        "                         w['network'] * net_matrix)\n",
        "\n",
        "        # 5. 多様性ボーナス\n",
        "        backgrounds = self.config['cultural_backgrounds']\n",
        "        for i, n1 in enumerate(names):\n",
        "            for j, n2 in enumerate(names):\n",
        "                if backgrounds.get(n1) != backgrounds.get(n2):\n",
        "                    total_synergy[i, j] *= self.config['diversity_bonus']\n",
        "\n",
        "        np.fill_diagonal(total_synergy, 0)\n",
        "        return {'total_synergy': total_synergy, 'skill_complementarity': comp_matrix}\n",
        "\n",
        "class DynamicSystemModel:\n",
        "    def __init__(self, config):\n",
        "        self.config = config['dynamic_model']\n",
        "\n",
        "    def simulate(self, synergy_matrix):\n",
        "        c = self.config\n",
        "        alpha = c['alpha']\n",
        "        beta = synergy_matrix * c['beta_multiplier']\n",
        "        K = c['K']\n",
        "        t = np.linspace(0, c['time_horizon'], c['time_horizon'] * 4)\n",
        "        solution = odeint(self._system_dynamics, c['initial_state'], t, args=(alpha, beta, K))\n",
        "        return t, solution\n",
        "\n",
        "    def _system_dynamics(self, state, t, alpha, beta, K):\n",
        "        x = np.array(state)\n",
        "        dxdt = (alpha * x + np.dot(beta, x)) * (1 - x / K)\n",
        "        return dxdt\n",
        "\n",
        "class GameTheoryAnalyzer:\n",
        "    def __init__(self, config):\n",
        "        self.config = config['game_theory']\n",
        "\n",
        "    def calculate_shapley(self, analysis_data, synergy_matrix):\n",
        "        from math import factorial\n",
        "        from itertools import combinations\n",
        "\n",
        "        names = list(analysis_data.keys())\n",
        "        n_players = len(names)\n",
        "        shapley_values = np.zeros(n_players)\n",
        "\n",
        "        for i in range(n_players):\n",
        "            for coalition in combinations(range(n_players), i):\n",
        "                s_without_i = list(coalition)\n",
        "                s_with_i = s_without_i + [i]\n",
        "                marginal_contrib = self._get_coalition_value(s_with_i, analysis_data, synergy_matrix) - \\\n",
        "                                   self._get_coalition_value(s_without_i, analysis_data, synergy_matrix)\n",
        "                weight = (factorial(i) * factorial(n_players - i - 1)) / factorial(n_players)\n",
        "                shapley_values[i] += weight * marginal_contrib\n",
        "        return shapley_values\n",
        "\n",
        "    def _get_coalition_value(self, indices, analysis_data, synergy_matrix):\n",
        "        if not indices: return 0\n",
        "        names = list(analysis_data.keys())\n",
        "        base_val = sum(analysis_data[names[i]]['experience_years'] +\n",
        "                       analysis_data[names[i]]['network_strength'] / 10.0 for i in indices)\n",
        "\n",
        "        synergy_val = 0\n",
        "        if len(indices) > 1:\n",
        "            for i in indices:\n",
        "                for j in indices:\n",
        "                    synergy_val += synergy_matrix[i, j]\n",
        "        return base_val + synergy_val * self.config['synergy_value_multiplier']\n",
        "\n",
        "class VisualizationGenerator:\n",
        "    def __init__(self, config):\n",
        "        self.config = config['data']\n",
        "\n",
        "    def generate_all_figures(self, results):\n",
        "        figures = {}\n",
        "        names = self.config['display_names']\n",
        "\n",
        "        # シナジーヒートマップ\n",
        "        figures['synergy_heatmap'] = px.imshow(results['synergy']['total_synergy'], x=names, y=names, text_auto='.3f',\n",
        "                                               labels=dict(color=\"シナジー強度\"), color_continuous_scale='Blues',\n",
        "                                               title='V3: 総合シナジーマトリックス')\n",
        "        # 成長軌道\n",
        "        df_growth = pd.DataFrame(results['simulation_solution'], columns=names)\n",
        "        df_growth['Time'] = results['simulation_time_axis']\n",
        "        figures['growth_trajectory'] = px.line(df_growth, x='Time', y=names, title='V3: 動的成長軌道シミュレーション')\n",
        "\n",
        "        # ビジネス指標\n",
        "        df_biz = results['business_forecast']\n",
        "        fig_biz = px.line(df_biz, x='time_months', y=['revenue_growth_rate', 'innovation_index'],\n",
        "                          title='V3: ビジネス指標予測（売上・イノベーション）', facet_row=\"variable\", labels={\"variable\":\"\"})\n",
        "        fig_biz.update_yaxes(matches=None)\n",
        "        figures['business_dashboard'] = fig_biz\n",
        "\n",
        "        # シャプレー値\n",
        "        figures['shapley_values'] = px.bar(x=names, y=results['shapley_values'], text_auto='.2f',\n",
        "                                           labels={'x':'メンバー', 'y':'価値貢献度'}, title='V3: シャプレー値による価値貢献度')\n",
        "\n",
        "        # ネットワークグラフ\n",
        "        G = nx.from_numpy_array(results['synergy']['total_synergy'])\n",
        "        pos = nx.spring_layout(G, k=1.5, iterations=50)\n",
        "        edge_x, edge_y, edge_weights = [], [], []\n",
        "        for edge in G.edges(data=True):\n",
        "            x0, y0 = pos[edge[0]]\n",
        "            x1, y1 = pos[edge[1]]\n",
        "            edge_x.extend([x0, x1, None])\n",
        "            edge_y.extend([y0, y1, None])\n",
        "            edge_weights.append(edge[2]['weight'])\n",
        "        edge_trace = go.Scatter(x=edge_x, y=edge_y, line=dict(width=2, color='#888'), hoverinfo='none', mode='lines')\n",
        "        node_trace = go.Scatter(x=[pos[i][0] for i in G.nodes()], y=[pos[i][1] for i in G.nodes()], mode='markers+text',\n",
        "                                text=[names[i] for i in G.nodes()], textposition=\"top center\",\n",
        "                                marker=dict(size=[results['analysis'][n]['network_strength']/5 for n in names],\n",
        "                                            color=['#FF6B6B', '#4ECDC4', '#45B7D1']))\n",
        "        fig_net = go.Figure(data=[edge_trace, node_trace], layout=go.Layout(title='V3: チーム相互作用ネットワーク', showlegend=False))\n",
        "        figures['network_graph'] = fig_net\n",
        "\n",
        "        return figures\n",
        "\n",
        "# ===============================================================\n",
        "# STEP 5: 実行パイプラインの定義と実行\n",
        "# ===============================================================\n",
        "\n",
        "class AnalysisPipeline:\n",
        "    def __init__(self, config):\n",
        "        self.config = config\n",
        "        self.data_loader = DataLoader(config)\n",
        "        self.profile_analyzer = SemanticProfileAnalyzer(config)\n",
        "        self.synergy_calculator = SynergyCalculator(config)\n",
        "        self.dynamic_model = DynamicSystemModel(config)\n",
        "        self.game_theory_analyzer = GameTheoryAnalyzer(config)\n",
        "        self.viz_generator = VisualizationGenerator(config)\n",
        "\n",
        "    def run(self):\n",
        "        print(\"--- パイプライン実行開始 ---\")\n",
        "        # 1. データ読み込み\n",
        "        profiles = self.data_loader.load_profiles()\n",
        "        print(f\"✅ {len(profiles)}件のプロフィールを読み込みました。\")\n",
        "\n",
        "        # 2. プロフィール分析\n",
        "        analysis_data = self.profile_analyzer.analyze(profiles)\n",
        "        print(\"✅ プロフィール分析（意味ベクトル化）が完了しました。\")\n",
        "\n",
        "        # 3. シナジー計算\n",
        "        synergy_results = self.synergy_calculator.calculate(analysis_data)\n",
        "        print(\"✅ シナジーマトリクスの計算が完了しました。\")\n",
        "\n",
        "        # 4. 動的シミュレーション\n",
        "        time_axis, solution = self.dynamic_model.simulate(synergy_results['total_synergy'])\n",
        "        print(\"✅ 動的成長シミュレーションが完了しました。\")\n",
        "\n",
        "        # 5. ゲーム理論分析\n",
        "        shapley_values = self.game_theory_analyzer.calculate_shapley(analysis_data, synergy_results['total_synergy'])\n",
        "        print(\"✅ シャプレー値の計算が完了しました。\")\n",
        "\n",
        "        # 6. ビジネス指標予測（このパイプライン内にロジックを統合）\n",
        "        c_biz = self.config['business_forecast']\n",
        "        perf_data = []\n",
        "        for t in range(len(time_axis)):\n",
        "            perf = solution[t]\n",
        "            synergy = np.sum(synergy_results['total_synergy'] * np.outer(perf, perf)) / 2\n",
        "            perf_data.append({\n",
        "                'time_months': time_axis[t],\n",
        "                'revenue_growth_rate': np.sum(perf) * c_biz['revenue_base_multiplier'] + synergy * c_biz['revenue_synergy_multiplier'],\n",
        "                'innovation_index': synergy * c_biz['innovation_synergy_multiplier'],\n",
        "            })\n",
        "        business_forecast_df = pd.DataFrame(perf_data)\n",
        "        print(\"✅ ビジネス指標の予測が完了しました。\")\n",
        "\n",
        "        # 7. 全ての分析結果を一つのオブジェクトにまとめる\n",
        "        results = {\n",
        "            'config': self.config,\n",
        "            'profiles': profiles,\n",
        "            'analysis': analysis_data,\n",
        "            'synergy': synergy_results,\n",
        "            'simulation_time_axis': time_axis,\n",
        "            'simulation_solution': solution,\n",
        "            'shapley_values': shapley_values,\n",
        "            'business_forecast': business_forecast_df\n",
        "        }\n",
        "\n",
        "        # 8. 可視化（Figureオブジェクトの生成のみ）\n",
        "        results['figures'] = self.viz_generator.generate_all_figures(results)\n",
        "        print(\"✅ 全てのグラフオブジェクトの生成が完了しました。\")\n",
        "\n",
        "        # 9. 成果物のファイル保存\n",
        "        self._save_artifacts(results)\n",
        "\n",
        "        print(\"\\n--- ✅ パイプライン実行完了 ---\")\n",
        "        return results\n",
        "\n",
        "    def _save_artifacts(self, results):\n",
        "        # HTMLファイルの保存\n",
        "        charts_path = self.config['output']['charts_path']\n",
        "        if not os.path.exists(charts_path):\n",
        "            os.makedirs(charts_path)\n",
        "        for name, fig in results['figures'].items():\n",
        "            fig.write_html(os.path.join(charts_path, f\"{name}.html\"), include_plotlyjs='cdn')\n",
        "        print(f\"✅ 全てのグラフをHTMLとして '{charts_path}' に保存しました。\")\n",
        "\n",
        "        # レポートの保存\n",
        "        names = self.config['data']['display_names']\n",
        "        report_str = \"# 人的シナジー分析レポート V3\\n\\n\"\n",
        "        report_str += \"## 総合シナジー\\n\"\n",
        "        report_str += pd.DataFrame(results['synergy']['total_synergy'], columns=names, index=names).to_markdown() + \"\\n\\n\"\n",
        "        report_str += \"## 価値貢献度（シャプレー値）\\n\"\n",
        "        for name, val in zip(names, results['shapley_values']):\n",
        "            report_str += f\"- {name}: {val:.3f}\\n\"\n",
        "\n",
        "        report_path = self.config['output']['report_path']\n",
        "        timestamp = datetime.now().strftime(\"%Y%m%d_%H%M%S\")\n",
        "        filename = f\"synergy_analysis_report_V3_{timestamp}.md\"\n",
        "        with open(os.path.join(report_path, filename), 'w', encoding='utf-8') as f:\n",
        "            f.write(report_str)\n",
        "        print(f\"✅ 分析レポートを '{report_path}{filename}' に保存しました。\")\n",
        "\n",
        "# パイプラインを実行\n",
        "pipeline = AnalysisPipeline(CONFIG)\n",
        "results = pipeline.run()"
      ]
    },
    {
      "cell_type": "code",
      "source": [
        "# ===============================================================\n",
        "# STEP 10: インタラクティブグラフをHTMLファイルとして保存\n",
        "# ===============================================================\n",
        "import os\n",
        "\n",
        "# 保存先のフォルダを指定 (V2用に新しいフォルダ名にします)\n",
        "save_path = \"/content/drive/MyDrive/synergy_analysis_charts_V2/\"\n",
        "\n",
        "# フォルダが存在しない場合は作成\n",
        "if not os.path.exists(save_path):\n",
        "    os.makedirs(save_path)\n",
        "    print(f\"✅ 保存用フォルダを作成しました: {save_path}\")\n",
        "\n",
        "# viz_engineに保存された各グラフをHTMLとして保存\n",
        "if hasattr(viz_engine, 'charts') and viz_engine.charts:\n",
        "    print(\" V2: グラフのHTMLファイルへの保存を開始します...\")\n",
        "    for chart_name, chart_figure in viz_engine.charts.items():\n",
        "        file_path = f\"{save_path}{chart_name}.html\"\n",
        "        try:\n",
        "            chart_figure.write_html(file_path, include_plotlyjs='cdn')\n",
        "            print(f\"✅ グラフ '{chart_name}' をHTMLファイルとして保存しました: {file_path}\")\n",
        "        except Exception as e:\n",
        "            print(f\"⚠️ '{chart_name}' の保存中にエラーが発生しました: {e}\")\n",
        "    print(\"✅ 全てのグラフの保存が完了しました。\")\n",
        "else:\n",
        "    print(\"⚠️ 保存するグラフオブジェクトが見つかりませんでした。\")"
      ],
      "metadata": {
        "id": "nSbV_6sWFG0H",
        "outputId": "fa2373ea-8e3b-4e9f-eeec-102d5b9e9e5f",
        "colab": {
          "base_uri": "https://localhost:8080/"
        }
      },
      "execution_count": 17,
      "outputs": [
        {
          "output_type": "stream",
          "name": "stdout",
          "text": [
            "⚠️ 保存するグラフオブジェクトが見つかりませんでした。\n"
          ]
        }
      ]
    },
    {
      "cell_type": "code",
      "source": [
        "# Google Driveへの書き込みテスト用コード\n",
        "\n",
        "import os\n",
        "\n",
        "test_folder_path = \"/content/drive/MyDrive/synergy_analysis_charts_V2/\"\n",
        "test_file_path = os.path.join(test_folder_path, \"test_file.txt\")\n",
        "\n",
        "print(f\"テストファイルを作成しようとしています: {test_file_path}\")\n",
        "\n",
        "try:\n",
        "    # フォルダが存在しない場合は作成\n",
        "    if not os.path.exists(test_folder_path):\n",
        "        os.makedirs(test_folder_path)\n",
        "        print(f\"フォルダを作成しました: {test_folder_path}\")\n",
        "\n",
        "    # テストファイルを書き込む\n",
        "    with open(test_file_path, \"w\") as f:\n",
        "        f.write(\"This is a test file.\")\n",
        "\n",
        "    print(f\"✅ テストファイルの書き込みに成功しました。\")\n",
        "    print(\"Googleドライブの画面（またはColabのファイルブラウザ）を再読み込みして、\")\n",
        "    print(\"`synergy_analysis_charts_V2`フォルダ内に`test_file.txt`が見えるかご確認ください。\")\n",
        "\n",
        "except Exception as e:\n",
        "    print(f\"⚠️ テストファイルの書き込み中にエラーが発生しました: {e}\")"
      ],
      "metadata": {
        "id": "9yN3Id4tE00A",
        "outputId": "af889e58-34c5-4b3b-afc8-f7db62ce76fc",
        "colab": {
          "base_uri": "https://localhost:8080/"
        }
      },
      "execution_count": 18,
      "outputs": [
        {
          "output_type": "stream",
          "name": "stdout",
          "text": [
            "テストファイルを作成しようとしています: /content/drive/MyDrive/synergy_analysis_charts_V2/test_file.txt\n",
            "✅ テストファイルの書き込みに成功しました。\n",
            "Googleドライブの画面（またはColabのファイルブラウザ）を再読み込みして、\n",
            "`synergy_analysis_charts_V2`フォルダ内に`test_file.txt`が見えるかご確認ください。\n"
          ]
        }
      ]
    },
    {
      "cell_type": "code",
      "source": [],
      "metadata": {
        "id": "uPlD9ljXE2iD"
      },
      "execution_count": 18,
      "outputs": []
    },
    {
      "cell_type": "code",
      "source": [
        "print(\"グラフ1/5: 総合シナジーマトリックスの描画テスト...\")\n",
        "viz_engine.create_synergy_heatmap().show()\n",
        "print(\"完了\")"
      ],
      "metadata": {
        "colab": {
          "base_uri": "https://localhost:8080/",
          "height": 580
        },
        "id": "oBB_jV2j98u2",
        "outputId": "5b487350-e755-4385-8ec4-be81b3df482a"
      },
      "execution_count": 19,
      "outputs": [
        {
          "output_type": "stream",
          "name": "stdout",
          "text": [
            "グラフ1/5: 総合シナジーマトリックスの描画テスト...\n"
          ]
        },
        {
          "output_type": "display_data",
          "data": {
            "text/html": [
              "<html>\n",
              "<head><meta charset=\"utf-8\" /></head>\n",
              "<body>\n",
              "    <div>            <script src=\"https://cdnjs.cloudflare.com/ajax/libs/mathjax/2.7.5/MathJax.js?config=TeX-AMS-MML_SVG\"></script><script type=\"text/javascript\">if (window.MathJax && window.MathJax.Hub && window.MathJax.Hub.Config) {window.MathJax.Hub.Config({SVG: {font: \"STIX-Web\"}});}</script>                <script type=\"text/javascript\">window.PlotlyConfig = {MathJaxConfig: 'local'};</script>\n",
              "        <script charset=\"utf-8\" src=\"https://cdn.plot.ly/plotly-2.35.2.min.js\"></script>                <div id=\"3ccb99ef-91cd-4446-b701-7ce132cf7603\" class=\"plotly-graph-div\" style=\"height:525px; width:100%;\"></div>            <script type=\"text/javascript\">                                    window.PLOTLYENV=window.PLOTLYENV || {};                                    if (document.getElementById(\"3ccb99ef-91cd-4446-b701-7ce132cf7603\")) {                    Plotly.newPlot(                        \"3ccb99ef-91cd-4446-b701-7ce132cf7603\",                        [{\"coloraxis\":\"coloraxis\",\"name\":\"0\",\"texttemplate\":\"%{z:.3f}\",\"x\":[\"Arale Cohen\",\"Yanay Geva\",\"Yasuyuki Sakane\"],\"y\":[\"Arale Cohen\",\"Yanay Geva\",\"Yasuyuki Sakane\"],\"z\":[[0.0,0.5232546344399452,0.7503589975833893],[0.5232546344399452,0.0,0.759177188873291],[0.7503589975833893,0.759177188873291,0.0]],\"type\":\"heatmap\",\"xaxis\":\"x\",\"yaxis\":\"y\",\"hovertemplate\":\"メンバー: %{x}\\u003cbr\\u003eメンバー: %{y}\\u003cbr\\u003eシナジー強度: %{z}\\u003cextra\\u003e\\u003c\\u002fextra\\u003e\"}],                        {\"template\":{\"data\":{\"histogram2dcontour\":[{\"type\":\"histogram2dcontour\",\"colorbar\":{\"outlinewidth\":0,\"ticks\":\"\"},\"colorscale\":[[0.0,\"#0d0887\"],[0.1111111111111111,\"#46039f\"],[0.2222222222222222,\"#7201a8\"],[0.3333333333333333,\"#9c179e\"],[0.4444444444444444,\"#bd3786\"],[0.5555555555555556,\"#d8576b\"],[0.6666666666666666,\"#ed7953\"],[0.7777777777777778,\"#fb9f3a\"],[0.8888888888888888,\"#fdca26\"],[1.0,\"#f0f921\"]]}],\"choropleth\":[{\"type\":\"choropleth\",\"colorbar\":{\"outlinewidth\":0,\"ticks\":\"\"}}],\"histogram2d\":[{\"type\":\"histogram2d\",\"colorbar\":{\"outlinewidth\":0,\"ticks\":\"\"},\"colorscale\":[[0.0,\"#0d0887\"],[0.1111111111111111,\"#46039f\"],[0.2222222222222222,\"#7201a8\"],[0.3333333333333333,\"#9c179e\"],[0.4444444444444444,\"#bd3786\"],[0.5555555555555556,\"#d8576b\"],[0.6666666666666666,\"#ed7953\"],[0.7777777777777778,\"#fb9f3a\"],[0.8888888888888888,\"#fdca26\"],[1.0,\"#f0f921\"]]}],\"heatmap\":[{\"type\":\"heatmap\",\"colorbar\":{\"outlinewidth\":0,\"ticks\":\"\"},\"colorscale\":[[0.0,\"#0d0887\"],[0.1111111111111111,\"#46039f\"],[0.2222222222222222,\"#7201a8\"],[0.3333333333333333,\"#9c179e\"],[0.4444444444444444,\"#bd3786\"],[0.5555555555555556,\"#d8576b\"],[0.6666666666666666,\"#ed7953\"],[0.7777777777777778,\"#fb9f3a\"],[0.8888888888888888,\"#fdca26\"],[1.0,\"#f0f921\"]]}],\"heatmapgl\":[{\"type\":\"heatmapgl\",\"colorbar\":{\"outlinewidth\":0,\"ticks\":\"\"},\"colorscale\":[[0.0,\"#0d0887\"],[0.1111111111111111,\"#46039f\"],[0.2222222222222222,\"#7201a8\"],[0.3333333333333333,\"#9c179e\"],[0.4444444444444444,\"#bd3786\"],[0.5555555555555556,\"#d8576b\"],[0.6666666666666666,\"#ed7953\"],[0.7777777777777778,\"#fb9f3a\"],[0.8888888888888888,\"#fdca26\"],[1.0,\"#f0f921\"]]}],\"contourcarpet\":[{\"type\":\"contourcarpet\",\"colorbar\":{\"outlinewidth\":0,\"ticks\":\"\"}}],\"contour\":[{\"type\":\"contour\",\"colorbar\":{\"outlinewidth\":0,\"ticks\":\"\"},\"colorscale\":[[0.0,\"#0d0887\"],[0.1111111111111111,\"#46039f\"],[0.2222222222222222,\"#7201a8\"],[0.3333333333333333,\"#9c179e\"],[0.4444444444444444,\"#bd3786\"],[0.5555555555555556,\"#d8576b\"],[0.6666666666666666,\"#ed7953\"],[0.7777777777777778,\"#fb9f3a\"],[0.8888888888888888,\"#fdca26\"],[1.0,\"#f0f921\"]]}],\"surface\":[{\"type\":\"surface\",\"colorbar\":{\"outlinewidth\":0,\"ticks\":\"\"},\"colorscale\":[[0.0,\"#0d0887\"],[0.1111111111111111,\"#46039f\"],[0.2222222222222222,\"#7201a8\"],[0.3333333333333333,\"#9c179e\"],[0.4444444444444444,\"#bd3786\"],[0.5555555555555556,\"#d8576b\"],[0.6666666666666666,\"#ed7953\"],[0.7777777777777778,\"#fb9f3a\"],[0.8888888888888888,\"#fdca26\"],[1.0,\"#f0f921\"]]}],\"mesh3d\":[{\"type\":\"mesh3d\",\"colorbar\":{\"outlinewidth\":0,\"ticks\":\"\"}}],\"scatter\":[{\"fillpattern\":{\"fillmode\":\"overlay\",\"size\":10,\"solidity\":0.2},\"type\":\"scatter\"}],\"parcoords\":[{\"type\":\"parcoords\",\"line\":{\"colorbar\":{\"outlinewidth\":0,\"ticks\":\"\"}}}],\"scatterpolargl\":[{\"type\":\"scatterpolargl\",\"marker\":{\"colorbar\":{\"outlinewidth\":0,\"ticks\":\"\"}}}],\"bar\":[{\"error_x\":{\"color\":\"#2a3f5f\"},\"error_y\":{\"color\":\"#2a3f5f\"},\"marker\":{\"line\":{\"color\":\"#E5ECF6\",\"width\":0.5},\"pattern\":{\"fillmode\":\"overlay\",\"size\":10,\"solidity\":0.2}},\"type\":\"bar\"}],\"scattergeo\":[{\"type\":\"scattergeo\",\"marker\":{\"colorbar\":{\"outlinewidth\":0,\"ticks\":\"\"}}}],\"scatterpolar\":[{\"type\":\"scatterpolar\",\"marker\":{\"colorbar\":{\"outlinewidth\":0,\"ticks\":\"\"}}}],\"histogram\":[{\"marker\":{\"pattern\":{\"fillmode\":\"overlay\",\"size\":10,\"solidity\":0.2}},\"type\":\"histogram\"}],\"scattergl\":[{\"type\":\"scattergl\",\"marker\":{\"colorbar\":{\"outlinewidth\":0,\"ticks\":\"\"}}}],\"scatter3d\":[{\"type\":\"scatter3d\",\"line\":{\"colorbar\":{\"outlinewidth\":0,\"ticks\":\"\"}},\"marker\":{\"colorbar\":{\"outlinewidth\":0,\"ticks\":\"\"}}}],\"scattermapbox\":[{\"type\":\"scattermapbox\",\"marker\":{\"colorbar\":{\"outlinewidth\":0,\"ticks\":\"\"}}}],\"scatterternary\":[{\"type\":\"scatterternary\",\"marker\":{\"colorbar\":{\"outlinewidth\":0,\"ticks\":\"\"}}}],\"scattercarpet\":[{\"type\":\"scattercarpet\",\"marker\":{\"colorbar\":{\"outlinewidth\":0,\"ticks\":\"\"}}}],\"carpet\":[{\"aaxis\":{\"endlinecolor\":\"#2a3f5f\",\"gridcolor\":\"white\",\"linecolor\":\"white\",\"minorgridcolor\":\"white\",\"startlinecolor\":\"#2a3f5f\"},\"baxis\":{\"endlinecolor\":\"#2a3f5f\",\"gridcolor\":\"white\",\"linecolor\":\"white\",\"minorgridcolor\":\"white\",\"startlinecolor\":\"#2a3f5f\"},\"type\":\"carpet\"}],\"table\":[{\"cells\":{\"fill\":{\"color\":\"#EBF0F8\"},\"line\":{\"color\":\"white\"}},\"header\":{\"fill\":{\"color\":\"#C8D4E3\"},\"line\":{\"color\":\"white\"}},\"type\":\"table\"}],\"barpolar\":[{\"marker\":{\"line\":{\"color\":\"#E5ECF6\",\"width\":0.5},\"pattern\":{\"fillmode\":\"overlay\",\"size\":10,\"solidity\":0.2}},\"type\":\"barpolar\"}],\"pie\":[{\"automargin\":true,\"type\":\"pie\"}]},\"layout\":{\"autotypenumbers\":\"strict\",\"colorway\":[\"#636efa\",\"#EF553B\",\"#00cc96\",\"#ab63fa\",\"#FFA15A\",\"#19d3f3\",\"#FF6692\",\"#B6E880\",\"#FF97FF\",\"#FECB52\"],\"font\":{\"color\":\"#2a3f5f\"},\"hovermode\":\"closest\",\"hoverlabel\":{\"align\":\"left\"},\"paper_bgcolor\":\"white\",\"plot_bgcolor\":\"#E5ECF6\",\"polar\":{\"bgcolor\":\"#E5ECF6\",\"angularaxis\":{\"gridcolor\":\"white\",\"linecolor\":\"white\",\"ticks\":\"\"},\"radialaxis\":{\"gridcolor\":\"white\",\"linecolor\":\"white\",\"ticks\":\"\"}},\"ternary\":{\"bgcolor\":\"#E5ECF6\",\"aaxis\":{\"gridcolor\":\"white\",\"linecolor\":\"white\",\"ticks\":\"\"},\"baxis\":{\"gridcolor\":\"white\",\"linecolor\":\"white\",\"ticks\":\"\"},\"caxis\":{\"gridcolor\":\"white\",\"linecolor\":\"white\",\"ticks\":\"\"}},\"coloraxis\":{\"colorbar\":{\"outlinewidth\":0,\"ticks\":\"\"}},\"colorscale\":{\"sequential\":[[0.0,\"#0d0887\"],[0.1111111111111111,\"#46039f\"],[0.2222222222222222,\"#7201a8\"],[0.3333333333333333,\"#9c179e\"],[0.4444444444444444,\"#bd3786\"],[0.5555555555555556,\"#d8576b\"],[0.6666666666666666,\"#ed7953\"],[0.7777777777777778,\"#fb9f3a\"],[0.8888888888888888,\"#fdca26\"],[1.0,\"#f0f921\"]],\"sequentialminus\":[[0.0,\"#0d0887\"],[0.1111111111111111,\"#46039f\"],[0.2222222222222222,\"#7201a8\"],[0.3333333333333333,\"#9c179e\"],[0.4444444444444444,\"#bd3786\"],[0.5555555555555556,\"#d8576b\"],[0.6666666666666666,\"#ed7953\"],[0.7777777777777778,\"#fb9f3a\"],[0.8888888888888888,\"#fdca26\"],[1.0,\"#f0f921\"]],\"diverging\":[[0,\"#8e0152\"],[0.1,\"#c51b7d\"],[0.2,\"#de77ae\"],[0.3,\"#f1b6da\"],[0.4,\"#fde0ef\"],[0.5,\"#f7f7f7\"],[0.6,\"#e6f5d0\"],[0.7,\"#b8e186\"],[0.8,\"#7fbc41\"],[0.9,\"#4d9221\"],[1,\"#276419\"]]},\"xaxis\":{\"gridcolor\":\"white\",\"linecolor\":\"white\",\"ticks\":\"\",\"title\":{\"standoff\":15},\"zerolinecolor\":\"white\",\"automargin\":true,\"zerolinewidth\":2},\"yaxis\":{\"gridcolor\":\"white\",\"linecolor\":\"white\",\"ticks\":\"\",\"title\":{\"standoff\":15},\"zerolinecolor\":\"white\",\"automargin\":true,\"zerolinewidth\":2},\"scene\":{\"xaxis\":{\"backgroundcolor\":\"#E5ECF6\",\"gridcolor\":\"white\",\"linecolor\":\"white\",\"showbackground\":true,\"ticks\":\"\",\"zerolinecolor\":\"white\",\"gridwidth\":2},\"yaxis\":{\"backgroundcolor\":\"#E5ECF6\",\"gridcolor\":\"white\",\"linecolor\":\"white\",\"showbackground\":true,\"ticks\":\"\",\"zerolinecolor\":\"white\",\"gridwidth\":2},\"zaxis\":{\"backgroundcolor\":\"#E5ECF6\",\"gridcolor\":\"white\",\"linecolor\":\"white\",\"showbackground\":true,\"ticks\":\"\",\"zerolinecolor\":\"white\",\"gridwidth\":2}},\"shapedefaults\":{\"line\":{\"color\":\"#2a3f5f\"}},\"annotationdefaults\":{\"arrowcolor\":\"#2a3f5f\",\"arrowhead\":0,\"arrowwidth\":1},\"geo\":{\"bgcolor\":\"white\",\"landcolor\":\"#E5ECF6\",\"subunitcolor\":\"white\",\"showland\":true,\"showlakes\":true,\"lakecolor\":\"white\"},\"title\":{\"x\":0.05},\"mapbox\":{\"style\":\"light\"}}},\"xaxis\":{\"anchor\":\"y\",\"domain\":[0.0,1.0],\"scaleanchor\":\"y\",\"constrain\":\"domain\",\"title\":{\"text\":\"メンバー\"}},\"yaxis\":{\"anchor\":\"x\",\"domain\":[0.0,1.0],\"autorange\":\"reversed\",\"constrain\":\"domain\",\"title\":{\"text\":\"メンバー\"}},\"coloraxis\":{\"colorbar\":{\"title\":{\"text\":\"シナジー強度\"}},\"colorscale\":[[0.0,\"rgb(247,251,255)\"],[0.125,\"rgb(222,235,247)\"],[0.25,\"rgb(198,219,239)\"],[0.375,\"rgb(158,202,225)\"],[0.5,\"rgb(107,174,214)\"],[0.625,\"rgb(66,146,198)\"],[0.75,\"rgb(33,113,181)\"],[0.875,\"rgb(8,81,156)\"],[1.0,\"rgb(8,48,107)\"]]},\"margin\":{\"t\":60},\"title\":{\"text\":\"V2: 総合シナジーマトリックス（セマンティック版）\"}},                        {\"responsive\": true}                    ).then(function(){\n",
              "                            \n",
              "var gd = document.getElementById('3ccb99ef-91cd-4446-b701-7ce132cf7603');\n",
              "var x = new MutationObserver(function (mutations, observer) {{\n",
              "        var display = window.getComputedStyle(gd).display;\n",
              "        if (!display || display === 'none') {{\n",
              "            console.log([gd, 'removed!']);\n",
              "            Plotly.purge(gd);\n",
              "            observer.disconnect();\n",
              "        }}\n",
              "}});\n",
              "\n",
              "// Listen for the removal of the full notebook cells\n",
              "var notebookContainer = gd.closest('#notebook-container');\n",
              "if (notebookContainer) {{\n",
              "    x.observe(notebookContainer, {childList: true});\n",
              "}}\n",
              "\n",
              "// Listen for the clearing of the current output cell\n",
              "var outputEl = gd.closest('.output');\n",
              "if (outputEl) {{\n",
              "    x.observe(outputEl, {childList: true});\n",
              "}}\n",
              "\n",
              "                        })                };                            </script>        </div>\n",
              "</body>\n",
              "</html>"
            ]
          },
          "metadata": {}
        },
        {
          "output_type": "stream",
          "name": "stdout",
          "text": [
            "完了\n"
          ]
        }
      ]
    },
    {
      "cell_type": "code",
      "source": [
        "print(\"グラフ2/5: 動的成長軌道の描画テスト...\")\n",
        "viz_engine.create_growth_trajectory().show()\n",
        "print(\"完了\")"
      ],
      "metadata": {
        "colab": {
          "base_uri": "https://localhost:8080/",
          "height": 580
        },
        "id": "uHtwpx7a-Iap",
        "outputId": "81469888-c6e2-4e25-e344-74b9ef6c1060"
      },
      "execution_count": 20,
      "outputs": [
        {
          "output_type": "stream",
          "name": "stdout",
          "text": [
            "グラフ2/5: 動的成長軌道の描画テスト...\n"
          ]
        },
        {
          "output_type": "display_data",
          "data": {
            "text/html": [
              "<html>\n",
              "<head><meta charset=\"utf-8\" /></head>\n",
              "<body>\n",
              "    <div>            <script src=\"https://cdnjs.cloudflare.com/ajax/libs/mathjax/2.7.5/MathJax.js?config=TeX-AMS-MML_SVG\"></script><script type=\"text/javascript\">if (window.MathJax && window.MathJax.Hub && window.MathJax.Hub.Config) {window.MathJax.Hub.Config({SVG: {font: \"STIX-Web\"}});}</script>                <script type=\"text/javascript\">window.PlotlyConfig = {MathJaxConfig: 'local'};</script>\n",
              "        <script charset=\"utf-8\" src=\"https://cdn.plot.ly/plotly-2.35.2.min.js\"></script>                <div id=\"08177a22-5973-4d00-8521-8a375aa548ff\" class=\"plotly-graph-div\" style=\"height:525px; width:100%;\"></div>            <script type=\"text/javascript\">                                    window.PLOTLYENV=window.PLOTLYENV || {};                                    if (document.getElementById(\"08177a22-5973-4d00-8521-8a375aa548ff\")) {                    Plotly.newPlot(                        \"08177a22-5973-4d00-8521-8a375aa548ff\",                        [{\"hovertemplate\":\"variable=Arale Cohen\\u003cbr\\u003e時間（月）=%{x}\\u003cbr\\u003eパフォーマンス指数=%{y}\\u003cextra\\u003e\\u003c\\u002fextra\\u003e\",\"legendgroup\":\"Arale Cohen\",\"line\":{\"color\":\"#636efa\",\"dash\":\"solid\"},\"marker\":{\"symbol\":\"circle\"},\"mode\":\"lines\",\"name\":\"Arale Cohen\",\"orientation\":\"v\",\"showlegend\":true,\"x\":[0.0,0.25263157894736843,0.5052631578947369,0.7578947368421053,1.0105263157894737,1.263157894736842,1.5157894736842106,1.7684210526315791,2.0210526315789474,2.2736842105263158,2.526315789473684,2.778947368421053,3.031578947368421,3.2842105263157895,3.5368421052631582,3.7894736842105265,4.042105263157895,4.294736842105263,4.5473684210526315,4.8,5.052631578947368,5.305263157894737,5.557894736842106,5.810526315789474,6.063157894736842,6.315789473684211,6.568421052631579,6.821052631578947,7.0736842105263165,7.326315789473685,7.578947368421053,7.831578947368421,8.08421052631579,8.336842105263159,8.589473684210526,8.842105263157896,9.094736842105263,9.347368421052632,9.6,9.852631578947369,10.105263157894736,10.357894736842105,10.610526315789475,10.863157894736842,11.115789473684211,11.368421052631579,11.621052631578948,11.873684210526315,12.126315789473685,12.378947368421054,12.631578947368421,12.88421052631579,13.136842105263158,13.389473684210527,13.642105263157895,13.894736842105264,14.147368421052633,14.4,14.65263157894737,14.905263157894737,15.157894736842106,15.410526315789474,15.663157894736843,15.91578947368421,16.16842105263158,16.42105263157895,16.673684210526318,16.926315789473684,17.178947368421053,17.431578947368422,17.68421052631579,17.936842105263157,18.189473684210526,18.442105263157895,18.694736842105264,18.947368421052634,19.2,19.45263157894737,19.705263157894738,19.957894736842107,20.210526315789473,20.46315789473684,20.71578947368421,20.96842105263158,21.22105263157895,21.473684210526315,21.726315789473684,21.978947368421053,22.231578947368423,22.484210526315792,22.736842105263158,22.989473684210527,23.242105263157896,23.494736842105265,23.74736842105263,24.0],\"xaxis\":\"x\",\"y\":[1.0,1.129188330151338,1.273320481473976,1.4336177523192524,1.611263194540303,1.807358686431656,2.022874600011192,2.258592002979832,2.5150405096331667,2.7924335251627754,3.0906055444992906,3.4089565091067158,3.7464087172279665,4.1013823998654875,4.4717949796714915,4.85508811868421,5.248284086056753,5.648069620186047,6.050903870371085,6.453142666675552,6.851170203573106,7.241527894785463,7.621031198604487,7.9868659683575585,8.33665899397726,8.668520168846474,8.981056606231661,9.27336137244727,9.544981602909266,9.795871113400798,10.02633334748802,10.236959734058239,10.428567863835585,10.602142832897096,10.758784065088419,10.89965904980497,11.0259643215512,11.138894104228447,11.239615739782451,11.329251398829333,11.408865186942707,11.479454764207466,11.54194662510397,11.59719428627517,11.64597865234218,11.689010005897126,11.72693115813513,11.760321331489548,11.78970048153965,11.815533864274158,11.838236611227625,11.858178220940392,11.875686874888656,11.891053524998707,11.90453569402764,11.91636100346476,11.926730375232344,11.935821006288151,11.943788996215751,11.950771769899973,11.956890211586634,11.962250584323348,11.96694626113918,11.971059242217114,11.974661505974648,11.977816221723135,11.980578802476021,11.982997838360758,11.985115942542011,11.986970461366992,11.988594132074796,11.990015639261381,11.991260112689625,11.992349572722771,11.993303302995994,11.994138196759401,11.99486904713682,11.995508810073979,11.996068832865728,11.996559037071329,11.996988125954227,11.997363719206565,11.997692482929807,11.997980257231651,11.998232148857035,11.998452628288831,11.998645615360342,11.998814533597145,11.998962386955462,11.999091789912542,11.999205061533704,11.999304211468795,11.999390993745545,11.999466959130803,11.999533443858716,11.999591639421718],\"yaxis\":\"y\",\"type\":\"scatter\"},{\"hovertemplate\":\"variable=Yanay Geva\\u003cbr\\u003e時間（月）=%{x}\\u003cbr\\u003eパフォーマンス指数=%{y}\\u003cextra\\u003e\\u003c\\u002fextra\\u003e\",\"legendgroup\":\"Yanay Geva\",\"line\":{\"color\":\"#EF553B\",\"dash\":\"solid\"},\"marker\":{\"symbol\":\"circle\"},\"mode\":\"lines\",\"name\":\"Yanay Geva\",\"orientation\":\"v\",\"showlegend\":true,\"x\":[0.0,0.25263157894736843,0.5052631578947369,0.7578947368421053,1.0105263157894737,1.263157894736842,1.5157894736842106,1.7684210526315791,2.0210526315789474,2.2736842105263158,2.526315789473684,2.778947368421053,3.031578947368421,3.2842105263157895,3.5368421052631582,3.7894736842105265,4.042105263157895,4.294736842105263,4.5473684210526315,4.8,5.052631578947368,5.305263157894737,5.557894736842106,5.810526315789474,6.063157894736842,6.315789473684211,6.568421052631579,6.821052631578947,7.0736842105263165,7.326315789473685,7.578947368421053,7.831578947368421,8.08421052631579,8.336842105263159,8.589473684210526,8.842105263157896,9.094736842105263,9.347368421052632,9.6,9.852631578947369,10.105263157894736,10.357894736842105,10.610526315789475,10.863157894736842,11.115789473684211,11.368421052631579,11.621052631578948,11.873684210526315,12.126315789473685,12.378947368421054,12.631578947368421,12.88421052631579,13.136842105263158,13.389473684210527,13.642105263157895,13.894736842105264,14.147368421052633,14.4,14.65263157894737,14.905263157894737,15.157894736842106,15.410526315789474,15.663157894736843,15.91578947368421,16.16842105263158,16.42105263157895,16.673684210526318,16.926315789473684,17.178947368421053,17.431578947368422,17.68421052631579,17.936842105263157,18.189473684210526,18.442105263157895,18.694736842105264,18.947368421052634,19.2,19.45263157894737,19.705263157894738,19.957894736842107,20.210526315789473,20.46315789473684,20.71578947368421,20.96842105263158,21.22105263157895,21.473684210526315,21.726315789473684,21.978947368421053,22.231578947368423,22.484210526315792,22.736842105263158,22.989473684210527,23.242105263157896,23.494736842105265,23.74736842105263,24.0],\"xaxis\":\"x\",\"y\":[1.0,1.1168194280181927,1.2464791492035396,1.390039573040004,1.54854701387246,1.723002462019214,1.9143242934487095,2.1233046342895445,2.350561259116008,2.5964859272744163,2.8611922523141824,3.144466365058994,3.4457244335012067,3.7639815359854194,4.097836108847423,4.445473823054659,4.80469328471421,5.172953790934094,5.547444253387891,5.925169180563452,6.303046330435367,6.678009087347036,7.047106564570984,7.407594349423581,7.7570103659098155,8.09323198782204,8.414512539206287,8.719497187046942,9.007220164103257,9.277086027480863,9.52883874273876,9.762522340113124,9.978436810552852,10.177092405983817,10.359164902135944,10.525453762777449,10.676844313723272,10.814274901257132,10.938709045262158,11.051112632174336,11.15243579906318,11.24359905568304,11.325483107744077,11.398921832772814,11.464697855949334,11.523540217322436,11.576123730210696,11.623069580554658,11.664946877263919,11.702274888143654,11.735525706167873,11.765127199371484,11.79146610059949,11.814891138166805,11.835716111136724,11.854222881681478,11.870664192255274,11.885266394436863,11.89823192237018,11.909741653220912,11.919957024069197,11.929022005841484,11.937064900060905,11.944199970172075,11.950528914797427,11.956142208918754,11.96112030340205,11.965534702757562,11.969448949295233,11.972919479637591,11.975996415839532,11.978724255410008,11.98114249329137,11.983286184589307,11.985186429401864,11.986870822686171,11.988363841172944,11.989687196252184,11.990860145325236,11.991899750868066,11.992821159359924,11.993637801929811,11.994361579542682,11.995003048961491,11.995571562428383,11.996075409676287,11.99652194727109,11.99691768556374,11.99726840508883,11.997579208386224,11.997854660975579,11.998098780503456,11.998315121494237,11.998506856573007,11.998676766423209,11.9988273482781],\"yaxis\":\"y\",\"type\":\"scatter\"},{\"hovertemplate\":\"variable=Yasuyuki Sakane\\u003cbr\\u003e時間（月）=%{x}\\u003cbr\\u003eパフォーマンス指数=%{y}\\u003cextra\\u003e\\u003c\\u002fextra\\u003e\",\"legendgroup\":\"Yasuyuki Sakane\",\"line\":{\"color\":\"#00cc96\",\"dash\":\"solid\"},\"marker\":{\"symbol\":\"circle\"},\"mode\":\"lines\",\"name\":\"Yasuyuki Sakane\",\"orientation\":\"v\",\"showlegend\":true,\"x\":[0.0,0.25263157894736843,0.5052631578947369,0.7578947368421053,1.0105263157894737,1.263157894736842,1.5157894736842106,1.7684210526315791,2.0210526315789474,2.2736842105263158,2.526315789473684,2.778947368421053,3.031578947368421,3.2842105263157895,3.5368421052631582,3.7894736842105265,4.042105263157895,4.294736842105263,4.5473684210526315,4.8,5.052631578947368,5.305263157894737,5.557894736842106,5.810526315789474,6.063157894736842,6.315789473684211,6.568421052631579,6.821052631578947,7.0736842105263165,7.326315789473685,7.578947368421053,7.831578947368421,8.08421052631579,8.336842105263159,8.589473684210526,8.842105263157896,9.094736842105263,9.347368421052632,9.6,9.852631578947369,10.105263157894736,10.357894736842105,10.610526315789475,10.863157894736842,11.115789473684211,11.368421052631579,11.621052631578948,11.873684210526315,12.126315789473685,12.378947368421054,12.631578947368421,12.88421052631579,13.136842105263158,13.389473684210527,13.642105263157895,13.894736842105264,14.147368421052633,14.4,14.65263157894737,14.905263157894737,15.157894736842106,15.410526315789474,15.663157894736843,15.91578947368421,16.16842105263158,16.42105263157895,16.673684210526318,16.926315789473684,17.178947368421053,17.431578947368422,17.68421052631579,17.936842105263157,18.189473684210526,18.442105263157895,18.694736842105264,18.947368421052634,19.2,19.45263157894737,19.705263157894738,19.957894736842107,20.210526315789473,20.46315789473684,20.71578947368421,20.96842105263158,21.22105263157895,21.473684210526315,21.726315789473684,21.978947368421053,22.231578947368423,22.484210526315792,22.736842105263158,22.989473684210527,23.242105263157896,23.494736842105265,23.74736842105263,24.0],\"xaxis\":\"x\",\"y\":[1.0,1.1478264434792196,1.3139740683582277,1.4999159395153254,1.707033808187741,1.9365517622369735,2.189460439503346,2.4664326039825557,2.7677361830674156,3.093148713807047,3.441881340910992,3.81252115502215,4.2029997636450345,4.6105967254542195,5.031982894564575,5.4633062187515495,5.900317375838983,6.338527029065082,6.773384494324512,7.200462180944445,7.615630593621241,8.0152092675036,8.396083267878637,8.755777917819222,9.092490455150864,9.405081541764213,9.693033010249914,9.956380255584527,10.195628713391441,10.411662766055906,10.60565468842711,10.778979107240461,10.933136766916,11.069689671472897,11.190208280647338,11.296230513581813,11.389231231431472,11.470601403944322,11.541634831187359,11.603521164909894,11.657343788686585,11.70408128770328,11.744611459432528,11.779717073888673,11.810092608648917,11.836351538435311,11.859033761272366,11.878612898034739,11.895503249346918,11.910066380252696,11.922617173850151,11.933429361551116,11.942740529014257,11.950756620892978,11.957655939014188,11.963592700928931,11.968700165759103,11.97309341152872,11.976871735025556,11.980120774709103,11.982914356239771,11.985316078248104,11.987380730769283,11.989155485835452,11.990680941586202,11.991992045103595,11.993118861316756,11.994087244759612,11.994919444084553,11.995634583964339,11.996249114998927,11.996777177864233,11.997230926624878,11.99762081452159,11.997955822304535,11.998243671485657,11.998490996924192,11.99870350168252,11.998886088804033,11.99904296036896,11.999177740258276,11.999293541090752,11.99939303514361,11.99947852067592,11.999551967829547,11.999615069939642,11.999669286055289,11.999715865296205,11.999755884898288,11.999790262150976,11.999819801699166,11.999845184066334,11.999866990781413,11.999885729529561,11.999901825750714,11.999915655795734],\"yaxis\":\"y\",\"type\":\"scatter\"}],                        {\"template\":{\"data\":{\"histogram2dcontour\":[{\"type\":\"histogram2dcontour\",\"colorbar\":{\"outlinewidth\":0,\"ticks\":\"\"},\"colorscale\":[[0.0,\"#0d0887\"],[0.1111111111111111,\"#46039f\"],[0.2222222222222222,\"#7201a8\"],[0.3333333333333333,\"#9c179e\"],[0.4444444444444444,\"#bd3786\"],[0.5555555555555556,\"#d8576b\"],[0.6666666666666666,\"#ed7953\"],[0.7777777777777778,\"#fb9f3a\"],[0.8888888888888888,\"#fdca26\"],[1.0,\"#f0f921\"]]}],\"choropleth\":[{\"type\":\"choropleth\",\"colorbar\":{\"outlinewidth\":0,\"ticks\":\"\"}}],\"histogram2d\":[{\"type\":\"histogram2d\",\"colorbar\":{\"outlinewidth\":0,\"ticks\":\"\"},\"colorscale\":[[0.0,\"#0d0887\"],[0.1111111111111111,\"#46039f\"],[0.2222222222222222,\"#7201a8\"],[0.3333333333333333,\"#9c179e\"],[0.4444444444444444,\"#bd3786\"],[0.5555555555555556,\"#d8576b\"],[0.6666666666666666,\"#ed7953\"],[0.7777777777777778,\"#fb9f3a\"],[0.8888888888888888,\"#fdca26\"],[1.0,\"#f0f921\"]]}],\"heatmap\":[{\"type\":\"heatmap\",\"colorbar\":{\"outlinewidth\":0,\"ticks\":\"\"},\"colorscale\":[[0.0,\"#0d0887\"],[0.1111111111111111,\"#46039f\"],[0.2222222222222222,\"#7201a8\"],[0.3333333333333333,\"#9c179e\"],[0.4444444444444444,\"#bd3786\"],[0.5555555555555556,\"#d8576b\"],[0.6666666666666666,\"#ed7953\"],[0.7777777777777778,\"#fb9f3a\"],[0.8888888888888888,\"#fdca26\"],[1.0,\"#f0f921\"]]}],\"heatmapgl\":[{\"type\":\"heatmapgl\",\"colorbar\":{\"outlinewidth\":0,\"ticks\":\"\"},\"colorscale\":[[0.0,\"#0d0887\"],[0.1111111111111111,\"#46039f\"],[0.2222222222222222,\"#7201a8\"],[0.3333333333333333,\"#9c179e\"],[0.4444444444444444,\"#bd3786\"],[0.5555555555555556,\"#d8576b\"],[0.6666666666666666,\"#ed7953\"],[0.7777777777777778,\"#fb9f3a\"],[0.8888888888888888,\"#fdca26\"],[1.0,\"#f0f921\"]]}],\"contourcarpet\":[{\"type\":\"contourcarpet\",\"colorbar\":{\"outlinewidth\":0,\"ticks\":\"\"}}],\"contour\":[{\"type\":\"contour\",\"colorbar\":{\"outlinewidth\":0,\"ticks\":\"\"},\"colorscale\":[[0.0,\"#0d0887\"],[0.1111111111111111,\"#46039f\"],[0.2222222222222222,\"#7201a8\"],[0.3333333333333333,\"#9c179e\"],[0.4444444444444444,\"#bd3786\"],[0.5555555555555556,\"#d8576b\"],[0.6666666666666666,\"#ed7953\"],[0.7777777777777778,\"#fb9f3a\"],[0.8888888888888888,\"#fdca26\"],[1.0,\"#f0f921\"]]}],\"surface\":[{\"type\":\"surface\",\"colorbar\":{\"outlinewidth\":0,\"ticks\":\"\"},\"colorscale\":[[0.0,\"#0d0887\"],[0.1111111111111111,\"#46039f\"],[0.2222222222222222,\"#7201a8\"],[0.3333333333333333,\"#9c179e\"],[0.4444444444444444,\"#bd3786\"],[0.5555555555555556,\"#d8576b\"],[0.6666666666666666,\"#ed7953\"],[0.7777777777777778,\"#fb9f3a\"],[0.8888888888888888,\"#fdca26\"],[1.0,\"#f0f921\"]]}],\"mesh3d\":[{\"type\":\"mesh3d\",\"colorbar\":{\"outlinewidth\":0,\"ticks\":\"\"}}],\"scatter\":[{\"fillpattern\":{\"fillmode\":\"overlay\",\"size\":10,\"solidity\":0.2},\"type\":\"scatter\"}],\"parcoords\":[{\"type\":\"parcoords\",\"line\":{\"colorbar\":{\"outlinewidth\":0,\"ticks\":\"\"}}}],\"scatterpolargl\":[{\"type\":\"scatterpolargl\",\"marker\":{\"colorbar\":{\"outlinewidth\":0,\"ticks\":\"\"}}}],\"bar\":[{\"error_x\":{\"color\":\"#2a3f5f\"},\"error_y\":{\"color\":\"#2a3f5f\"},\"marker\":{\"line\":{\"color\":\"#E5ECF6\",\"width\":0.5},\"pattern\":{\"fillmode\":\"overlay\",\"size\":10,\"solidity\":0.2}},\"type\":\"bar\"}],\"scattergeo\":[{\"type\":\"scattergeo\",\"marker\":{\"colorbar\":{\"outlinewidth\":0,\"ticks\":\"\"}}}],\"scatterpolar\":[{\"type\":\"scatterpolar\",\"marker\":{\"colorbar\":{\"outlinewidth\":0,\"ticks\":\"\"}}}],\"histogram\":[{\"marker\":{\"pattern\":{\"fillmode\":\"overlay\",\"size\":10,\"solidity\":0.2}},\"type\":\"histogram\"}],\"scattergl\":[{\"type\":\"scattergl\",\"marker\":{\"colorbar\":{\"outlinewidth\":0,\"ticks\":\"\"}}}],\"scatter3d\":[{\"type\":\"scatter3d\",\"line\":{\"colorbar\":{\"outlinewidth\":0,\"ticks\":\"\"}},\"marker\":{\"colorbar\":{\"outlinewidth\":0,\"ticks\":\"\"}}}],\"scattermapbox\":[{\"type\":\"scattermapbox\",\"marker\":{\"colorbar\":{\"outlinewidth\":0,\"ticks\":\"\"}}}],\"scatterternary\":[{\"type\":\"scatterternary\",\"marker\":{\"colorbar\":{\"outlinewidth\":0,\"ticks\":\"\"}}}],\"scattercarpet\":[{\"type\":\"scattercarpet\",\"marker\":{\"colorbar\":{\"outlinewidth\":0,\"ticks\":\"\"}}}],\"carpet\":[{\"aaxis\":{\"endlinecolor\":\"#2a3f5f\",\"gridcolor\":\"white\",\"linecolor\":\"white\",\"minorgridcolor\":\"white\",\"startlinecolor\":\"#2a3f5f\"},\"baxis\":{\"endlinecolor\":\"#2a3f5f\",\"gridcolor\":\"white\",\"linecolor\":\"white\",\"minorgridcolor\":\"white\",\"startlinecolor\":\"#2a3f5f\"},\"type\":\"carpet\"}],\"table\":[{\"cells\":{\"fill\":{\"color\":\"#EBF0F8\"},\"line\":{\"color\":\"white\"}},\"header\":{\"fill\":{\"color\":\"#C8D4E3\"},\"line\":{\"color\":\"white\"}},\"type\":\"table\"}],\"barpolar\":[{\"marker\":{\"line\":{\"color\":\"#E5ECF6\",\"width\":0.5},\"pattern\":{\"fillmode\":\"overlay\",\"size\":10,\"solidity\":0.2}},\"type\":\"barpolar\"}],\"pie\":[{\"automargin\":true,\"type\":\"pie\"}]},\"layout\":{\"autotypenumbers\":\"strict\",\"colorway\":[\"#636efa\",\"#EF553B\",\"#00cc96\",\"#ab63fa\",\"#FFA15A\",\"#19d3f3\",\"#FF6692\",\"#B6E880\",\"#FF97FF\",\"#FECB52\"],\"font\":{\"color\":\"#2a3f5f\"},\"hovermode\":\"closest\",\"hoverlabel\":{\"align\":\"left\"},\"paper_bgcolor\":\"white\",\"plot_bgcolor\":\"#E5ECF6\",\"polar\":{\"bgcolor\":\"#E5ECF6\",\"angularaxis\":{\"gridcolor\":\"white\",\"linecolor\":\"white\",\"ticks\":\"\"},\"radialaxis\":{\"gridcolor\":\"white\",\"linecolor\":\"white\",\"ticks\":\"\"}},\"ternary\":{\"bgcolor\":\"#E5ECF6\",\"aaxis\":{\"gridcolor\":\"white\",\"linecolor\":\"white\",\"ticks\":\"\"},\"baxis\":{\"gridcolor\":\"white\",\"linecolor\":\"white\",\"ticks\":\"\"},\"caxis\":{\"gridcolor\":\"white\",\"linecolor\":\"white\",\"ticks\":\"\"}},\"coloraxis\":{\"colorbar\":{\"outlinewidth\":0,\"ticks\":\"\"}},\"colorscale\":{\"sequential\":[[0.0,\"#0d0887\"],[0.1111111111111111,\"#46039f\"],[0.2222222222222222,\"#7201a8\"],[0.3333333333333333,\"#9c179e\"],[0.4444444444444444,\"#bd3786\"],[0.5555555555555556,\"#d8576b\"],[0.6666666666666666,\"#ed7953\"],[0.7777777777777778,\"#fb9f3a\"],[0.8888888888888888,\"#fdca26\"],[1.0,\"#f0f921\"]],\"sequentialminus\":[[0.0,\"#0d0887\"],[0.1111111111111111,\"#46039f\"],[0.2222222222222222,\"#7201a8\"],[0.3333333333333333,\"#9c179e\"],[0.4444444444444444,\"#bd3786\"],[0.5555555555555556,\"#d8576b\"],[0.6666666666666666,\"#ed7953\"],[0.7777777777777778,\"#fb9f3a\"],[0.8888888888888888,\"#fdca26\"],[1.0,\"#f0f921\"]],\"diverging\":[[0,\"#8e0152\"],[0.1,\"#c51b7d\"],[0.2,\"#de77ae\"],[0.3,\"#f1b6da\"],[0.4,\"#fde0ef\"],[0.5,\"#f7f7f7\"],[0.6,\"#e6f5d0\"],[0.7,\"#b8e186\"],[0.8,\"#7fbc41\"],[0.9,\"#4d9221\"],[1,\"#276419\"]]},\"xaxis\":{\"gridcolor\":\"white\",\"linecolor\":\"white\",\"ticks\":\"\",\"title\":{\"standoff\":15},\"zerolinecolor\":\"white\",\"automargin\":true,\"zerolinewidth\":2},\"yaxis\":{\"gridcolor\":\"white\",\"linecolor\":\"white\",\"ticks\":\"\",\"title\":{\"standoff\":15},\"zerolinecolor\":\"white\",\"automargin\":true,\"zerolinewidth\":2},\"scene\":{\"xaxis\":{\"backgroundcolor\":\"#E5ECF6\",\"gridcolor\":\"white\",\"linecolor\":\"white\",\"showbackground\":true,\"ticks\":\"\",\"zerolinecolor\":\"white\",\"gridwidth\":2},\"yaxis\":{\"backgroundcolor\":\"#E5ECF6\",\"gridcolor\":\"white\",\"linecolor\":\"white\",\"showbackground\":true,\"ticks\":\"\",\"zerolinecolor\":\"white\",\"gridwidth\":2},\"zaxis\":{\"backgroundcolor\":\"#E5ECF6\",\"gridcolor\":\"white\",\"linecolor\":\"white\",\"showbackground\":true,\"ticks\":\"\",\"zerolinecolor\":\"white\",\"gridwidth\":2}},\"shapedefaults\":{\"line\":{\"color\":\"#2a3f5f\"}},\"annotationdefaults\":{\"arrowcolor\":\"#2a3f5f\",\"arrowhead\":0,\"arrowwidth\":1},\"geo\":{\"bgcolor\":\"white\",\"landcolor\":\"#E5ECF6\",\"subunitcolor\":\"white\",\"showland\":true,\"showlakes\":true,\"lakecolor\":\"white\"},\"title\":{\"x\":0.05},\"mapbox\":{\"style\":\"light\"}}},\"xaxis\":{\"anchor\":\"y\",\"domain\":[0.0,1.0],\"title\":{\"text\":\"時間（月）\"}},\"yaxis\":{\"anchor\":\"x\",\"domain\":[0.0,1.0],\"title\":{\"text\":\"パフォーマンス指数\"}},\"legend\":{\"title\":{\"text\":\"variable\"},\"tracegroupgap\":0},\"title\":{\"text\":\"V2: 動的成長軌道シミュレーション（安定版）\"}},                        {\"responsive\": true}                    ).then(function(){\n",
              "                            \n",
              "var gd = document.getElementById('08177a22-5973-4d00-8521-8a375aa548ff');\n",
              "var x = new MutationObserver(function (mutations, observer) {{\n",
              "        var display = window.getComputedStyle(gd).display;\n",
              "        if (!display || display === 'none') {{\n",
              "            console.log([gd, 'removed!']);\n",
              "            Plotly.purge(gd);\n",
              "            observer.disconnect();\n",
              "        }}\n",
              "}});\n",
              "\n",
              "// Listen for the removal of the full notebook cells\n",
              "var notebookContainer = gd.closest('#notebook-container');\n",
              "if (notebookContainer) {{\n",
              "    x.observe(notebookContainer, {childList: true});\n",
              "}}\n",
              "\n",
              "// Listen for the clearing of the current output cell\n",
              "var outputEl = gd.closest('.output');\n",
              "if (outputEl) {{\n",
              "    x.observe(outputEl, {childList: true});\n",
              "}}\n",
              "\n",
              "                        })                };                            </script>        </div>\n",
              "</body>\n",
              "</html>"
            ]
          },
          "metadata": {}
        },
        {
          "output_type": "stream",
          "name": "stdout",
          "text": [
            "完了\n"
          ]
        }
      ]
    },
    {
      "cell_type": "code",
      "source": [
        "print(\"グラフ3/5: ビジネス指標ダッシュボードの描画テスト...\")\n",
        "viz_engine.create_business_metrics_dashboard().show()\n",
        "print(\"完了\")"
      ],
      "metadata": {
        "colab": {
          "base_uri": "https://localhost:8080/",
          "height": 580
        },
        "id": "npd5dtUC-Kya",
        "outputId": "a071f9ca-789c-4964-c0b2-33caddd10693"
      },
      "execution_count": 21,
      "outputs": [
        {
          "output_type": "stream",
          "name": "stdout",
          "text": [
            "グラフ3/5: ビジネス指標ダッシュボードの描画テスト...\n"
          ]
        },
        {
          "output_type": "display_data",
          "data": {
            "text/html": [
              "<html>\n",
              "<head><meta charset=\"utf-8\" /></head>\n",
              "<body>\n",
              "    <div>            <script src=\"https://cdnjs.cloudflare.com/ajax/libs/mathjax/2.7.5/MathJax.js?config=TeX-AMS-MML_SVG\"></script><script type=\"text/javascript\">if (window.MathJax && window.MathJax.Hub && window.MathJax.Hub.Config) {window.MathJax.Hub.Config({SVG: {font: \"STIX-Web\"}});}</script>                <script type=\"text/javascript\">window.PlotlyConfig = {MathJaxConfig: 'local'};</script>\n",
              "        <script charset=\"utf-8\" src=\"https://cdn.plot.ly/plotly-2.35.2.min.js\"></script>                <div id=\"1c06ceae-deea-405b-be81-f0a2303a24bb\" class=\"plotly-graph-div\" style=\"height:525px; width:100%;\"></div>            <script type=\"text/javascript\">                                    window.PLOTLYENV=window.PLOTLYENV || {};                                    if (document.getElementById(\"1c06ceae-deea-405b-be81-f0a2303a24bb\")) {                    Plotly.newPlot(                        \"1c06ceae-deea-405b-be81-f0a2303a24bb\",                        [{\"name\":\"売上成長率\",\"x\":[0.0,0.25263157894736843,0.5052631578947369,0.7578947368421053,1.0105263157894737,1.263157894736842,1.5157894736842106,1.7684210526315791,2.0210526315789474,2.2736842105263158,2.526315789473684,2.778947368421053,3.031578947368421,3.2842105263157895,3.5368421052631582,3.7894736842105265,4.042105263157895,4.294736842105263,4.5473684210526315,4.8,5.052631578947368,5.305263157894737,5.557894736842106,5.810526315789474,6.063157894736842,6.315789473684211,6.568421052631579,6.821052631578947,7.0736842105263165,7.326315789473685,7.578947368421053,7.831578947368421,8.08421052631579,8.336842105263159,8.589473684210526,8.842105263157896,9.094736842105263,9.347368421052632,9.6,9.852631578947369,10.105263157894736,10.357894736842105,10.610526315789475,10.863157894736842,11.115789473684211,11.368421052631579,11.621052631578948,11.873684210526315,12.126315789473685,12.378947368421054,12.631578947368421,12.88421052631579,13.136842105263158,13.389473684210527,13.642105263157895,13.894736842105264,14.147368421052633,14.4,14.65263157894737,14.905263157894737,15.157894736842106,15.410526315789474,15.663157894736843,15.91578947368421,16.16842105263158,16.42105263157895,16.673684210526318,16.926315789473684,17.178947368421053,17.431578947368422,17.68421052631579,17.936842105263157,18.189473684210526,18.442105263157895,18.694736842105264,18.947368421052634,19.2,19.45263157894737,19.705263157894738,19.957894736842107,20.210526315789473,20.46315789473684,20.71578947368421,20.96842105263158,21.22105263157895,21.473684210526315,21.726315789473684,21.978947368421053,22.231578947368423,22.484210526315792,22.736842105263158,22.989473684210527,23.242105263157896,23.494736842105265,23.74736842105263,24.0],\"y\":[40.163954104483125,46.966472708613566,54.98442531016612,64.43111534278037,75.54971603248043,88.61353818122971,103.92450200521748,121.80909953099794,142.61129953240493,166.6817712380309,194.36317064500787,225.97159873034212,261.774844405611,301.9687323084374,346.6534751828302,395.8125028557054,449.2964300579629,506.8145606716356,567.9359019475077,632.1004168439317,698.6400913240121,766.8080549923441,835.8130872992392,904.8561015341371,973.1652537738332,1040.026737045676,1104.8091236630075,1166.9800795065948,1226.11531161987,1281.9003028070845,1334.126056069867,1382.6802970917024,1427.5356715099808,1468.7363449754039,1506.384184012929,1540.6254354508883,1571.6384646860602,1599.6230348643603,1624.7911879552507,1647.359792858107,1667.5446614178213,1685.5560748995786,1701.5955324583285,1715.8535332957244,1728.5081875082033,1739.7244921207175,1749.6541214132685,1758.43559369094,1766.1947082847284,1773.045178741593,1779.0893765743042,1784.4191419595902,1789.1166210620645,1793.2551026822134,1796.8998268252176,1800.1087597603457,1802.9333148861658,1805.419036812403,1807.606215457248,1809.5304603435695,1811.2232131090407,1812.7122123689726,1814.0219173870657,1815.1738816612888,1816.1870880580782,1817.0782516832317,1817.8620837703284,1818.55152690156,1819.157969309073,1819.6914252232316,1820.1607026905476,1820.5735459422297,1820.9367632099456,1821.2563415058623,1821.5375428877967,1821.7849941346897,1822.0027622036332,1822.1944227287902,1822.3631197254863,1822.5116136023057,1822.6423354657181,1822.7574227749985,1822.858753680513,1822.9479807902144,1823.0265558605158,1823.0957556367134,1823.1567047287906,1823.2103902834428,1823.2576825354763,1823.299343094688,1823.336050072758,1823.3683947644267,1823.3968961823,1823.422015165891,1823.4441516845227,1823.463663631213],\"type\":\"scatter\",\"xaxis\":\"x\",\"yaxis\":\"y\"},{\"name\":\"イノベーション指数\",\"x\":[0.0,0.25263157894736843,0.5052631578947369,0.7578947368421053,1.0105263157894737,1.263157894736842,1.5157894736842106,1.7684210526315791,2.0210526315789474,2.2736842105263158,2.526315789473684,2.778947368421053,3.031578947368421,3.2842105263157895,3.5368421052631582,3.7894736842105265,4.042105263157895,4.294736842105263,4.5473684210526315,4.8,5.052631578947368,5.305263157894737,5.557894736842106,5.810526315789474,6.063157894736842,6.315789473684211,6.568421052631579,6.821052631578947,7.0736842105263165,7.326315789473685,7.578947368421053,7.831578947368421,8.08421052631579,8.336842105263159,8.589473684210526,8.842105263157896,9.094736842105263,9.347368421052632,9.6,9.852631578947369,10.105263157894736,10.357894736842105,10.610526315789475,10.863157894736842,11.115789473684211,11.368421052631579,11.621052631578948,11.873684210526315,12.126315789473685,12.378947368421054,12.631578947368421,12.88421052631579,13.136842105263158,13.389473684210527,13.642105263157895,13.894736842105264,14.147368421052633,14.4,14.65263157894737,14.905263157894737,15.157894736842106,15.410526315789474,15.663157894736843,15.91578947368421,16.16842105263158,16.42105263157895,16.673684210526318,16.926315789473684,17.178947368421053,17.431578947368422,17.68421052631579,17.936842105263157,18.189473684210526,18.442105263157895,18.694736842105264,18.947368421052634,19.2,19.45263157894737,19.705263157894738,19.957894736842107,20.210526315789473,20.46315789473684,20.71578947368421,20.96842105263158,21.22105263157895,21.473684210526315,21.726315789473684,21.978947368421053,22.231578947368423,22.484210526315792,22.736842105263158,22.989473684210527,23.242105263157896,23.494736842105265,23.74736842105263,24.0],\"y\":[20.327908208966257,26.056261384252117,33.293376639617385,42.39076538806911,53.76255173295078,67.88881814870257,85.31581735117,106.65161423695724,132.5558400284781,163.72217915117704,200.85275853552645,244.62431687692703,295.64703052373784,354.41825139077224,421.2746707039906,496.3476425016024,579.5269651837268,670.4381125395668,768.4371515333455,872.6253531241944,981.88324009543,1094.9211849919661,1210.3417539773964,1326.707438356267,1442.6073112469076,1556.7168001226978,1667.8462042122578,1774.975382711615,1877.2740136316606,1974.1082074754177,2065.035576566656,2149.791370555168,2228.2685141938728,2300.494191743732,2366.6052230684236,2426.824004378492,2481.4361320380017,2530.7706615401225,2575.183183585862,2615.041881797943,2650.716427341793,2682.5694476472813,2710.9502410710456,2736.190402732716,2758.6009926775982,2778.470949008338,2796.0664698341734,2811.6311111803016,2825.386404406447,2837.5328548297757,2848.2511633236954,2857.7035882819205,2866.035372034081,2873.376179683257,2879.841498766864,2885.5339877991883,2890.544735107397,2894.954457379731,2898.8345778422663,2902.2482367305392,2905.251194380169,2907.8926513696865,2910.215996934744,2912.2594693580845,2914.056748868991,2915.6374938515537,2917.02780819676,2918.2506580855616,2919.3262518997103,2920.2723599470846,2921.10461212283,2921.836750433747,2922.480855767774,2923.0475515750513,2923.5461746815454,2923.9849344507547,2924.3710467025876,2924.710855297407,2925.0099381110726,2925.2731922384446,2925.5049304199874,2925.7089443054547,2925.888565408704,2926.0467250430474,2926.1859981387324,2926.3086491153317,2926.416672483847,2926.5118188777437,2926.595631532101,2926.6694609803812,2926.734509661347,2926.791826008082,2926.842330244176,2926.886839427115,2926.9260626483924,2926.9606343925147],\"type\":\"scatter\",\"xaxis\":\"x2\",\"yaxis\":\"y2\"},{\"name\":\"マーケットシェア\",\"x\":[0.0,0.25263157894736843,0.5052631578947369,0.7578947368421053,1.0105263157894737,1.263157894736842,1.5157894736842106,1.7684210526315791,2.0210526315789474,2.2736842105263158,2.526315789473684,2.778947368421053,3.031578947368421,3.2842105263157895,3.5368421052631582,3.7894736842105265,4.042105263157895,4.294736842105263,4.5473684210526315,4.8,5.052631578947368,5.305263157894737,5.557894736842106,5.810526315789474,6.063157894736842,6.315789473684211,6.568421052631579,6.821052631578947,7.0736842105263165,7.326315789473685,7.578947368421053,7.831578947368421,8.08421052631579,8.336842105263159,8.589473684210526,8.842105263157896,9.094736842105263,9.347368421052632,9.6,9.852631578947369,10.105263157894736,10.357894736842105,10.610526315789475,10.863157894736842,11.115789473684211,11.368421052631579,11.621052631578948,11.873684210526315,12.126315789473685,12.378947368421054,12.631578947368421,12.88421052631579,13.136842105263158,13.389473684210527,13.642105263157895,13.894736842105264,14.147368421052633,14.4,14.65263157894737,14.905263157894737,15.157894736842106,15.410526315789474,15.663157894736843,15.91578947368421,16.16842105263158,16.42105263157895,16.673684210526318,16.926315789473684,17.178947368421053,17.431578947368422,17.68421052631579,17.936842105263157,18.189473684210526,18.442105263157895,18.694736842105264,18.947368421052634,19.2,19.45263157894737,19.705263157894738,19.957894736842107,20.210526315789473,20.46315789473684,20.71578947368421,20.96842105263158,21.22105263157895,21.473684210526315,21.726315789473684,21.978947368421053,22.231578947368423,22.484210526315792,22.736842105263158,22.989473684210527,23.242105263157896,23.494736842105265,23.74736842105263,24.0],\"y\":[5.032790820896626,5.999460340073962,7.163111362997482,8.562649803681492,10.243099189895581,12.2557947255581,14.658241068080248,17.513490664947657,20.888921954664397,24.85428608136194,29.47895499127711,34.828375716880565,40.0,40.0,40.0,40.0,40.0,40.0,40.0,40.0,40.0,40.0,40.0,40.0,40.0,40.0,40.0,40.0,40.0,40.0,40.0,40.0,40.0,40.0,40.0,40.0,40.0,40.0,40.0,40.0,40.0,40.0,40.0,40.0,40.0,40.0,40.0,40.0,40.0,40.0,40.0,40.0,40.0,40.0,40.0,40.0,40.0,40.0,40.0,40.0,40.0,40.0,40.0,40.0,40.0,40.0,40.0,40.0,40.0,40.0,40.0,40.0,40.0,40.0,40.0,40.0,40.0,40.0,40.0,40.0,40.0,40.0,40.0,40.0,40.0,40.0,40.0,40.0,40.0,40.0,40.0,40.0,40.0,40.0,40.0,40.0],\"type\":\"scatter\",\"xaxis\":\"x3\",\"yaxis\":\"y3\"},{\"name\":\"顧客満足度\",\"x\":[0.0,0.25263157894736843,0.5052631578947369,0.7578947368421053,1.0105263157894737,1.263157894736842,1.5157894736842106,1.7684210526315791,2.0210526315789474,2.2736842105263158,2.526315789473684,2.778947368421053,3.031578947368421,3.2842105263157895,3.5368421052631582,3.7894736842105265,4.042105263157895,4.294736842105263,4.5473684210526315,4.8,5.052631578947368,5.305263157894737,5.557894736842106,5.810526315789474,6.063157894736842,6.315789473684211,6.568421052631579,6.821052631578947,7.0736842105263165,7.326315789473685,7.578947368421053,7.831578947368421,8.08421052631579,8.336842105263159,8.589473684210526,8.842105263157896,9.094736842105263,9.347368421052632,9.6,9.852631578947369,10.105263157894736,10.357894736842105,10.610526315789475,10.863157894736842,11.115789473684211,11.368421052631579,11.621052631578948,11.873684210526315,12.126315789473685,12.378947368421054,12.631578947368421,12.88421052631579,13.136842105263158,13.389473684210527,13.642105263157895,13.894736842105264,14.147368421052633,14.4,14.65263157894737,14.905263157894737,15.157894736842106,15.410526315789474,15.663157894736843,15.91578947368421,16.16842105263158,16.42105263157895,16.673684210526318,16.926315789473684,17.178947368421053,17.431578947368422,17.68421052631579,17.936842105263157,18.189473684210526,18.442105263157895,18.694736842105264,18.947368421052634,19.2,19.45263157894737,19.705263157894738,19.957894736842107,20.210526315789473,20.46315789473684,20.71578947368421,20.96842105263158,21.22105263157895,21.473684210526315,21.726315789473684,21.978947368421053,22.231578947368423,22.484210526315792,22.736842105263158,22.989473684210527,23.242105263157896,23.494736842105265,23.74736842105263,24.0],\"y\":[77.03279082089662,77.60562613842521,78.32933766396174,79.23907653880691,80.37625517329508,81.78888181487025,83.531581735117,85.66516142369572,88.25558400284781,91.3722179151177,95.08527585355264,98.0,98.0,98.0,98.0,98.0,98.0,98.0,98.0,98.0,98.0,98.0,98.0,98.0,98.0,98.0,98.0,98.0,98.0,98.0,98.0,98.0,98.0,98.0,98.0,98.0,98.0,98.0,98.0,98.0,98.0,98.0,98.0,98.0,98.0,98.0,98.0,98.0,98.0,98.0,98.0,98.0,98.0,98.0,98.0,98.0,98.0,98.0,98.0,98.0,98.0,98.0,98.0,98.0,98.0,98.0,98.0,98.0,98.0,98.0,98.0,98.0,98.0,98.0,98.0,98.0,98.0,98.0,98.0,98.0,98.0,98.0,98.0,98.0,98.0,98.0,98.0,98.0,98.0,98.0,98.0,98.0,98.0,98.0,98.0,98.0],\"type\":\"scatter\",\"xaxis\":\"x4\",\"yaxis\":\"y4\"}],                        {\"template\":{\"data\":{\"histogram2dcontour\":[{\"type\":\"histogram2dcontour\",\"colorbar\":{\"outlinewidth\":0,\"ticks\":\"\"},\"colorscale\":[[0.0,\"#0d0887\"],[0.1111111111111111,\"#46039f\"],[0.2222222222222222,\"#7201a8\"],[0.3333333333333333,\"#9c179e\"],[0.4444444444444444,\"#bd3786\"],[0.5555555555555556,\"#d8576b\"],[0.6666666666666666,\"#ed7953\"],[0.7777777777777778,\"#fb9f3a\"],[0.8888888888888888,\"#fdca26\"],[1.0,\"#f0f921\"]]}],\"choropleth\":[{\"type\":\"choropleth\",\"colorbar\":{\"outlinewidth\":0,\"ticks\":\"\"}}],\"histogram2d\":[{\"type\":\"histogram2d\",\"colorbar\":{\"outlinewidth\":0,\"ticks\":\"\"},\"colorscale\":[[0.0,\"#0d0887\"],[0.1111111111111111,\"#46039f\"],[0.2222222222222222,\"#7201a8\"],[0.3333333333333333,\"#9c179e\"],[0.4444444444444444,\"#bd3786\"],[0.5555555555555556,\"#d8576b\"],[0.6666666666666666,\"#ed7953\"],[0.7777777777777778,\"#fb9f3a\"],[0.8888888888888888,\"#fdca26\"],[1.0,\"#f0f921\"]]}],\"heatmap\":[{\"type\":\"heatmap\",\"colorbar\":{\"outlinewidth\":0,\"ticks\":\"\"},\"colorscale\":[[0.0,\"#0d0887\"],[0.1111111111111111,\"#46039f\"],[0.2222222222222222,\"#7201a8\"],[0.3333333333333333,\"#9c179e\"],[0.4444444444444444,\"#bd3786\"],[0.5555555555555556,\"#d8576b\"],[0.6666666666666666,\"#ed7953\"],[0.7777777777777778,\"#fb9f3a\"],[0.8888888888888888,\"#fdca26\"],[1.0,\"#f0f921\"]]}],\"heatmapgl\":[{\"type\":\"heatmapgl\",\"colorbar\":{\"outlinewidth\":0,\"ticks\":\"\"},\"colorscale\":[[0.0,\"#0d0887\"],[0.1111111111111111,\"#46039f\"],[0.2222222222222222,\"#7201a8\"],[0.3333333333333333,\"#9c179e\"],[0.4444444444444444,\"#bd3786\"],[0.5555555555555556,\"#d8576b\"],[0.6666666666666666,\"#ed7953\"],[0.7777777777777778,\"#fb9f3a\"],[0.8888888888888888,\"#fdca26\"],[1.0,\"#f0f921\"]]}],\"contourcarpet\":[{\"type\":\"contourcarpet\",\"colorbar\":{\"outlinewidth\":0,\"ticks\":\"\"}}],\"contour\":[{\"type\":\"contour\",\"colorbar\":{\"outlinewidth\":0,\"ticks\":\"\"},\"colorscale\":[[0.0,\"#0d0887\"],[0.1111111111111111,\"#46039f\"],[0.2222222222222222,\"#7201a8\"],[0.3333333333333333,\"#9c179e\"],[0.4444444444444444,\"#bd3786\"],[0.5555555555555556,\"#d8576b\"],[0.6666666666666666,\"#ed7953\"],[0.7777777777777778,\"#fb9f3a\"],[0.8888888888888888,\"#fdca26\"],[1.0,\"#f0f921\"]]}],\"surface\":[{\"type\":\"surface\",\"colorbar\":{\"outlinewidth\":0,\"ticks\":\"\"},\"colorscale\":[[0.0,\"#0d0887\"],[0.1111111111111111,\"#46039f\"],[0.2222222222222222,\"#7201a8\"],[0.3333333333333333,\"#9c179e\"],[0.4444444444444444,\"#bd3786\"],[0.5555555555555556,\"#d8576b\"],[0.6666666666666666,\"#ed7953\"],[0.7777777777777778,\"#fb9f3a\"],[0.8888888888888888,\"#fdca26\"],[1.0,\"#f0f921\"]]}],\"mesh3d\":[{\"type\":\"mesh3d\",\"colorbar\":{\"outlinewidth\":0,\"ticks\":\"\"}}],\"scatter\":[{\"fillpattern\":{\"fillmode\":\"overlay\",\"size\":10,\"solidity\":0.2},\"type\":\"scatter\"}],\"parcoords\":[{\"type\":\"parcoords\",\"line\":{\"colorbar\":{\"outlinewidth\":0,\"ticks\":\"\"}}}],\"scatterpolargl\":[{\"type\":\"scatterpolargl\",\"marker\":{\"colorbar\":{\"outlinewidth\":0,\"ticks\":\"\"}}}],\"bar\":[{\"error_x\":{\"color\":\"#2a3f5f\"},\"error_y\":{\"color\":\"#2a3f5f\"},\"marker\":{\"line\":{\"color\":\"#E5ECF6\",\"width\":0.5},\"pattern\":{\"fillmode\":\"overlay\",\"size\":10,\"solidity\":0.2}},\"type\":\"bar\"}],\"scattergeo\":[{\"type\":\"scattergeo\",\"marker\":{\"colorbar\":{\"outlinewidth\":0,\"ticks\":\"\"}}}],\"scatterpolar\":[{\"type\":\"scatterpolar\",\"marker\":{\"colorbar\":{\"outlinewidth\":0,\"ticks\":\"\"}}}],\"histogram\":[{\"marker\":{\"pattern\":{\"fillmode\":\"overlay\",\"size\":10,\"solidity\":0.2}},\"type\":\"histogram\"}],\"scattergl\":[{\"type\":\"scattergl\",\"marker\":{\"colorbar\":{\"outlinewidth\":0,\"ticks\":\"\"}}}],\"scatter3d\":[{\"type\":\"scatter3d\",\"line\":{\"colorbar\":{\"outlinewidth\":0,\"ticks\":\"\"}},\"marker\":{\"colorbar\":{\"outlinewidth\":0,\"ticks\":\"\"}}}],\"scattermapbox\":[{\"type\":\"scattermapbox\",\"marker\":{\"colorbar\":{\"outlinewidth\":0,\"ticks\":\"\"}}}],\"scatterternary\":[{\"type\":\"scatterternary\",\"marker\":{\"colorbar\":{\"outlinewidth\":0,\"ticks\":\"\"}}}],\"scattercarpet\":[{\"type\":\"scattercarpet\",\"marker\":{\"colorbar\":{\"outlinewidth\":0,\"ticks\":\"\"}}}],\"carpet\":[{\"aaxis\":{\"endlinecolor\":\"#2a3f5f\",\"gridcolor\":\"white\",\"linecolor\":\"white\",\"minorgridcolor\":\"white\",\"startlinecolor\":\"#2a3f5f\"},\"baxis\":{\"endlinecolor\":\"#2a3f5f\",\"gridcolor\":\"white\",\"linecolor\":\"white\",\"minorgridcolor\":\"white\",\"startlinecolor\":\"#2a3f5f\"},\"type\":\"carpet\"}],\"table\":[{\"cells\":{\"fill\":{\"color\":\"#EBF0F8\"},\"line\":{\"color\":\"white\"}},\"header\":{\"fill\":{\"color\":\"#C8D4E3\"},\"line\":{\"color\":\"white\"}},\"type\":\"table\"}],\"barpolar\":[{\"marker\":{\"line\":{\"color\":\"#E5ECF6\",\"width\":0.5},\"pattern\":{\"fillmode\":\"overlay\",\"size\":10,\"solidity\":0.2}},\"type\":\"barpolar\"}],\"pie\":[{\"automargin\":true,\"type\":\"pie\"}]},\"layout\":{\"autotypenumbers\":\"strict\",\"colorway\":[\"#636efa\",\"#EF553B\",\"#00cc96\",\"#ab63fa\",\"#FFA15A\",\"#19d3f3\",\"#FF6692\",\"#B6E880\",\"#FF97FF\",\"#FECB52\"],\"font\":{\"color\":\"#2a3f5f\"},\"hovermode\":\"closest\",\"hoverlabel\":{\"align\":\"left\"},\"paper_bgcolor\":\"white\",\"plot_bgcolor\":\"#E5ECF6\",\"polar\":{\"bgcolor\":\"#E5ECF6\",\"angularaxis\":{\"gridcolor\":\"white\",\"linecolor\":\"white\",\"ticks\":\"\"},\"radialaxis\":{\"gridcolor\":\"white\",\"linecolor\":\"white\",\"ticks\":\"\"}},\"ternary\":{\"bgcolor\":\"#E5ECF6\",\"aaxis\":{\"gridcolor\":\"white\",\"linecolor\":\"white\",\"ticks\":\"\"},\"baxis\":{\"gridcolor\":\"white\",\"linecolor\":\"white\",\"ticks\":\"\"},\"caxis\":{\"gridcolor\":\"white\",\"linecolor\":\"white\",\"ticks\":\"\"}},\"coloraxis\":{\"colorbar\":{\"outlinewidth\":0,\"ticks\":\"\"}},\"colorscale\":{\"sequential\":[[0.0,\"#0d0887\"],[0.1111111111111111,\"#46039f\"],[0.2222222222222222,\"#7201a8\"],[0.3333333333333333,\"#9c179e\"],[0.4444444444444444,\"#bd3786\"],[0.5555555555555556,\"#d8576b\"],[0.6666666666666666,\"#ed7953\"],[0.7777777777777778,\"#fb9f3a\"],[0.8888888888888888,\"#fdca26\"],[1.0,\"#f0f921\"]],\"sequentialminus\":[[0.0,\"#0d0887\"],[0.1111111111111111,\"#46039f\"],[0.2222222222222222,\"#7201a8\"],[0.3333333333333333,\"#9c179e\"],[0.4444444444444444,\"#bd3786\"],[0.5555555555555556,\"#d8576b\"],[0.6666666666666666,\"#ed7953\"],[0.7777777777777778,\"#fb9f3a\"],[0.8888888888888888,\"#fdca26\"],[1.0,\"#f0f921\"]],\"diverging\":[[0,\"#8e0152\"],[0.1,\"#c51b7d\"],[0.2,\"#de77ae\"],[0.3,\"#f1b6da\"],[0.4,\"#fde0ef\"],[0.5,\"#f7f7f7\"],[0.6,\"#e6f5d0\"],[0.7,\"#b8e186\"],[0.8,\"#7fbc41\"],[0.9,\"#4d9221\"],[1,\"#276419\"]]},\"xaxis\":{\"gridcolor\":\"white\",\"linecolor\":\"white\",\"ticks\":\"\",\"title\":{\"standoff\":15},\"zerolinecolor\":\"white\",\"automargin\":true,\"zerolinewidth\":2},\"yaxis\":{\"gridcolor\":\"white\",\"linecolor\":\"white\",\"ticks\":\"\",\"title\":{\"standoff\":15},\"zerolinecolor\":\"white\",\"automargin\":true,\"zerolinewidth\":2},\"scene\":{\"xaxis\":{\"backgroundcolor\":\"#E5ECF6\",\"gridcolor\":\"white\",\"linecolor\":\"white\",\"showbackground\":true,\"ticks\":\"\",\"zerolinecolor\":\"white\",\"gridwidth\":2},\"yaxis\":{\"backgroundcolor\":\"#E5ECF6\",\"gridcolor\":\"white\",\"linecolor\":\"white\",\"showbackground\":true,\"ticks\":\"\",\"zerolinecolor\":\"white\",\"gridwidth\":2},\"zaxis\":{\"backgroundcolor\":\"#E5ECF6\",\"gridcolor\":\"white\",\"linecolor\":\"white\",\"showbackground\":true,\"ticks\":\"\",\"zerolinecolor\":\"white\",\"gridwidth\":2}},\"shapedefaults\":{\"line\":{\"color\":\"#2a3f5f\"}},\"annotationdefaults\":{\"arrowcolor\":\"#2a3f5f\",\"arrowhead\":0,\"arrowwidth\":1},\"geo\":{\"bgcolor\":\"white\",\"landcolor\":\"#E5ECF6\",\"subunitcolor\":\"white\",\"showland\":true,\"showlakes\":true,\"lakecolor\":\"white\"},\"title\":{\"x\":0.05},\"mapbox\":{\"style\":\"light\"}}},\"xaxis\":{\"anchor\":\"y\",\"domain\":[0.0,0.45]},\"yaxis\":{\"anchor\":\"x\",\"domain\":[0.625,1.0]},\"xaxis2\":{\"anchor\":\"y2\",\"domain\":[0.55,1.0]},\"yaxis2\":{\"anchor\":\"x2\",\"domain\":[0.625,1.0]},\"xaxis3\":{\"anchor\":\"y3\",\"domain\":[0.0,0.45]},\"yaxis3\":{\"anchor\":\"x3\",\"domain\":[0.0,0.375]},\"xaxis4\":{\"anchor\":\"y4\",\"domain\":[0.55,1.0]},\"yaxis4\":{\"anchor\":\"x4\",\"domain\":[0.0,0.375]},\"annotations\":[{\"font\":{\"size\":16},\"showarrow\":false,\"text\":\"売上成長率\",\"x\":0.225,\"xanchor\":\"center\",\"xref\":\"paper\",\"y\":1.0,\"yanchor\":\"bottom\",\"yref\":\"paper\"},{\"font\":{\"size\":16},\"showarrow\":false,\"text\":\"イノベーション指数\",\"x\":0.775,\"xanchor\":\"center\",\"xref\":\"paper\",\"y\":1.0,\"yanchor\":\"bottom\",\"yref\":\"paper\"},{\"font\":{\"size\":16},\"showarrow\":false,\"text\":\"マーケットシェア\",\"x\":0.225,\"xanchor\":\"center\",\"xref\":\"paper\",\"y\":0.375,\"yanchor\":\"bottom\",\"yref\":\"paper\"},{\"font\":{\"size\":16},\"showarrow\":false,\"text\":\"顧客満足度\",\"x\":0.775,\"xanchor\":\"center\",\"xref\":\"paper\",\"y\":0.375,\"yanchor\":\"bottom\",\"yref\":\"paper\"}],\"title\":{\"text\":\"V2: ビジネス指標予測ダッシュボード\"},\"showlegend\":false},                        {\"responsive\": true}                    ).then(function(){\n",
              "                            \n",
              "var gd = document.getElementById('1c06ceae-deea-405b-be81-f0a2303a24bb');\n",
              "var x = new MutationObserver(function (mutations, observer) {{\n",
              "        var display = window.getComputedStyle(gd).display;\n",
              "        if (!display || display === 'none') {{\n",
              "            console.log([gd, 'removed!']);\n",
              "            Plotly.purge(gd);\n",
              "            observer.disconnect();\n",
              "        }}\n",
              "}});\n",
              "\n",
              "// Listen for the removal of the full notebook cells\n",
              "var notebookContainer = gd.closest('#notebook-container');\n",
              "if (notebookContainer) {{\n",
              "    x.observe(notebookContainer, {childList: true});\n",
              "}}\n",
              "\n",
              "// Listen for the clearing of the current output cell\n",
              "var outputEl = gd.closest('.output');\n",
              "if (outputEl) {{\n",
              "    x.observe(outputEl, {childList: true});\n",
              "}}\n",
              "\n",
              "                        })                };                            </script>        </div>\n",
              "</body>\n",
              "</html>"
            ]
          },
          "metadata": {}
        },
        {
          "output_type": "stream",
          "name": "stdout",
          "text": [
            "完了\n"
          ]
        }
      ]
    },
    {
      "cell_type": "code",
      "source": [
        "print(\"グラフ4/5: シャプレー値の描画テスト...\")\n",
        "viz_engine.create_shapley_value_chart().show()\n",
        "print(\"完了\")"
      ],
      "metadata": {
        "colab": {
          "base_uri": "https://localhost:8080/",
          "height": 580
        },
        "id": "7fvPQm3I-Ngc",
        "outputId": "718a6750-d677-4c1d-dea3-7c985d65462b"
      },
      "execution_count": 22,
      "outputs": [
        {
          "output_type": "stream",
          "name": "stdout",
          "text": [
            "グラフ4/5: シャプレー値の描画テスト...\n"
          ]
        },
        {
          "output_type": "display_data",
          "data": {
            "text/html": [
              "<html>\n",
              "<head><meta charset=\"utf-8\" /></head>\n",
              "<body>\n",
              "    <div>            <script src=\"https://cdnjs.cloudflare.com/ajax/libs/mathjax/2.7.5/MathJax.js?config=TeX-AMS-MML_SVG\"></script><script type=\"text/javascript\">if (window.MathJax && window.MathJax.Hub && window.MathJax.Hub.Config) {window.MathJax.Hub.Config({SVG: {font: \"STIX-Web\"}});}</script>                <script type=\"text/javascript\">window.PlotlyConfig = {MathJaxConfig: 'local'};</script>\n",
              "        <script charset=\"utf-8\" src=\"https://cdn.plot.ly/plotly-2.35.2.min.js\"></script>                <div id=\"15ad8d46-bec2-403a-9cb1-e75c551664e5\" class=\"plotly-graph-div\" style=\"height:525px; width:100%;\"></div>            <script type=\"text/javascript\">                                    window.PLOTLYENV=window.PLOTLYENV || {};                                    if (document.getElementById(\"15ad8d46-bec2-403a-9cb1-e75c551664e5\")) {                    Plotly.newPlot(                        \"15ad8d46-bec2-403a-9cb1-e75c551664e5\",                        [{\"alignmentgroup\":\"True\",\"hovertemplate\":\"メンバー=%{x}\\u003cbr\\u003e価値貢献度（シャプレー値）=%{y}\\u003cbr\\u003etext=%{text}\\u003cextra\\u003e\\u003c\\u002fextra\\u003e\",\"legendgroup\":\"\",\"marker\":{\"color\":\"#636efa\",\"pattern\":{\"shape\":\"\"}},\"name\":\"\",\"offsetgroup\":\"\",\"orientation\":\"v\",\"showlegend\":false,\"text\":[41.37,41.41,42.55],\"textposition\":\"auto\",\"x\":[\"Arale Cohen\",\"Yanay Geva\",\"Yasuyuki Sakane\"],\"xaxis\":\"x\",\"y\":[41.36806816011667,41.41215911656618,42.5476809322834],\"yaxis\":\"y\",\"type\":\"bar\"}],                        {\"template\":{\"data\":{\"histogram2dcontour\":[{\"type\":\"histogram2dcontour\",\"colorbar\":{\"outlinewidth\":0,\"ticks\":\"\"},\"colorscale\":[[0.0,\"#0d0887\"],[0.1111111111111111,\"#46039f\"],[0.2222222222222222,\"#7201a8\"],[0.3333333333333333,\"#9c179e\"],[0.4444444444444444,\"#bd3786\"],[0.5555555555555556,\"#d8576b\"],[0.6666666666666666,\"#ed7953\"],[0.7777777777777778,\"#fb9f3a\"],[0.8888888888888888,\"#fdca26\"],[1.0,\"#f0f921\"]]}],\"choropleth\":[{\"type\":\"choropleth\",\"colorbar\":{\"outlinewidth\":0,\"ticks\":\"\"}}],\"histogram2d\":[{\"type\":\"histogram2d\",\"colorbar\":{\"outlinewidth\":0,\"ticks\":\"\"},\"colorscale\":[[0.0,\"#0d0887\"],[0.1111111111111111,\"#46039f\"],[0.2222222222222222,\"#7201a8\"],[0.3333333333333333,\"#9c179e\"],[0.4444444444444444,\"#bd3786\"],[0.5555555555555556,\"#d8576b\"],[0.6666666666666666,\"#ed7953\"],[0.7777777777777778,\"#fb9f3a\"],[0.8888888888888888,\"#fdca26\"],[1.0,\"#f0f921\"]]}],\"heatmap\":[{\"type\":\"heatmap\",\"colorbar\":{\"outlinewidth\":0,\"ticks\":\"\"},\"colorscale\":[[0.0,\"#0d0887\"],[0.1111111111111111,\"#46039f\"],[0.2222222222222222,\"#7201a8\"],[0.3333333333333333,\"#9c179e\"],[0.4444444444444444,\"#bd3786\"],[0.5555555555555556,\"#d8576b\"],[0.6666666666666666,\"#ed7953\"],[0.7777777777777778,\"#fb9f3a\"],[0.8888888888888888,\"#fdca26\"],[1.0,\"#f0f921\"]]}],\"heatmapgl\":[{\"type\":\"heatmapgl\",\"colorbar\":{\"outlinewidth\":0,\"ticks\":\"\"},\"colorscale\":[[0.0,\"#0d0887\"],[0.1111111111111111,\"#46039f\"],[0.2222222222222222,\"#7201a8\"],[0.3333333333333333,\"#9c179e\"],[0.4444444444444444,\"#bd3786\"],[0.5555555555555556,\"#d8576b\"],[0.6666666666666666,\"#ed7953\"],[0.7777777777777778,\"#fb9f3a\"],[0.8888888888888888,\"#fdca26\"],[1.0,\"#f0f921\"]]}],\"contourcarpet\":[{\"type\":\"contourcarpet\",\"colorbar\":{\"outlinewidth\":0,\"ticks\":\"\"}}],\"contour\":[{\"type\":\"contour\",\"colorbar\":{\"outlinewidth\":0,\"ticks\":\"\"},\"colorscale\":[[0.0,\"#0d0887\"],[0.1111111111111111,\"#46039f\"],[0.2222222222222222,\"#7201a8\"],[0.3333333333333333,\"#9c179e\"],[0.4444444444444444,\"#bd3786\"],[0.5555555555555556,\"#d8576b\"],[0.6666666666666666,\"#ed7953\"],[0.7777777777777778,\"#fb9f3a\"],[0.8888888888888888,\"#fdca26\"],[1.0,\"#f0f921\"]]}],\"surface\":[{\"type\":\"surface\",\"colorbar\":{\"outlinewidth\":0,\"ticks\":\"\"},\"colorscale\":[[0.0,\"#0d0887\"],[0.1111111111111111,\"#46039f\"],[0.2222222222222222,\"#7201a8\"],[0.3333333333333333,\"#9c179e\"],[0.4444444444444444,\"#bd3786\"],[0.5555555555555556,\"#d8576b\"],[0.6666666666666666,\"#ed7953\"],[0.7777777777777778,\"#fb9f3a\"],[0.8888888888888888,\"#fdca26\"],[1.0,\"#f0f921\"]]}],\"mesh3d\":[{\"type\":\"mesh3d\",\"colorbar\":{\"outlinewidth\":0,\"ticks\":\"\"}}],\"scatter\":[{\"fillpattern\":{\"fillmode\":\"overlay\",\"size\":10,\"solidity\":0.2},\"type\":\"scatter\"}],\"parcoords\":[{\"type\":\"parcoords\",\"line\":{\"colorbar\":{\"outlinewidth\":0,\"ticks\":\"\"}}}],\"scatterpolargl\":[{\"type\":\"scatterpolargl\",\"marker\":{\"colorbar\":{\"outlinewidth\":0,\"ticks\":\"\"}}}],\"bar\":[{\"error_x\":{\"color\":\"#2a3f5f\"},\"error_y\":{\"color\":\"#2a3f5f\"},\"marker\":{\"line\":{\"color\":\"#E5ECF6\",\"width\":0.5},\"pattern\":{\"fillmode\":\"overlay\",\"size\":10,\"solidity\":0.2}},\"type\":\"bar\"}],\"scattergeo\":[{\"type\":\"scattergeo\",\"marker\":{\"colorbar\":{\"outlinewidth\":0,\"ticks\":\"\"}}}],\"scatterpolar\":[{\"type\":\"scatterpolar\",\"marker\":{\"colorbar\":{\"outlinewidth\":0,\"ticks\":\"\"}}}],\"histogram\":[{\"marker\":{\"pattern\":{\"fillmode\":\"overlay\",\"size\":10,\"solidity\":0.2}},\"type\":\"histogram\"}],\"scattergl\":[{\"type\":\"scattergl\",\"marker\":{\"colorbar\":{\"outlinewidth\":0,\"ticks\":\"\"}}}],\"scatter3d\":[{\"type\":\"scatter3d\",\"line\":{\"colorbar\":{\"outlinewidth\":0,\"ticks\":\"\"}},\"marker\":{\"colorbar\":{\"outlinewidth\":0,\"ticks\":\"\"}}}],\"scattermapbox\":[{\"type\":\"scattermapbox\",\"marker\":{\"colorbar\":{\"outlinewidth\":0,\"ticks\":\"\"}}}],\"scatterternary\":[{\"type\":\"scatterternary\",\"marker\":{\"colorbar\":{\"outlinewidth\":0,\"ticks\":\"\"}}}],\"scattercarpet\":[{\"type\":\"scattercarpet\",\"marker\":{\"colorbar\":{\"outlinewidth\":0,\"ticks\":\"\"}}}],\"carpet\":[{\"aaxis\":{\"endlinecolor\":\"#2a3f5f\",\"gridcolor\":\"white\",\"linecolor\":\"white\",\"minorgridcolor\":\"white\",\"startlinecolor\":\"#2a3f5f\"},\"baxis\":{\"endlinecolor\":\"#2a3f5f\",\"gridcolor\":\"white\",\"linecolor\":\"white\",\"minorgridcolor\":\"white\",\"startlinecolor\":\"#2a3f5f\"},\"type\":\"carpet\"}],\"table\":[{\"cells\":{\"fill\":{\"color\":\"#EBF0F8\"},\"line\":{\"color\":\"white\"}},\"header\":{\"fill\":{\"color\":\"#C8D4E3\"},\"line\":{\"color\":\"white\"}},\"type\":\"table\"}],\"barpolar\":[{\"marker\":{\"line\":{\"color\":\"#E5ECF6\",\"width\":0.5},\"pattern\":{\"fillmode\":\"overlay\",\"size\":10,\"solidity\":0.2}},\"type\":\"barpolar\"}],\"pie\":[{\"automargin\":true,\"type\":\"pie\"}]},\"layout\":{\"autotypenumbers\":\"strict\",\"colorway\":[\"#636efa\",\"#EF553B\",\"#00cc96\",\"#ab63fa\",\"#FFA15A\",\"#19d3f3\",\"#FF6692\",\"#B6E880\",\"#FF97FF\",\"#FECB52\"],\"font\":{\"color\":\"#2a3f5f\"},\"hovermode\":\"closest\",\"hoverlabel\":{\"align\":\"left\"},\"paper_bgcolor\":\"white\",\"plot_bgcolor\":\"#E5ECF6\",\"polar\":{\"bgcolor\":\"#E5ECF6\",\"angularaxis\":{\"gridcolor\":\"white\",\"linecolor\":\"white\",\"ticks\":\"\"},\"radialaxis\":{\"gridcolor\":\"white\",\"linecolor\":\"white\",\"ticks\":\"\"}},\"ternary\":{\"bgcolor\":\"#E5ECF6\",\"aaxis\":{\"gridcolor\":\"white\",\"linecolor\":\"white\",\"ticks\":\"\"},\"baxis\":{\"gridcolor\":\"white\",\"linecolor\":\"white\",\"ticks\":\"\"},\"caxis\":{\"gridcolor\":\"white\",\"linecolor\":\"white\",\"ticks\":\"\"}},\"coloraxis\":{\"colorbar\":{\"outlinewidth\":0,\"ticks\":\"\"}},\"colorscale\":{\"sequential\":[[0.0,\"#0d0887\"],[0.1111111111111111,\"#46039f\"],[0.2222222222222222,\"#7201a8\"],[0.3333333333333333,\"#9c179e\"],[0.4444444444444444,\"#bd3786\"],[0.5555555555555556,\"#d8576b\"],[0.6666666666666666,\"#ed7953\"],[0.7777777777777778,\"#fb9f3a\"],[0.8888888888888888,\"#fdca26\"],[1.0,\"#f0f921\"]],\"sequentialminus\":[[0.0,\"#0d0887\"],[0.1111111111111111,\"#46039f\"],[0.2222222222222222,\"#7201a8\"],[0.3333333333333333,\"#9c179e\"],[0.4444444444444444,\"#bd3786\"],[0.5555555555555556,\"#d8576b\"],[0.6666666666666666,\"#ed7953\"],[0.7777777777777778,\"#fb9f3a\"],[0.8888888888888888,\"#fdca26\"],[1.0,\"#f0f921\"]],\"diverging\":[[0,\"#8e0152\"],[0.1,\"#c51b7d\"],[0.2,\"#de77ae\"],[0.3,\"#f1b6da\"],[0.4,\"#fde0ef\"],[0.5,\"#f7f7f7\"],[0.6,\"#e6f5d0\"],[0.7,\"#b8e186\"],[0.8,\"#7fbc41\"],[0.9,\"#4d9221\"],[1,\"#276419\"]]},\"xaxis\":{\"gridcolor\":\"white\",\"linecolor\":\"white\",\"ticks\":\"\",\"title\":{\"standoff\":15},\"zerolinecolor\":\"white\",\"automargin\":true,\"zerolinewidth\":2},\"yaxis\":{\"gridcolor\":\"white\",\"linecolor\":\"white\",\"ticks\":\"\",\"title\":{\"standoff\":15},\"zerolinecolor\":\"white\",\"automargin\":true,\"zerolinewidth\":2},\"scene\":{\"xaxis\":{\"backgroundcolor\":\"#E5ECF6\",\"gridcolor\":\"white\",\"linecolor\":\"white\",\"showbackground\":true,\"ticks\":\"\",\"zerolinecolor\":\"white\",\"gridwidth\":2},\"yaxis\":{\"backgroundcolor\":\"#E5ECF6\",\"gridcolor\":\"white\",\"linecolor\":\"white\",\"showbackground\":true,\"ticks\":\"\",\"zerolinecolor\":\"white\",\"gridwidth\":2},\"zaxis\":{\"backgroundcolor\":\"#E5ECF6\",\"gridcolor\":\"white\",\"linecolor\":\"white\",\"showbackground\":true,\"ticks\":\"\",\"zerolinecolor\":\"white\",\"gridwidth\":2}},\"shapedefaults\":{\"line\":{\"color\":\"#2a3f5f\"}},\"annotationdefaults\":{\"arrowcolor\":\"#2a3f5f\",\"arrowhead\":0,\"arrowwidth\":1},\"geo\":{\"bgcolor\":\"white\",\"landcolor\":\"#E5ECF6\",\"subunitcolor\":\"white\",\"showland\":true,\"showlakes\":true,\"lakecolor\":\"white\"},\"title\":{\"x\":0.05},\"mapbox\":{\"style\":\"light\"}}},\"xaxis\":{\"anchor\":\"y\",\"domain\":[0.0,1.0],\"title\":{\"text\":\"メンバー\"}},\"yaxis\":{\"anchor\":\"x\",\"domain\":[0.0,1.0],\"title\":{\"text\":\"価値貢献度（シャプレー値）\"}},\"legend\":{\"tracegroupgap\":0},\"title\":{\"text\":\"V2: シャプレー値による価値貢献度分析\"},\"barmode\":\"relative\"},                        {\"responsive\": true}                    ).then(function(){\n",
              "                            \n",
              "var gd = document.getElementById('15ad8d46-bec2-403a-9cb1-e75c551664e5');\n",
              "var x = new MutationObserver(function (mutations, observer) {{\n",
              "        var display = window.getComputedStyle(gd).display;\n",
              "        if (!display || display === 'none') {{\n",
              "            console.log([gd, 'removed!']);\n",
              "            Plotly.purge(gd);\n",
              "            observer.disconnect();\n",
              "        }}\n",
              "}});\n",
              "\n",
              "// Listen for the removal of the full notebook cells\n",
              "var notebookContainer = gd.closest('#notebook-container');\n",
              "if (notebookContainer) {{\n",
              "    x.observe(notebookContainer, {childList: true});\n",
              "}}\n",
              "\n",
              "// Listen for the clearing of the current output cell\n",
              "var outputEl = gd.closest('.output');\n",
              "if (outputEl) {{\n",
              "    x.observe(outputEl, {childList: true});\n",
              "}}\n",
              "\n",
              "                        })                };                            </script>        </div>\n",
              "</body>\n",
              "</html>"
            ]
          },
          "metadata": {}
        },
        {
          "output_type": "stream",
          "name": "stdout",
          "text": [
            "完了\n"
          ]
        }
      ]
    },
    {
      "cell_type": "code",
      "source": [
        "print(\"グラフ5/5: チーム相互作用ネットワークの描画テスト...\")\n",
        "viz_engine.create_network_graph().show()\n",
        "print(\"完了\")"
      ],
      "metadata": {
        "colab": {
          "base_uri": "https://localhost:8080/",
          "height": 580
        },
        "id": "OGuIw-SX-P0V",
        "outputId": "2d3efcfd-4fc8-4842-f524-a2a79524b1b1"
      },
      "execution_count": 23,
      "outputs": [
        {
          "output_type": "stream",
          "name": "stdout",
          "text": [
            "グラフ5/5: チーム相互作用ネットワークの描画テスト...\n"
          ]
        },
        {
          "output_type": "display_data",
          "data": {
            "text/html": [
              "<html>\n",
              "<head><meta charset=\"utf-8\" /></head>\n",
              "<body>\n",
              "    <div>            <script src=\"https://cdnjs.cloudflare.com/ajax/libs/mathjax/2.7.5/MathJax.js?config=TeX-AMS-MML_SVG\"></script><script type=\"text/javascript\">if (window.MathJax && window.MathJax.Hub && window.MathJax.Hub.Config) {window.MathJax.Hub.Config({SVG: {font: \"STIX-Web\"}});}</script>                <script type=\"text/javascript\">window.PlotlyConfig = {MathJaxConfig: 'local'};</script>\n",
              "        <script charset=\"utf-8\" src=\"https://cdn.plot.ly/plotly-2.35.2.min.js\"></script>                <div id=\"df310274-2a1f-480d-901a-19479b7c691c\" class=\"plotly-graph-div\" style=\"height:525px; width:100%;\"></div>            <script type=\"text/javascript\">                                    window.PLOTLYENV=window.PLOTLYENV || {};                                    if (document.getElementById(\"df310274-2a1f-480d-901a-19479b7c691c\")) {                    Plotly.newPlot(                        \"df310274-2a1f-480d-901a-19479b7c691c\",                        [{\"hoverinfo\":\"text\",\"line\":{\"color\":\"rgba(150,150,150,0.5)\",\"width\":7.848819516599178},\"mode\":\"lines\",\"text\":\"Synergy: 0.523\",\"x\":[0.19525207206424014,-0.9035973309729401,null],\"y\":[-1.0,0.4610843722037116,null],\"type\":\"scatter\"},{\"hoverinfo\":\"text\",\"line\":{\"color\":\"rgba(150,150,150,0.5)\",\"width\":11.25538496375084},\"mode\":\"lines\",\"text\":\"Synergy: 0.750\",\"x\":[0.19525207206424014,0.7083452589087001,null],\"y\":[-1.0,0.5389156277962882,null],\"type\":\"scatter\"},{\"hoverinfo\":\"text\",\"line\":{\"color\":\"rgba(150,150,150,0.5)\",\"width\":11.387657833099365},\"mode\":\"lines\",\"text\":\"Synergy: 0.759\",\"x\":[-0.9035973309729401,0.7083452589087001,null],\"y\":[0.4610843722037116,0.5389156277962882,null],\"type\":\"scatter\"},{\"hoverinfo\":\"none\",\"marker\":{\"color\":[\"#FF6B6B\",\"#4ECDC4\",\"#45B7D1\"],\"size\":[20.0,20.0,20.0]},\"mode\":\"markers+text\",\"text\":[\"Arale Cohen\",\"Yanay Geva\",\"Yasuyuki Sakane\"],\"textposition\":\"top center\",\"x\":[0.19525207206424014,-0.9035973309729401,0.7083452589087001],\"y\":[-1.0,0.4610843722037116,0.5389156277962882],\"type\":\"scatter\"}],                        {\"showlegend\":false,\"title\":{\"text\":\"V2: チーム相互作用ネットワーク\"},\"xaxis\":{\"showgrid\":false,\"showticklabels\":false,\"zeroline\":false},\"yaxis\":{\"showgrid\":false,\"showticklabels\":false,\"zeroline\":false},\"template\":{\"data\":{\"histogram2dcontour\":[{\"type\":\"histogram2dcontour\",\"colorbar\":{\"outlinewidth\":0,\"ticks\":\"\"},\"colorscale\":[[0.0,\"#0d0887\"],[0.1111111111111111,\"#46039f\"],[0.2222222222222222,\"#7201a8\"],[0.3333333333333333,\"#9c179e\"],[0.4444444444444444,\"#bd3786\"],[0.5555555555555556,\"#d8576b\"],[0.6666666666666666,\"#ed7953\"],[0.7777777777777778,\"#fb9f3a\"],[0.8888888888888888,\"#fdca26\"],[1.0,\"#f0f921\"]]}],\"choropleth\":[{\"type\":\"choropleth\",\"colorbar\":{\"outlinewidth\":0,\"ticks\":\"\"}}],\"histogram2d\":[{\"type\":\"histogram2d\",\"colorbar\":{\"outlinewidth\":0,\"ticks\":\"\"},\"colorscale\":[[0.0,\"#0d0887\"],[0.1111111111111111,\"#46039f\"],[0.2222222222222222,\"#7201a8\"],[0.3333333333333333,\"#9c179e\"],[0.4444444444444444,\"#bd3786\"],[0.5555555555555556,\"#d8576b\"],[0.6666666666666666,\"#ed7953\"],[0.7777777777777778,\"#fb9f3a\"],[0.8888888888888888,\"#fdca26\"],[1.0,\"#f0f921\"]]}],\"heatmap\":[{\"type\":\"heatmap\",\"colorbar\":{\"outlinewidth\":0,\"ticks\":\"\"},\"colorscale\":[[0.0,\"#0d0887\"],[0.1111111111111111,\"#46039f\"],[0.2222222222222222,\"#7201a8\"],[0.3333333333333333,\"#9c179e\"],[0.4444444444444444,\"#bd3786\"],[0.5555555555555556,\"#d8576b\"],[0.6666666666666666,\"#ed7953\"],[0.7777777777777778,\"#fb9f3a\"],[0.8888888888888888,\"#fdca26\"],[1.0,\"#f0f921\"]]}],\"heatmapgl\":[{\"type\":\"heatmapgl\",\"colorbar\":{\"outlinewidth\":0,\"ticks\":\"\"},\"colorscale\":[[0.0,\"#0d0887\"],[0.1111111111111111,\"#46039f\"],[0.2222222222222222,\"#7201a8\"],[0.3333333333333333,\"#9c179e\"],[0.4444444444444444,\"#bd3786\"],[0.5555555555555556,\"#d8576b\"],[0.6666666666666666,\"#ed7953\"],[0.7777777777777778,\"#fb9f3a\"],[0.8888888888888888,\"#fdca26\"],[1.0,\"#f0f921\"]]}],\"contourcarpet\":[{\"type\":\"contourcarpet\",\"colorbar\":{\"outlinewidth\":0,\"ticks\":\"\"}}],\"contour\":[{\"type\":\"contour\",\"colorbar\":{\"outlinewidth\":0,\"ticks\":\"\"},\"colorscale\":[[0.0,\"#0d0887\"],[0.1111111111111111,\"#46039f\"],[0.2222222222222222,\"#7201a8\"],[0.3333333333333333,\"#9c179e\"],[0.4444444444444444,\"#bd3786\"],[0.5555555555555556,\"#d8576b\"],[0.6666666666666666,\"#ed7953\"],[0.7777777777777778,\"#fb9f3a\"],[0.8888888888888888,\"#fdca26\"],[1.0,\"#f0f921\"]]}],\"surface\":[{\"type\":\"surface\",\"colorbar\":{\"outlinewidth\":0,\"ticks\":\"\"},\"colorscale\":[[0.0,\"#0d0887\"],[0.1111111111111111,\"#46039f\"],[0.2222222222222222,\"#7201a8\"],[0.3333333333333333,\"#9c179e\"],[0.4444444444444444,\"#bd3786\"],[0.5555555555555556,\"#d8576b\"],[0.6666666666666666,\"#ed7953\"],[0.7777777777777778,\"#fb9f3a\"],[0.8888888888888888,\"#fdca26\"],[1.0,\"#f0f921\"]]}],\"mesh3d\":[{\"type\":\"mesh3d\",\"colorbar\":{\"outlinewidth\":0,\"ticks\":\"\"}}],\"scatter\":[{\"fillpattern\":{\"fillmode\":\"overlay\",\"size\":10,\"solidity\":0.2},\"type\":\"scatter\"}],\"parcoords\":[{\"type\":\"parcoords\",\"line\":{\"colorbar\":{\"outlinewidth\":0,\"ticks\":\"\"}}}],\"scatterpolargl\":[{\"type\":\"scatterpolargl\",\"marker\":{\"colorbar\":{\"outlinewidth\":0,\"ticks\":\"\"}}}],\"bar\":[{\"error_x\":{\"color\":\"#2a3f5f\"},\"error_y\":{\"color\":\"#2a3f5f\"},\"marker\":{\"line\":{\"color\":\"#E5ECF6\",\"width\":0.5},\"pattern\":{\"fillmode\":\"overlay\",\"size\":10,\"solidity\":0.2}},\"type\":\"bar\"}],\"scattergeo\":[{\"type\":\"scattergeo\",\"marker\":{\"colorbar\":{\"outlinewidth\":0,\"ticks\":\"\"}}}],\"scatterpolar\":[{\"type\":\"scatterpolar\",\"marker\":{\"colorbar\":{\"outlinewidth\":0,\"ticks\":\"\"}}}],\"histogram\":[{\"marker\":{\"pattern\":{\"fillmode\":\"overlay\",\"size\":10,\"solidity\":0.2}},\"type\":\"histogram\"}],\"scattergl\":[{\"type\":\"scattergl\",\"marker\":{\"colorbar\":{\"outlinewidth\":0,\"ticks\":\"\"}}}],\"scatter3d\":[{\"type\":\"scatter3d\",\"line\":{\"colorbar\":{\"outlinewidth\":0,\"ticks\":\"\"}},\"marker\":{\"colorbar\":{\"outlinewidth\":0,\"ticks\":\"\"}}}],\"scattermapbox\":[{\"type\":\"scattermapbox\",\"marker\":{\"colorbar\":{\"outlinewidth\":0,\"ticks\":\"\"}}}],\"scatterternary\":[{\"type\":\"scatterternary\",\"marker\":{\"colorbar\":{\"outlinewidth\":0,\"ticks\":\"\"}}}],\"scattercarpet\":[{\"type\":\"scattercarpet\",\"marker\":{\"colorbar\":{\"outlinewidth\":0,\"ticks\":\"\"}}}],\"carpet\":[{\"aaxis\":{\"endlinecolor\":\"#2a3f5f\",\"gridcolor\":\"white\",\"linecolor\":\"white\",\"minorgridcolor\":\"white\",\"startlinecolor\":\"#2a3f5f\"},\"baxis\":{\"endlinecolor\":\"#2a3f5f\",\"gridcolor\":\"white\",\"linecolor\":\"white\",\"minorgridcolor\":\"white\",\"startlinecolor\":\"#2a3f5f\"},\"type\":\"carpet\"}],\"table\":[{\"cells\":{\"fill\":{\"color\":\"#EBF0F8\"},\"line\":{\"color\":\"white\"}},\"header\":{\"fill\":{\"color\":\"#C8D4E3\"},\"line\":{\"color\":\"white\"}},\"type\":\"table\"}],\"barpolar\":[{\"marker\":{\"line\":{\"color\":\"#E5ECF6\",\"width\":0.5},\"pattern\":{\"fillmode\":\"overlay\",\"size\":10,\"solidity\":0.2}},\"type\":\"barpolar\"}],\"pie\":[{\"automargin\":true,\"type\":\"pie\"}]},\"layout\":{\"autotypenumbers\":\"strict\",\"colorway\":[\"#636efa\",\"#EF553B\",\"#00cc96\",\"#ab63fa\",\"#FFA15A\",\"#19d3f3\",\"#FF6692\",\"#B6E880\",\"#FF97FF\",\"#FECB52\"],\"font\":{\"color\":\"#2a3f5f\"},\"hovermode\":\"closest\",\"hoverlabel\":{\"align\":\"left\"},\"paper_bgcolor\":\"white\",\"plot_bgcolor\":\"#E5ECF6\",\"polar\":{\"bgcolor\":\"#E5ECF6\",\"angularaxis\":{\"gridcolor\":\"white\",\"linecolor\":\"white\",\"ticks\":\"\"},\"radialaxis\":{\"gridcolor\":\"white\",\"linecolor\":\"white\",\"ticks\":\"\"}},\"ternary\":{\"bgcolor\":\"#E5ECF6\",\"aaxis\":{\"gridcolor\":\"white\",\"linecolor\":\"white\",\"ticks\":\"\"},\"baxis\":{\"gridcolor\":\"white\",\"linecolor\":\"white\",\"ticks\":\"\"},\"caxis\":{\"gridcolor\":\"white\",\"linecolor\":\"white\",\"ticks\":\"\"}},\"coloraxis\":{\"colorbar\":{\"outlinewidth\":0,\"ticks\":\"\"}},\"colorscale\":{\"sequential\":[[0.0,\"#0d0887\"],[0.1111111111111111,\"#46039f\"],[0.2222222222222222,\"#7201a8\"],[0.3333333333333333,\"#9c179e\"],[0.4444444444444444,\"#bd3786\"],[0.5555555555555556,\"#d8576b\"],[0.6666666666666666,\"#ed7953\"],[0.7777777777777778,\"#fb9f3a\"],[0.8888888888888888,\"#fdca26\"],[1.0,\"#f0f921\"]],\"sequentialminus\":[[0.0,\"#0d0887\"],[0.1111111111111111,\"#46039f\"],[0.2222222222222222,\"#7201a8\"],[0.3333333333333333,\"#9c179e\"],[0.4444444444444444,\"#bd3786\"],[0.5555555555555556,\"#d8576b\"],[0.6666666666666666,\"#ed7953\"],[0.7777777777777778,\"#fb9f3a\"],[0.8888888888888888,\"#fdca26\"],[1.0,\"#f0f921\"]],\"diverging\":[[0,\"#8e0152\"],[0.1,\"#c51b7d\"],[0.2,\"#de77ae\"],[0.3,\"#f1b6da\"],[0.4,\"#fde0ef\"],[0.5,\"#f7f7f7\"],[0.6,\"#e6f5d0\"],[0.7,\"#b8e186\"],[0.8,\"#7fbc41\"],[0.9,\"#4d9221\"],[1,\"#276419\"]]},\"xaxis\":{\"gridcolor\":\"white\",\"linecolor\":\"white\",\"ticks\":\"\",\"title\":{\"standoff\":15},\"zerolinecolor\":\"white\",\"automargin\":true,\"zerolinewidth\":2},\"yaxis\":{\"gridcolor\":\"white\",\"linecolor\":\"white\",\"ticks\":\"\",\"title\":{\"standoff\":15},\"zerolinecolor\":\"white\",\"automargin\":true,\"zerolinewidth\":2},\"scene\":{\"xaxis\":{\"backgroundcolor\":\"#E5ECF6\",\"gridcolor\":\"white\",\"linecolor\":\"white\",\"showbackground\":true,\"ticks\":\"\",\"zerolinecolor\":\"white\",\"gridwidth\":2},\"yaxis\":{\"backgroundcolor\":\"#E5ECF6\",\"gridcolor\":\"white\",\"linecolor\":\"white\",\"showbackground\":true,\"ticks\":\"\",\"zerolinecolor\":\"white\",\"gridwidth\":2},\"zaxis\":{\"backgroundcolor\":\"#E5ECF6\",\"gridcolor\":\"white\",\"linecolor\":\"white\",\"showbackground\":true,\"ticks\":\"\",\"zerolinecolor\":\"white\",\"gridwidth\":2}},\"shapedefaults\":{\"line\":{\"color\":\"#2a3f5f\"}},\"annotationdefaults\":{\"arrowcolor\":\"#2a3f5f\",\"arrowhead\":0,\"arrowwidth\":1},\"geo\":{\"bgcolor\":\"white\",\"landcolor\":\"#E5ECF6\",\"subunitcolor\":\"white\",\"showland\":true,\"showlakes\":true,\"lakecolor\":\"white\"},\"title\":{\"x\":0.05},\"mapbox\":{\"style\":\"light\"}}}},                        {\"responsive\": true}                    ).then(function(){\n",
              "                            \n",
              "var gd = document.getElementById('df310274-2a1f-480d-901a-19479b7c691c');\n",
              "var x = new MutationObserver(function (mutations, observer) {{\n",
              "        var display = window.getComputedStyle(gd).display;\n",
              "        if (!display || display === 'none') {{\n",
              "            console.log([gd, 'removed!']);\n",
              "            Plotly.purge(gd);\n",
              "            observer.disconnect();\n",
              "        }}\n",
              "}});\n",
              "\n",
              "// Listen for the removal of the full notebook cells\n",
              "var notebookContainer = gd.closest('#notebook-container');\n",
              "if (notebookContainer) {{\n",
              "    x.observe(notebookContainer, {childList: true});\n",
              "}}\n",
              "\n",
              "// Listen for the clearing of the current output cell\n",
              "var outputEl = gd.closest('.output');\n",
              "if (outputEl) {{\n",
              "    x.observe(outputEl, {childList: true});\n",
              "}}\n",
              "\n",
              "                        })                };                            </script>        </div>\n",
              "</body>\n",
              "</html>"
            ]
          },
          "metadata": {}
        },
        {
          "output_type": "stream",
          "name": "stdout",
          "text": [
            "完了\n"
          ]
        }
      ]
    },
    {
      "cell_type": "code",
      "source": [
        "# ===============================================================\n",
        "# STEP 10: 【最終版】可視化とHTMLファイルの保存\n",
        "# ===============================================================\n",
        "# 以前の5つの描画セルとSTEP10の保存セルを、この一つのセルにまとめます。\n",
        "\n",
        "import os\n",
        "\n",
        "print(\"📊 V2: 可視化とHTML保存を開始します...\")\n",
        "\n",
        "# 1. グラフオブジェクトを生成し、リストに保存\n",
        "#    この方法なら、前のセルで何が起きたかを気にする必要がありません。\n",
        "charts_to_save = {\n",
        "    'synergy_heatmap': viz_engine.create_synergy_heatmap(),\n",
        "    'growth_trajectory': viz_engine.create_growth_trajectory(),\n",
        "    'business_metrics_dashboard': viz_engine.create_business_metrics_dashboard(),\n",
        "    'shapley_value_chart': viz_engine.create_shapley_value_chart(),\n",
        "    'network_graph': viz_engine.create_network_graph()\n",
        "}\n",
        "print(\"✅ 5つのグラフオブジェクトの生成が完了しました。\")\n",
        "\n",
        "# 2. 生成した各グラフをノートブック上に表示\n",
        "print(\"\\n--- グラフの表示を開始 ---\")\n",
        "for name, fig in charts_to_save.items():\n",
        "    print(f\"表示中: {name}\")\n",
        "    fig.show()\n",
        "print(\"✅ 全てのグラフの表示が完了しました。\")\n",
        "\n",
        "\n",
        "# 3. HTMLファイルとしてGoogle Driveに保存\n",
        "save_path = \"/content/drive/MyDrive/synergy_analysis_charts_V2/\"\n",
        "if not os.path.exists(save_path):\n",
        "    os.makedirs(save_path)\n",
        "    print(f\"\\n✅ 保存用フォルダを作成しました: {save_path}\")\n",
        "\n",
        "if charts_to_save:\n",
        "    print(\"\\n--- HTMLファイルへの保存を開始 ---\")\n",
        "    for chart_name, chart_figure in charts_to_save.items():\n",
        "        file_path = f\"{save_path}{chart_name}.html\"\n",
        "        try:\n",
        "            chart_figure.write_html(file_path, include_plotlyjs='cdn')\n",
        "            print(f\"✅ '{chart_name}' を保存しました: {file_path}\")\n",
        "        except Exception as e:\n",
        "            print(f\"⚠️ '{chart_name}' の保存中にエラーが発生しました: {e}\")\n",
        "    print(\"✅ 全てのグラフのHTML保存が完了しました。\")\n",
        "else:\n",
        "    print(\"⚠️ 保存するグラフがありませんでした。\")"
      ],
      "metadata": {
        "id": "2YjoYmVzFTPo",
        "outputId": "38886de6-5d25-4566-bf76-973b163a298d",
        "colab": {
          "base_uri": "https://localhost:8080/",
          "height": 1000
        }
      },
      "execution_count": 24,
      "outputs": [
        {
          "output_type": "stream",
          "name": "stdout",
          "text": [
            "📊 V2: 可視化とHTML保存を開始します...\n",
            "✅ 5つのグラフオブジェクトの生成が完了しました。\n",
            "\n",
            "--- グラフの表示を開始 ---\n",
            "表示中: synergy_heatmap\n"
          ]
        },
        {
          "output_type": "display_data",
          "data": {
            "text/html": [
              "<html>\n",
              "<head><meta charset=\"utf-8\" /></head>\n",
              "<body>\n",
              "    <div>            <script src=\"https://cdnjs.cloudflare.com/ajax/libs/mathjax/2.7.5/MathJax.js?config=TeX-AMS-MML_SVG\"></script><script type=\"text/javascript\">if (window.MathJax && window.MathJax.Hub && window.MathJax.Hub.Config) {window.MathJax.Hub.Config({SVG: {font: \"STIX-Web\"}});}</script>                <script type=\"text/javascript\">window.PlotlyConfig = {MathJaxConfig: 'local'};</script>\n",
              "        <script charset=\"utf-8\" src=\"https://cdn.plot.ly/plotly-2.35.2.min.js\"></script>                <div id=\"5d585f6a-f12d-4de9-bf86-a98aadf4aee0\" class=\"plotly-graph-div\" style=\"height:525px; width:100%;\"></div>            <script type=\"text/javascript\">                                    window.PLOTLYENV=window.PLOTLYENV || {};                                    if (document.getElementById(\"5d585f6a-f12d-4de9-bf86-a98aadf4aee0\")) {                    Plotly.newPlot(                        \"5d585f6a-f12d-4de9-bf86-a98aadf4aee0\",                        [{\"coloraxis\":\"coloraxis\",\"name\":\"0\",\"texttemplate\":\"%{z:.3f}\",\"x\":[\"Arale Cohen\",\"Yanay Geva\",\"Yasuyuki Sakane\"],\"y\":[\"Arale Cohen\",\"Yanay Geva\",\"Yasuyuki Sakane\"],\"z\":[[0.0,0.5232546344399452,0.7503589975833893],[0.5232546344399452,0.0,0.759177188873291],[0.7503589975833893,0.759177188873291,0.0]],\"type\":\"heatmap\",\"xaxis\":\"x\",\"yaxis\":\"y\",\"hovertemplate\":\"メンバー: %{x}\\u003cbr\\u003eメンバー: %{y}\\u003cbr\\u003eシナジー強度: %{z}\\u003cextra\\u003e\\u003c\\u002fextra\\u003e\"}],                        {\"template\":{\"data\":{\"histogram2dcontour\":[{\"type\":\"histogram2dcontour\",\"colorbar\":{\"outlinewidth\":0,\"ticks\":\"\"},\"colorscale\":[[0.0,\"#0d0887\"],[0.1111111111111111,\"#46039f\"],[0.2222222222222222,\"#7201a8\"],[0.3333333333333333,\"#9c179e\"],[0.4444444444444444,\"#bd3786\"],[0.5555555555555556,\"#d8576b\"],[0.6666666666666666,\"#ed7953\"],[0.7777777777777778,\"#fb9f3a\"],[0.8888888888888888,\"#fdca26\"],[1.0,\"#f0f921\"]]}],\"choropleth\":[{\"type\":\"choropleth\",\"colorbar\":{\"outlinewidth\":0,\"ticks\":\"\"}}],\"histogram2d\":[{\"type\":\"histogram2d\",\"colorbar\":{\"outlinewidth\":0,\"ticks\":\"\"},\"colorscale\":[[0.0,\"#0d0887\"],[0.1111111111111111,\"#46039f\"],[0.2222222222222222,\"#7201a8\"],[0.3333333333333333,\"#9c179e\"],[0.4444444444444444,\"#bd3786\"],[0.5555555555555556,\"#d8576b\"],[0.6666666666666666,\"#ed7953\"],[0.7777777777777778,\"#fb9f3a\"],[0.8888888888888888,\"#fdca26\"],[1.0,\"#f0f921\"]]}],\"heatmap\":[{\"type\":\"heatmap\",\"colorbar\":{\"outlinewidth\":0,\"ticks\":\"\"},\"colorscale\":[[0.0,\"#0d0887\"],[0.1111111111111111,\"#46039f\"],[0.2222222222222222,\"#7201a8\"],[0.3333333333333333,\"#9c179e\"],[0.4444444444444444,\"#bd3786\"],[0.5555555555555556,\"#d8576b\"],[0.6666666666666666,\"#ed7953\"],[0.7777777777777778,\"#fb9f3a\"],[0.8888888888888888,\"#fdca26\"],[1.0,\"#f0f921\"]]}],\"heatmapgl\":[{\"type\":\"heatmapgl\",\"colorbar\":{\"outlinewidth\":0,\"ticks\":\"\"},\"colorscale\":[[0.0,\"#0d0887\"],[0.1111111111111111,\"#46039f\"],[0.2222222222222222,\"#7201a8\"],[0.3333333333333333,\"#9c179e\"],[0.4444444444444444,\"#bd3786\"],[0.5555555555555556,\"#d8576b\"],[0.6666666666666666,\"#ed7953\"],[0.7777777777777778,\"#fb9f3a\"],[0.8888888888888888,\"#fdca26\"],[1.0,\"#f0f921\"]]}],\"contourcarpet\":[{\"type\":\"contourcarpet\",\"colorbar\":{\"outlinewidth\":0,\"ticks\":\"\"}}],\"contour\":[{\"type\":\"contour\",\"colorbar\":{\"outlinewidth\":0,\"ticks\":\"\"},\"colorscale\":[[0.0,\"#0d0887\"],[0.1111111111111111,\"#46039f\"],[0.2222222222222222,\"#7201a8\"],[0.3333333333333333,\"#9c179e\"],[0.4444444444444444,\"#bd3786\"],[0.5555555555555556,\"#d8576b\"],[0.6666666666666666,\"#ed7953\"],[0.7777777777777778,\"#fb9f3a\"],[0.8888888888888888,\"#fdca26\"],[1.0,\"#f0f921\"]]}],\"surface\":[{\"type\":\"surface\",\"colorbar\":{\"outlinewidth\":0,\"ticks\":\"\"},\"colorscale\":[[0.0,\"#0d0887\"],[0.1111111111111111,\"#46039f\"],[0.2222222222222222,\"#7201a8\"],[0.3333333333333333,\"#9c179e\"],[0.4444444444444444,\"#bd3786\"],[0.5555555555555556,\"#d8576b\"],[0.6666666666666666,\"#ed7953\"],[0.7777777777777778,\"#fb9f3a\"],[0.8888888888888888,\"#fdca26\"],[1.0,\"#f0f921\"]]}],\"mesh3d\":[{\"type\":\"mesh3d\",\"colorbar\":{\"outlinewidth\":0,\"ticks\":\"\"}}],\"scatter\":[{\"fillpattern\":{\"fillmode\":\"overlay\",\"size\":10,\"solidity\":0.2},\"type\":\"scatter\"}],\"parcoords\":[{\"type\":\"parcoords\",\"line\":{\"colorbar\":{\"outlinewidth\":0,\"ticks\":\"\"}}}],\"scatterpolargl\":[{\"type\":\"scatterpolargl\",\"marker\":{\"colorbar\":{\"outlinewidth\":0,\"ticks\":\"\"}}}],\"bar\":[{\"error_x\":{\"color\":\"#2a3f5f\"},\"error_y\":{\"color\":\"#2a3f5f\"},\"marker\":{\"line\":{\"color\":\"#E5ECF6\",\"width\":0.5},\"pattern\":{\"fillmode\":\"overlay\",\"size\":10,\"solidity\":0.2}},\"type\":\"bar\"}],\"scattergeo\":[{\"type\":\"scattergeo\",\"marker\":{\"colorbar\":{\"outlinewidth\":0,\"ticks\":\"\"}}}],\"scatterpolar\":[{\"type\":\"scatterpolar\",\"marker\":{\"colorbar\":{\"outlinewidth\":0,\"ticks\":\"\"}}}],\"histogram\":[{\"marker\":{\"pattern\":{\"fillmode\":\"overlay\",\"size\":10,\"solidity\":0.2}},\"type\":\"histogram\"}],\"scattergl\":[{\"type\":\"scattergl\",\"marker\":{\"colorbar\":{\"outlinewidth\":0,\"ticks\":\"\"}}}],\"scatter3d\":[{\"type\":\"scatter3d\",\"line\":{\"colorbar\":{\"outlinewidth\":0,\"ticks\":\"\"}},\"marker\":{\"colorbar\":{\"outlinewidth\":0,\"ticks\":\"\"}}}],\"scattermapbox\":[{\"type\":\"scattermapbox\",\"marker\":{\"colorbar\":{\"outlinewidth\":0,\"ticks\":\"\"}}}],\"scatterternary\":[{\"type\":\"scatterternary\",\"marker\":{\"colorbar\":{\"outlinewidth\":0,\"ticks\":\"\"}}}],\"scattercarpet\":[{\"type\":\"scattercarpet\",\"marker\":{\"colorbar\":{\"outlinewidth\":0,\"ticks\":\"\"}}}],\"carpet\":[{\"aaxis\":{\"endlinecolor\":\"#2a3f5f\",\"gridcolor\":\"white\",\"linecolor\":\"white\",\"minorgridcolor\":\"white\",\"startlinecolor\":\"#2a3f5f\"},\"baxis\":{\"endlinecolor\":\"#2a3f5f\",\"gridcolor\":\"white\",\"linecolor\":\"white\",\"minorgridcolor\":\"white\",\"startlinecolor\":\"#2a3f5f\"},\"type\":\"carpet\"}],\"table\":[{\"cells\":{\"fill\":{\"color\":\"#EBF0F8\"},\"line\":{\"color\":\"white\"}},\"header\":{\"fill\":{\"color\":\"#C8D4E3\"},\"line\":{\"color\":\"white\"}},\"type\":\"table\"}],\"barpolar\":[{\"marker\":{\"line\":{\"color\":\"#E5ECF6\",\"width\":0.5},\"pattern\":{\"fillmode\":\"overlay\",\"size\":10,\"solidity\":0.2}},\"type\":\"barpolar\"}],\"pie\":[{\"automargin\":true,\"type\":\"pie\"}]},\"layout\":{\"autotypenumbers\":\"strict\",\"colorway\":[\"#636efa\",\"#EF553B\",\"#00cc96\",\"#ab63fa\",\"#FFA15A\",\"#19d3f3\",\"#FF6692\",\"#B6E880\",\"#FF97FF\",\"#FECB52\"],\"font\":{\"color\":\"#2a3f5f\"},\"hovermode\":\"closest\",\"hoverlabel\":{\"align\":\"left\"},\"paper_bgcolor\":\"white\",\"plot_bgcolor\":\"#E5ECF6\",\"polar\":{\"bgcolor\":\"#E5ECF6\",\"angularaxis\":{\"gridcolor\":\"white\",\"linecolor\":\"white\",\"ticks\":\"\"},\"radialaxis\":{\"gridcolor\":\"white\",\"linecolor\":\"white\",\"ticks\":\"\"}},\"ternary\":{\"bgcolor\":\"#E5ECF6\",\"aaxis\":{\"gridcolor\":\"white\",\"linecolor\":\"white\",\"ticks\":\"\"},\"baxis\":{\"gridcolor\":\"white\",\"linecolor\":\"white\",\"ticks\":\"\"},\"caxis\":{\"gridcolor\":\"white\",\"linecolor\":\"white\",\"ticks\":\"\"}},\"coloraxis\":{\"colorbar\":{\"outlinewidth\":0,\"ticks\":\"\"}},\"colorscale\":{\"sequential\":[[0.0,\"#0d0887\"],[0.1111111111111111,\"#46039f\"],[0.2222222222222222,\"#7201a8\"],[0.3333333333333333,\"#9c179e\"],[0.4444444444444444,\"#bd3786\"],[0.5555555555555556,\"#d8576b\"],[0.6666666666666666,\"#ed7953\"],[0.7777777777777778,\"#fb9f3a\"],[0.8888888888888888,\"#fdca26\"],[1.0,\"#f0f921\"]],\"sequentialminus\":[[0.0,\"#0d0887\"],[0.1111111111111111,\"#46039f\"],[0.2222222222222222,\"#7201a8\"],[0.3333333333333333,\"#9c179e\"],[0.4444444444444444,\"#bd3786\"],[0.5555555555555556,\"#d8576b\"],[0.6666666666666666,\"#ed7953\"],[0.7777777777777778,\"#fb9f3a\"],[0.8888888888888888,\"#fdca26\"],[1.0,\"#f0f921\"]],\"diverging\":[[0,\"#8e0152\"],[0.1,\"#c51b7d\"],[0.2,\"#de77ae\"],[0.3,\"#f1b6da\"],[0.4,\"#fde0ef\"],[0.5,\"#f7f7f7\"],[0.6,\"#e6f5d0\"],[0.7,\"#b8e186\"],[0.8,\"#7fbc41\"],[0.9,\"#4d9221\"],[1,\"#276419\"]]},\"xaxis\":{\"gridcolor\":\"white\",\"linecolor\":\"white\",\"ticks\":\"\",\"title\":{\"standoff\":15},\"zerolinecolor\":\"white\",\"automargin\":true,\"zerolinewidth\":2},\"yaxis\":{\"gridcolor\":\"white\",\"linecolor\":\"white\",\"ticks\":\"\",\"title\":{\"standoff\":15},\"zerolinecolor\":\"white\",\"automargin\":true,\"zerolinewidth\":2},\"scene\":{\"xaxis\":{\"backgroundcolor\":\"#E5ECF6\",\"gridcolor\":\"white\",\"linecolor\":\"white\",\"showbackground\":true,\"ticks\":\"\",\"zerolinecolor\":\"white\",\"gridwidth\":2},\"yaxis\":{\"backgroundcolor\":\"#E5ECF6\",\"gridcolor\":\"white\",\"linecolor\":\"white\",\"showbackground\":true,\"ticks\":\"\",\"zerolinecolor\":\"white\",\"gridwidth\":2},\"zaxis\":{\"backgroundcolor\":\"#E5ECF6\",\"gridcolor\":\"white\",\"linecolor\":\"white\",\"showbackground\":true,\"ticks\":\"\",\"zerolinecolor\":\"white\",\"gridwidth\":2}},\"shapedefaults\":{\"line\":{\"color\":\"#2a3f5f\"}},\"annotationdefaults\":{\"arrowcolor\":\"#2a3f5f\",\"arrowhead\":0,\"arrowwidth\":1},\"geo\":{\"bgcolor\":\"white\",\"landcolor\":\"#E5ECF6\",\"subunitcolor\":\"white\",\"showland\":true,\"showlakes\":true,\"lakecolor\":\"white\"},\"title\":{\"x\":0.05},\"mapbox\":{\"style\":\"light\"}}},\"xaxis\":{\"anchor\":\"y\",\"domain\":[0.0,1.0],\"scaleanchor\":\"y\",\"constrain\":\"domain\",\"title\":{\"text\":\"メンバー\"}},\"yaxis\":{\"anchor\":\"x\",\"domain\":[0.0,1.0],\"autorange\":\"reversed\",\"constrain\":\"domain\",\"title\":{\"text\":\"メンバー\"}},\"coloraxis\":{\"colorbar\":{\"title\":{\"text\":\"シナジー強度\"}},\"colorscale\":[[0.0,\"rgb(247,251,255)\"],[0.125,\"rgb(222,235,247)\"],[0.25,\"rgb(198,219,239)\"],[0.375,\"rgb(158,202,225)\"],[0.5,\"rgb(107,174,214)\"],[0.625,\"rgb(66,146,198)\"],[0.75,\"rgb(33,113,181)\"],[0.875,\"rgb(8,81,156)\"],[1.0,\"rgb(8,48,107)\"]]},\"margin\":{\"t\":60},\"title\":{\"text\":\"V2: 総合シナジーマトリックス（セマンティック版）\"}},                        {\"responsive\": true}                    ).then(function(){\n",
              "                            \n",
              "var gd = document.getElementById('5d585f6a-f12d-4de9-bf86-a98aadf4aee0');\n",
              "var x = new MutationObserver(function (mutations, observer) {{\n",
              "        var display = window.getComputedStyle(gd).display;\n",
              "        if (!display || display === 'none') {{\n",
              "            console.log([gd, 'removed!']);\n",
              "            Plotly.purge(gd);\n",
              "            observer.disconnect();\n",
              "        }}\n",
              "}});\n",
              "\n",
              "// Listen for the removal of the full notebook cells\n",
              "var notebookContainer = gd.closest('#notebook-container');\n",
              "if (notebookContainer) {{\n",
              "    x.observe(notebookContainer, {childList: true});\n",
              "}}\n",
              "\n",
              "// Listen for the clearing of the current output cell\n",
              "var outputEl = gd.closest('.output');\n",
              "if (outputEl) {{\n",
              "    x.observe(outputEl, {childList: true});\n",
              "}}\n",
              "\n",
              "                        })                };                            </script>        </div>\n",
              "</body>\n",
              "</html>"
            ]
          },
          "metadata": {}
        },
        {
          "output_type": "stream",
          "name": "stdout",
          "text": [
            "表示中: growth_trajectory\n"
          ]
        },
        {
          "output_type": "display_data",
          "data": {
            "text/html": [
              "<html>\n",
              "<head><meta charset=\"utf-8\" /></head>\n",
              "<body>\n",
              "    <div>            <script src=\"https://cdnjs.cloudflare.com/ajax/libs/mathjax/2.7.5/MathJax.js?config=TeX-AMS-MML_SVG\"></script><script type=\"text/javascript\">if (window.MathJax && window.MathJax.Hub && window.MathJax.Hub.Config) {window.MathJax.Hub.Config({SVG: {font: \"STIX-Web\"}});}</script>                <script type=\"text/javascript\">window.PlotlyConfig = {MathJaxConfig: 'local'};</script>\n",
              "        <script charset=\"utf-8\" src=\"https://cdn.plot.ly/plotly-2.35.2.min.js\"></script>                <div id=\"035ce50a-8de8-4759-afd2-99a5b42ae4ba\" class=\"plotly-graph-div\" style=\"height:525px; width:100%;\"></div>            <script type=\"text/javascript\">                                    window.PLOTLYENV=window.PLOTLYENV || {};                                    if (document.getElementById(\"035ce50a-8de8-4759-afd2-99a5b42ae4ba\")) {                    Plotly.newPlot(                        \"035ce50a-8de8-4759-afd2-99a5b42ae4ba\",                        [{\"hovertemplate\":\"variable=Arale Cohen\\u003cbr\\u003e時間（月）=%{x}\\u003cbr\\u003eパフォーマンス指数=%{y}\\u003cextra\\u003e\\u003c\\u002fextra\\u003e\",\"legendgroup\":\"Arale Cohen\",\"line\":{\"color\":\"#636efa\",\"dash\":\"solid\"},\"marker\":{\"symbol\":\"circle\"},\"mode\":\"lines\",\"name\":\"Arale Cohen\",\"orientation\":\"v\",\"showlegend\":true,\"x\":[0.0,0.25263157894736843,0.5052631578947369,0.7578947368421053,1.0105263157894737,1.263157894736842,1.5157894736842106,1.7684210526315791,2.0210526315789474,2.2736842105263158,2.526315789473684,2.778947368421053,3.031578947368421,3.2842105263157895,3.5368421052631582,3.7894736842105265,4.042105263157895,4.294736842105263,4.5473684210526315,4.8,5.052631578947368,5.305263157894737,5.557894736842106,5.810526315789474,6.063157894736842,6.315789473684211,6.568421052631579,6.821052631578947,7.0736842105263165,7.326315789473685,7.578947368421053,7.831578947368421,8.08421052631579,8.336842105263159,8.589473684210526,8.842105263157896,9.094736842105263,9.347368421052632,9.6,9.852631578947369,10.105263157894736,10.357894736842105,10.610526315789475,10.863157894736842,11.115789473684211,11.368421052631579,11.621052631578948,11.873684210526315,12.126315789473685,12.378947368421054,12.631578947368421,12.88421052631579,13.136842105263158,13.389473684210527,13.642105263157895,13.894736842105264,14.147368421052633,14.4,14.65263157894737,14.905263157894737,15.157894736842106,15.410526315789474,15.663157894736843,15.91578947368421,16.16842105263158,16.42105263157895,16.673684210526318,16.926315789473684,17.178947368421053,17.431578947368422,17.68421052631579,17.936842105263157,18.189473684210526,18.442105263157895,18.694736842105264,18.947368421052634,19.2,19.45263157894737,19.705263157894738,19.957894736842107,20.210526315789473,20.46315789473684,20.71578947368421,20.96842105263158,21.22105263157895,21.473684210526315,21.726315789473684,21.978947368421053,22.231578947368423,22.484210526315792,22.736842105263158,22.989473684210527,23.242105263157896,23.494736842105265,23.74736842105263,24.0],\"xaxis\":\"x\",\"y\":[1.0,1.129188330151338,1.273320481473976,1.4336177523192524,1.611263194540303,1.807358686431656,2.022874600011192,2.258592002979832,2.5150405096331667,2.7924335251627754,3.0906055444992906,3.4089565091067158,3.7464087172279665,4.1013823998654875,4.4717949796714915,4.85508811868421,5.248284086056753,5.648069620186047,6.050903870371085,6.453142666675552,6.851170203573106,7.241527894785463,7.621031198604487,7.9868659683575585,8.33665899397726,8.668520168846474,8.981056606231661,9.27336137244727,9.544981602909266,9.795871113400798,10.02633334748802,10.236959734058239,10.428567863835585,10.602142832897096,10.758784065088419,10.89965904980497,11.0259643215512,11.138894104228447,11.239615739782451,11.329251398829333,11.408865186942707,11.479454764207466,11.54194662510397,11.59719428627517,11.64597865234218,11.689010005897126,11.72693115813513,11.760321331489548,11.78970048153965,11.815533864274158,11.838236611227625,11.858178220940392,11.875686874888656,11.891053524998707,11.90453569402764,11.91636100346476,11.926730375232344,11.935821006288151,11.943788996215751,11.950771769899973,11.956890211586634,11.962250584323348,11.96694626113918,11.971059242217114,11.974661505974648,11.977816221723135,11.980578802476021,11.982997838360758,11.985115942542011,11.986970461366992,11.988594132074796,11.990015639261381,11.991260112689625,11.992349572722771,11.993303302995994,11.994138196759401,11.99486904713682,11.995508810073979,11.996068832865728,11.996559037071329,11.996988125954227,11.997363719206565,11.997692482929807,11.997980257231651,11.998232148857035,11.998452628288831,11.998645615360342,11.998814533597145,11.998962386955462,11.999091789912542,11.999205061533704,11.999304211468795,11.999390993745545,11.999466959130803,11.999533443858716,11.999591639421718],\"yaxis\":\"y\",\"type\":\"scatter\"},{\"hovertemplate\":\"variable=Yanay Geva\\u003cbr\\u003e時間（月）=%{x}\\u003cbr\\u003eパフォーマンス指数=%{y}\\u003cextra\\u003e\\u003c\\u002fextra\\u003e\",\"legendgroup\":\"Yanay Geva\",\"line\":{\"color\":\"#EF553B\",\"dash\":\"solid\"},\"marker\":{\"symbol\":\"circle\"},\"mode\":\"lines\",\"name\":\"Yanay Geva\",\"orientation\":\"v\",\"showlegend\":true,\"x\":[0.0,0.25263157894736843,0.5052631578947369,0.7578947368421053,1.0105263157894737,1.263157894736842,1.5157894736842106,1.7684210526315791,2.0210526315789474,2.2736842105263158,2.526315789473684,2.778947368421053,3.031578947368421,3.2842105263157895,3.5368421052631582,3.7894736842105265,4.042105263157895,4.294736842105263,4.5473684210526315,4.8,5.052631578947368,5.305263157894737,5.557894736842106,5.810526315789474,6.063157894736842,6.315789473684211,6.568421052631579,6.821052631578947,7.0736842105263165,7.326315789473685,7.578947368421053,7.831578947368421,8.08421052631579,8.336842105263159,8.589473684210526,8.842105263157896,9.094736842105263,9.347368421052632,9.6,9.852631578947369,10.105263157894736,10.357894736842105,10.610526315789475,10.863157894736842,11.115789473684211,11.368421052631579,11.621052631578948,11.873684210526315,12.126315789473685,12.378947368421054,12.631578947368421,12.88421052631579,13.136842105263158,13.389473684210527,13.642105263157895,13.894736842105264,14.147368421052633,14.4,14.65263157894737,14.905263157894737,15.157894736842106,15.410526315789474,15.663157894736843,15.91578947368421,16.16842105263158,16.42105263157895,16.673684210526318,16.926315789473684,17.178947368421053,17.431578947368422,17.68421052631579,17.936842105263157,18.189473684210526,18.442105263157895,18.694736842105264,18.947368421052634,19.2,19.45263157894737,19.705263157894738,19.957894736842107,20.210526315789473,20.46315789473684,20.71578947368421,20.96842105263158,21.22105263157895,21.473684210526315,21.726315789473684,21.978947368421053,22.231578947368423,22.484210526315792,22.736842105263158,22.989473684210527,23.242105263157896,23.494736842105265,23.74736842105263,24.0],\"xaxis\":\"x\",\"y\":[1.0,1.1168194280181927,1.2464791492035396,1.390039573040004,1.54854701387246,1.723002462019214,1.9143242934487095,2.1233046342895445,2.350561259116008,2.5964859272744163,2.8611922523141824,3.144466365058994,3.4457244335012067,3.7639815359854194,4.097836108847423,4.445473823054659,4.80469328471421,5.172953790934094,5.547444253387891,5.925169180563452,6.303046330435367,6.678009087347036,7.047106564570984,7.407594349423581,7.7570103659098155,8.09323198782204,8.414512539206287,8.719497187046942,9.007220164103257,9.277086027480863,9.52883874273876,9.762522340113124,9.978436810552852,10.177092405983817,10.359164902135944,10.525453762777449,10.676844313723272,10.814274901257132,10.938709045262158,11.051112632174336,11.15243579906318,11.24359905568304,11.325483107744077,11.398921832772814,11.464697855949334,11.523540217322436,11.576123730210696,11.623069580554658,11.664946877263919,11.702274888143654,11.735525706167873,11.765127199371484,11.79146610059949,11.814891138166805,11.835716111136724,11.854222881681478,11.870664192255274,11.885266394436863,11.89823192237018,11.909741653220912,11.919957024069197,11.929022005841484,11.937064900060905,11.944199970172075,11.950528914797427,11.956142208918754,11.96112030340205,11.965534702757562,11.969448949295233,11.972919479637591,11.975996415839532,11.978724255410008,11.98114249329137,11.983286184589307,11.985186429401864,11.986870822686171,11.988363841172944,11.989687196252184,11.990860145325236,11.991899750868066,11.992821159359924,11.993637801929811,11.994361579542682,11.995003048961491,11.995571562428383,11.996075409676287,11.99652194727109,11.99691768556374,11.99726840508883,11.997579208386224,11.997854660975579,11.998098780503456,11.998315121494237,11.998506856573007,11.998676766423209,11.9988273482781],\"yaxis\":\"y\",\"type\":\"scatter\"},{\"hovertemplate\":\"variable=Yasuyuki Sakane\\u003cbr\\u003e時間（月）=%{x}\\u003cbr\\u003eパフォーマンス指数=%{y}\\u003cextra\\u003e\\u003c\\u002fextra\\u003e\",\"legendgroup\":\"Yasuyuki Sakane\",\"line\":{\"color\":\"#00cc96\",\"dash\":\"solid\"},\"marker\":{\"symbol\":\"circle\"},\"mode\":\"lines\",\"name\":\"Yasuyuki Sakane\",\"orientation\":\"v\",\"showlegend\":true,\"x\":[0.0,0.25263157894736843,0.5052631578947369,0.7578947368421053,1.0105263157894737,1.263157894736842,1.5157894736842106,1.7684210526315791,2.0210526315789474,2.2736842105263158,2.526315789473684,2.778947368421053,3.031578947368421,3.2842105263157895,3.5368421052631582,3.7894736842105265,4.042105263157895,4.294736842105263,4.5473684210526315,4.8,5.052631578947368,5.305263157894737,5.557894736842106,5.810526315789474,6.063157894736842,6.315789473684211,6.568421052631579,6.821052631578947,7.0736842105263165,7.326315789473685,7.578947368421053,7.831578947368421,8.08421052631579,8.336842105263159,8.589473684210526,8.842105263157896,9.094736842105263,9.347368421052632,9.6,9.852631578947369,10.105263157894736,10.357894736842105,10.610526315789475,10.863157894736842,11.115789473684211,11.368421052631579,11.621052631578948,11.873684210526315,12.126315789473685,12.378947368421054,12.631578947368421,12.88421052631579,13.136842105263158,13.389473684210527,13.642105263157895,13.894736842105264,14.147368421052633,14.4,14.65263157894737,14.905263157894737,15.157894736842106,15.410526315789474,15.663157894736843,15.91578947368421,16.16842105263158,16.42105263157895,16.673684210526318,16.926315789473684,17.178947368421053,17.431578947368422,17.68421052631579,17.936842105263157,18.189473684210526,18.442105263157895,18.694736842105264,18.947368421052634,19.2,19.45263157894737,19.705263157894738,19.957894736842107,20.210526315789473,20.46315789473684,20.71578947368421,20.96842105263158,21.22105263157895,21.473684210526315,21.726315789473684,21.978947368421053,22.231578947368423,22.484210526315792,22.736842105263158,22.989473684210527,23.242105263157896,23.494736842105265,23.74736842105263,24.0],\"xaxis\":\"x\",\"y\":[1.0,1.1478264434792196,1.3139740683582277,1.4999159395153254,1.707033808187741,1.9365517622369735,2.189460439503346,2.4664326039825557,2.7677361830674156,3.093148713807047,3.441881340910992,3.81252115502215,4.2029997636450345,4.6105967254542195,5.031982894564575,5.4633062187515495,5.900317375838983,6.338527029065082,6.773384494324512,7.200462180944445,7.615630593621241,8.0152092675036,8.396083267878637,8.755777917819222,9.092490455150864,9.405081541764213,9.693033010249914,9.956380255584527,10.195628713391441,10.411662766055906,10.60565468842711,10.778979107240461,10.933136766916,11.069689671472897,11.190208280647338,11.296230513581813,11.389231231431472,11.470601403944322,11.541634831187359,11.603521164909894,11.657343788686585,11.70408128770328,11.744611459432528,11.779717073888673,11.810092608648917,11.836351538435311,11.859033761272366,11.878612898034739,11.895503249346918,11.910066380252696,11.922617173850151,11.933429361551116,11.942740529014257,11.950756620892978,11.957655939014188,11.963592700928931,11.968700165759103,11.97309341152872,11.976871735025556,11.980120774709103,11.982914356239771,11.985316078248104,11.987380730769283,11.989155485835452,11.990680941586202,11.991992045103595,11.993118861316756,11.994087244759612,11.994919444084553,11.995634583964339,11.996249114998927,11.996777177864233,11.997230926624878,11.99762081452159,11.997955822304535,11.998243671485657,11.998490996924192,11.99870350168252,11.998886088804033,11.99904296036896,11.999177740258276,11.999293541090752,11.99939303514361,11.99947852067592,11.999551967829547,11.999615069939642,11.999669286055289,11.999715865296205,11.999755884898288,11.999790262150976,11.999819801699166,11.999845184066334,11.999866990781413,11.999885729529561,11.999901825750714,11.999915655795734],\"yaxis\":\"y\",\"type\":\"scatter\"}],                        {\"template\":{\"data\":{\"histogram2dcontour\":[{\"type\":\"histogram2dcontour\",\"colorbar\":{\"outlinewidth\":0,\"ticks\":\"\"},\"colorscale\":[[0.0,\"#0d0887\"],[0.1111111111111111,\"#46039f\"],[0.2222222222222222,\"#7201a8\"],[0.3333333333333333,\"#9c179e\"],[0.4444444444444444,\"#bd3786\"],[0.5555555555555556,\"#d8576b\"],[0.6666666666666666,\"#ed7953\"],[0.7777777777777778,\"#fb9f3a\"],[0.8888888888888888,\"#fdca26\"],[1.0,\"#f0f921\"]]}],\"choropleth\":[{\"type\":\"choropleth\",\"colorbar\":{\"outlinewidth\":0,\"ticks\":\"\"}}],\"histogram2d\":[{\"type\":\"histogram2d\",\"colorbar\":{\"outlinewidth\":0,\"ticks\":\"\"},\"colorscale\":[[0.0,\"#0d0887\"],[0.1111111111111111,\"#46039f\"],[0.2222222222222222,\"#7201a8\"],[0.3333333333333333,\"#9c179e\"],[0.4444444444444444,\"#bd3786\"],[0.5555555555555556,\"#d8576b\"],[0.6666666666666666,\"#ed7953\"],[0.7777777777777778,\"#fb9f3a\"],[0.8888888888888888,\"#fdca26\"],[1.0,\"#f0f921\"]]}],\"heatmap\":[{\"type\":\"heatmap\",\"colorbar\":{\"outlinewidth\":0,\"ticks\":\"\"},\"colorscale\":[[0.0,\"#0d0887\"],[0.1111111111111111,\"#46039f\"],[0.2222222222222222,\"#7201a8\"],[0.3333333333333333,\"#9c179e\"],[0.4444444444444444,\"#bd3786\"],[0.5555555555555556,\"#d8576b\"],[0.6666666666666666,\"#ed7953\"],[0.7777777777777778,\"#fb9f3a\"],[0.8888888888888888,\"#fdca26\"],[1.0,\"#f0f921\"]]}],\"heatmapgl\":[{\"type\":\"heatmapgl\",\"colorbar\":{\"outlinewidth\":0,\"ticks\":\"\"},\"colorscale\":[[0.0,\"#0d0887\"],[0.1111111111111111,\"#46039f\"],[0.2222222222222222,\"#7201a8\"],[0.3333333333333333,\"#9c179e\"],[0.4444444444444444,\"#bd3786\"],[0.5555555555555556,\"#d8576b\"],[0.6666666666666666,\"#ed7953\"],[0.7777777777777778,\"#fb9f3a\"],[0.8888888888888888,\"#fdca26\"],[1.0,\"#f0f921\"]]}],\"contourcarpet\":[{\"type\":\"contourcarpet\",\"colorbar\":{\"outlinewidth\":0,\"ticks\":\"\"}}],\"contour\":[{\"type\":\"contour\",\"colorbar\":{\"outlinewidth\":0,\"ticks\":\"\"},\"colorscale\":[[0.0,\"#0d0887\"],[0.1111111111111111,\"#46039f\"],[0.2222222222222222,\"#7201a8\"],[0.3333333333333333,\"#9c179e\"],[0.4444444444444444,\"#bd3786\"],[0.5555555555555556,\"#d8576b\"],[0.6666666666666666,\"#ed7953\"],[0.7777777777777778,\"#fb9f3a\"],[0.8888888888888888,\"#fdca26\"],[1.0,\"#f0f921\"]]}],\"surface\":[{\"type\":\"surface\",\"colorbar\":{\"outlinewidth\":0,\"ticks\":\"\"},\"colorscale\":[[0.0,\"#0d0887\"],[0.1111111111111111,\"#46039f\"],[0.2222222222222222,\"#7201a8\"],[0.3333333333333333,\"#9c179e\"],[0.4444444444444444,\"#bd3786\"],[0.5555555555555556,\"#d8576b\"],[0.6666666666666666,\"#ed7953\"],[0.7777777777777778,\"#fb9f3a\"],[0.8888888888888888,\"#fdca26\"],[1.0,\"#f0f921\"]]}],\"mesh3d\":[{\"type\":\"mesh3d\",\"colorbar\":{\"outlinewidth\":0,\"ticks\":\"\"}}],\"scatter\":[{\"fillpattern\":{\"fillmode\":\"overlay\",\"size\":10,\"solidity\":0.2},\"type\":\"scatter\"}],\"parcoords\":[{\"type\":\"parcoords\",\"line\":{\"colorbar\":{\"outlinewidth\":0,\"ticks\":\"\"}}}],\"scatterpolargl\":[{\"type\":\"scatterpolargl\",\"marker\":{\"colorbar\":{\"outlinewidth\":0,\"ticks\":\"\"}}}],\"bar\":[{\"error_x\":{\"color\":\"#2a3f5f\"},\"error_y\":{\"color\":\"#2a3f5f\"},\"marker\":{\"line\":{\"color\":\"#E5ECF6\",\"width\":0.5},\"pattern\":{\"fillmode\":\"overlay\",\"size\":10,\"solidity\":0.2}},\"type\":\"bar\"}],\"scattergeo\":[{\"type\":\"scattergeo\",\"marker\":{\"colorbar\":{\"outlinewidth\":0,\"ticks\":\"\"}}}],\"scatterpolar\":[{\"type\":\"scatterpolar\",\"marker\":{\"colorbar\":{\"outlinewidth\":0,\"ticks\":\"\"}}}],\"histogram\":[{\"marker\":{\"pattern\":{\"fillmode\":\"overlay\",\"size\":10,\"solidity\":0.2}},\"type\":\"histogram\"}],\"scattergl\":[{\"type\":\"scattergl\",\"marker\":{\"colorbar\":{\"outlinewidth\":0,\"ticks\":\"\"}}}],\"scatter3d\":[{\"type\":\"scatter3d\",\"line\":{\"colorbar\":{\"outlinewidth\":0,\"ticks\":\"\"}},\"marker\":{\"colorbar\":{\"outlinewidth\":0,\"ticks\":\"\"}}}],\"scattermapbox\":[{\"type\":\"scattermapbox\",\"marker\":{\"colorbar\":{\"outlinewidth\":0,\"ticks\":\"\"}}}],\"scatterternary\":[{\"type\":\"scatterternary\",\"marker\":{\"colorbar\":{\"outlinewidth\":0,\"ticks\":\"\"}}}],\"scattercarpet\":[{\"type\":\"scattercarpet\",\"marker\":{\"colorbar\":{\"outlinewidth\":0,\"ticks\":\"\"}}}],\"carpet\":[{\"aaxis\":{\"endlinecolor\":\"#2a3f5f\",\"gridcolor\":\"white\",\"linecolor\":\"white\",\"minorgridcolor\":\"white\",\"startlinecolor\":\"#2a3f5f\"},\"baxis\":{\"endlinecolor\":\"#2a3f5f\",\"gridcolor\":\"white\",\"linecolor\":\"white\",\"minorgridcolor\":\"white\",\"startlinecolor\":\"#2a3f5f\"},\"type\":\"carpet\"}],\"table\":[{\"cells\":{\"fill\":{\"color\":\"#EBF0F8\"},\"line\":{\"color\":\"white\"}},\"header\":{\"fill\":{\"color\":\"#C8D4E3\"},\"line\":{\"color\":\"white\"}},\"type\":\"table\"}],\"barpolar\":[{\"marker\":{\"line\":{\"color\":\"#E5ECF6\",\"width\":0.5},\"pattern\":{\"fillmode\":\"overlay\",\"size\":10,\"solidity\":0.2}},\"type\":\"barpolar\"}],\"pie\":[{\"automargin\":true,\"type\":\"pie\"}]},\"layout\":{\"autotypenumbers\":\"strict\",\"colorway\":[\"#636efa\",\"#EF553B\",\"#00cc96\",\"#ab63fa\",\"#FFA15A\",\"#19d3f3\",\"#FF6692\",\"#B6E880\",\"#FF97FF\",\"#FECB52\"],\"font\":{\"color\":\"#2a3f5f\"},\"hovermode\":\"closest\",\"hoverlabel\":{\"align\":\"left\"},\"paper_bgcolor\":\"white\",\"plot_bgcolor\":\"#E5ECF6\",\"polar\":{\"bgcolor\":\"#E5ECF6\",\"angularaxis\":{\"gridcolor\":\"white\",\"linecolor\":\"white\",\"ticks\":\"\"},\"radialaxis\":{\"gridcolor\":\"white\",\"linecolor\":\"white\",\"ticks\":\"\"}},\"ternary\":{\"bgcolor\":\"#E5ECF6\",\"aaxis\":{\"gridcolor\":\"white\",\"linecolor\":\"white\",\"ticks\":\"\"},\"baxis\":{\"gridcolor\":\"white\",\"linecolor\":\"white\",\"ticks\":\"\"},\"caxis\":{\"gridcolor\":\"white\",\"linecolor\":\"white\",\"ticks\":\"\"}},\"coloraxis\":{\"colorbar\":{\"outlinewidth\":0,\"ticks\":\"\"}},\"colorscale\":{\"sequential\":[[0.0,\"#0d0887\"],[0.1111111111111111,\"#46039f\"],[0.2222222222222222,\"#7201a8\"],[0.3333333333333333,\"#9c179e\"],[0.4444444444444444,\"#bd3786\"],[0.5555555555555556,\"#d8576b\"],[0.6666666666666666,\"#ed7953\"],[0.7777777777777778,\"#fb9f3a\"],[0.8888888888888888,\"#fdca26\"],[1.0,\"#f0f921\"]],\"sequentialminus\":[[0.0,\"#0d0887\"],[0.1111111111111111,\"#46039f\"],[0.2222222222222222,\"#7201a8\"],[0.3333333333333333,\"#9c179e\"],[0.4444444444444444,\"#bd3786\"],[0.5555555555555556,\"#d8576b\"],[0.6666666666666666,\"#ed7953\"],[0.7777777777777778,\"#fb9f3a\"],[0.8888888888888888,\"#fdca26\"],[1.0,\"#f0f921\"]],\"diverging\":[[0,\"#8e0152\"],[0.1,\"#c51b7d\"],[0.2,\"#de77ae\"],[0.3,\"#f1b6da\"],[0.4,\"#fde0ef\"],[0.5,\"#f7f7f7\"],[0.6,\"#e6f5d0\"],[0.7,\"#b8e186\"],[0.8,\"#7fbc41\"],[0.9,\"#4d9221\"],[1,\"#276419\"]]},\"xaxis\":{\"gridcolor\":\"white\",\"linecolor\":\"white\",\"ticks\":\"\",\"title\":{\"standoff\":15},\"zerolinecolor\":\"white\",\"automargin\":true,\"zerolinewidth\":2},\"yaxis\":{\"gridcolor\":\"white\",\"linecolor\":\"white\",\"ticks\":\"\",\"title\":{\"standoff\":15},\"zerolinecolor\":\"white\",\"automargin\":true,\"zerolinewidth\":2},\"scene\":{\"xaxis\":{\"backgroundcolor\":\"#E5ECF6\",\"gridcolor\":\"white\",\"linecolor\":\"white\",\"showbackground\":true,\"ticks\":\"\",\"zerolinecolor\":\"white\",\"gridwidth\":2},\"yaxis\":{\"backgroundcolor\":\"#E5ECF6\",\"gridcolor\":\"white\",\"linecolor\":\"white\",\"showbackground\":true,\"ticks\":\"\",\"zerolinecolor\":\"white\",\"gridwidth\":2},\"zaxis\":{\"backgroundcolor\":\"#E5ECF6\",\"gridcolor\":\"white\",\"linecolor\":\"white\",\"showbackground\":true,\"ticks\":\"\",\"zerolinecolor\":\"white\",\"gridwidth\":2}},\"shapedefaults\":{\"line\":{\"color\":\"#2a3f5f\"}},\"annotationdefaults\":{\"arrowcolor\":\"#2a3f5f\",\"arrowhead\":0,\"arrowwidth\":1},\"geo\":{\"bgcolor\":\"white\",\"landcolor\":\"#E5ECF6\",\"subunitcolor\":\"white\",\"showland\":true,\"showlakes\":true,\"lakecolor\":\"white\"},\"title\":{\"x\":0.05},\"mapbox\":{\"style\":\"light\"}}},\"xaxis\":{\"anchor\":\"y\",\"domain\":[0.0,1.0],\"title\":{\"text\":\"時間（月）\"}},\"yaxis\":{\"anchor\":\"x\",\"domain\":[0.0,1.0],\"title\":{\"text\":\"パフォーマンス指数\"}},\"legend\":{\"title\":{\"text\":\"variable\"},\"tracegroupgap\":0},\"title\":{\"text\":\"V2: 動的成長軌道シミュレーション（安定版）\"}},                        {\"responsive\": true}                    ).then(function(){\n",
              "                            \n",
              "var gd = document.getElementById('035ce50a-8de8-4759-afd2-99a5b42ae4ba');\n",
              "var x = new MutationObserver(function (mutations, observer) {{\n",
              "        var display = window.getComputedStyle(gd).display;\n",
              "        if (!display || display === 'none') {{\n",
              "            console.log([gd, 'removed!']);\n",
              "            Plotly.purge(gd);\n",
              "            observer.disconnect();\n",
              "        }}\n",
              "}});\n",
              "\n",
              "// Listen for the removal of the full notebook cells\n",
              "var notebookContainer = gd.closest('#notebook-container');\n",
              "if (notebookContainer) {{\n",
              "    x.observe(notebookContainer, {childList: true});\n",
              "}}\n",
              "\n",
              "// Listen for the clearing of the current output cell\n",
              "var outputEl = gd.closest('.output');\n",
              "if (outputEl) {{\n",
              "    x.observe(outputEl, {childList: true});\n",
              "}}\n",
              "\n",
              "                        })                };                            </script>        </div>\n",
              "</body>\n",
              "</html>"
            ]
          },
          "metadata": {}
        },
        {
          "output_type": "stream",
          "name": "stdout",
          "text": [
            "表示中: business_metrics_dashboard\n"
          ]
        },
        {
          "output_type": "display_data",
          "data": {
            "text/html": [
              "<html>\n",
              "<head><meta charset=\"utf-8\" /></head>\n",
              "<body>\n",
              "    <div>            <script src=\"https://cdnjs.cloudflare.com/ajax/libs/mathjax/2.7.5/MathJax.js?config=TeX-AMS-MML_SVG\"></script><script type=\"text/javascript\">if (window.MathJax && window.MathJax.Hub && window.MathJax.Hub.Config) {window.MathJax.Hub.Config({SVG: {font: \"STIX-Web\"}});}</script>                <script type=\"text/javascript\">window.PlotlyConfig = {MathJaxConfig: 'local'};</script>\n",
              "        <script charset=\"utf-8\" src=\"https://cdn.plot.ly/plotly-2.35.2.min.js\"></script>                <div id=\"7b66548a-b39a-4ff9-b92c-c69fe470ba9e\" class=\"plotly-graph-div\" style=\"height:525px; width:100%;\"></div>            <script type=\"text/javascript\">                                    window.PLOTLYENV=window.PLOTLYENV || {};                                    if (document.getElementById(\"7b66548a-b39a-4ff9-b92c-c69fe470ba9e\")) {                    Plotly.newPlot(                        \"7b66548a-b39a-4ff9-b92c-c69fe470ba9e\",                        [{\"name\":\"売上成長率\",\"x\":[0.0,0.25263157894736843,0.5052631578947369,0.7578947368421053,1.0105263157894737,1.263157894736842,1.5157894736842106,1.7684210526315791,2.0210526315789474,2.2736842105263158,2.526315789473684,2.778947368421053,3.031578947368421,3.2842105263157895,3.5368421052631582,3.7894736842105265,4.042105263157895,4.294736842105263,4.5473684210526315,4.8,5.052631578947368,5.305263157894737,5.557894736842106,5.810526315789474,6.063157894736842,6.315789473684211,6.568421052631579,6.821052631578947,7.0736842105263165,7.326315789473685,7.578947368421053,7.831578947368421,8.08421052631579,8.336842105263159,8.589473684210526,8.842105263157896,9.094736842105263,9.347368421052632,9.6,9.852631578947369,10.105263157894736,10.357894736842105,10.610526315789475,10.863157894736842,11.115789473684211,11.368421052631579,11.621052631578948,11.873684210526315,12.126315789473685,12.378947368421054,12.631578947368421,12.88421052631579,13.136842105263158,13.389473684210527,13.642105263157895,13.894736842105264,14.147368421052633,14.4,14.65263157894737,14.905263157894737,15.157894736842106,15.410526315789474,15.663157894736843,15.91578947368421,16.16842105263158,16.42105263157895,16.673684210526318,16.926315789473684,17.178947368421053,17.431578947368422,17.68421052631579,17.936842105263157,18.189473684210526,18.442105263157895,18.694736842105264,18.947368421052634,19.2,19.45263157894737,19.705263157894738,19.957894736842107,20.210526315789473,20.46315789473684,20.71578947368421,20.96842105263158,21.22105263157895,21.473684210526315,21.726315789473684,21.978947368421053,22.231578947368423,22.484210526315792,22.736842105263158,22.989473684210527,23.242105263157896,23.494736842105265,23.74736842105263,24.0],\"y\":[40.163954104483125,46.966472708613566,54.98442531016612,64.43111534278037,75.54971603248043,88.61353818122971,103.92450200521748,121.80909953099794,142.61129953240493,166.6817712380309,194.36317064500787,225.97159873034212,261.774844405611,301.9687323084374,346.6534751828302,395.8125028557054,449.2964300579629,506.8145606716356,567.9359019475077,632.1004168439317,698.6400913240121,766.8080549923441,835.8130872992392,904.8561015341371,973.1652537738332,1040.026737045676,1104.8091236630075,1166.9800795065948,1226.11531161987,1281.9003028070845,1334.126056069867,1382.6802970917024,1427.5356715099808,1468.7363449754039,1506.384184012929,1540.6254354508883,1571.6384646860602,1599.6230348643603,1624.7911879552507,1647.359792858107,1667.5446614178213,1685.5560748995786,1701.5955324583285,1715.8535332957244,1728.5081875082033,1739.7244921207175,1749.6541214132685,1758.43559369094,1766.1947082847284,1773.045178741593,1779.0893765743042,1784.4191419595902,1789.1166210620645,1793.2551026822134,1796.8998268252176,1800.1087597603457,1802.9333148861658,1805.419036812403,1807.606215457248,1809.5304603435695,1811.2232131090407,1812.7122123689726,1814.0219173870657,1815.1738816612888,1816.1870880580782,1817.0782516832317,1817.8620837703284,1818.55152690156,1819.157969309073,1819.6914252232316,1820.1607026905476,1820.5735459422297,1820.9367632099456,1821.2563415058623,1821.5375428877967,1821.7849941346897,1822.0027622036332,1822.1944227287902,1822.3631197254863,1822.5116136023057,1822.6423354657181,1822.7574227749985,1822.858753680513,1822.9479807902144,1823.0265558605158,1823.0957556367134,1823.1567047287906,1823.2103902834428,1823.2576825354763,1823.299343094688,1823.336050072758,1823.3683947644267,1823.3968961823,1823.422015165891,1823.4441516845227,1823.463663631213],\"type\":\"scatter\",\"xaxis\":\"x\",\"yaxis\":\"y\"},{\"name\":\"イノベーション指数\",\"x\":[0.0,0.25263157894736843,0.5052631578947369,0.7578947368421053,1.0105263157894737,1.263157894736842,1.5157894736842106,1.7684210526315791,2.0210526315789474,2.2736842105263158,2.526315789473684,2.778947368421053,3.031578947368421,3.2842105263157895,3.5368421052631582,3.7894736842105265,4.042105263157895,4.294736842105263,4.5473684210526315,4.8,5.052631578947368,5.305263157894737,5.557894736842106,5.810526315789474,6.063157894736842,6.315789473684211,6.568421052631579,6.821052631578947,7.0736842105263165,7.326315789473685,7.578947368421053,7.831578947368421,8.08421052631579,8.336842105263159,8.589473684210526,8.842105263157896,9.094736842105263,9.347368421052632,9.6,9.852631578947369,10.105263157894736,10.357894736842105,10.610526315789475,10.863157894736842,11.115789473684211,11.368421052631579,11.621052631578948,11.873684210526315,12.126315789473685,12.378947368421054,12.631578947368421,12.88421052631579,13.136842105263158,13.389473684210527,13.642105263157895,13.894736842105264,14.147368421052633,14.4,14.65263157894737,14.905263157894737,15.157894736842106,15.410526315789474,15.663157894736843,15.91578947368421,16.16842105263158,16.42105263157895,16.673684210526318,16.926315789473684,17.178947368421053,17.431578947368422,17.68421052631579,17.936842105263157,18.189473684210526,18.442105263157895,18.694736842105264,18.947368421052634,19.2,19.45263157894737,19.705263157894738,19.957894736842107,20.210526315789473,20.46315789473684,20.71578947368421,20.96842105263158,21.22105263157895,21.473684210526315,21.726315789473684,21.978947368421053,22.231578947368423,22.484210526315792,22.736842105263158,22.989473684210527,23.242105263157896,23.494736842105265,23.74736842105263,24.0],\"y\":[20.327908208966257,26.056261384252117,33.293376639617385,42.39076538806911,53.76255173295078,67.88881814870257,85.31581735117,106.65161423695724,132.5558400284781,163.72217915117704,200.85275853552645,244.62431687692703,295.64703052373784,354.41825139077224,421.2746707039906,496.3476425016024,579.5269651837268,670.4381125395668,768.4371515333455,872.6253531241944,981.88324009543,1094.9211849919661,1210.3417539773964,1326.707438356267,1442.6073112469076,1556.7168001226978,1667.8462042122578,1774.975382711615,1877.2740136316606,1974.1082074754177,2065.035576566656,2149.791370555168,2228.2685141938728,2300.494191743732,2366.6052230684236,2426.824004378492,2481.4361320380017,2530.7706615401225,2575.183183585862,2615.041881797943,2650.716427341793,2682.5694476472813,2710.9502410710456,2736.190402732716,2758.6009926775982,2778.470949008338,2796.0664698341734,2811.6311111803016,2825.386404406447,2837.5328548297757,2848.2511633236954,2857.7035882819205,2866.035372034081,2873.376179683257,2879.841498766864,2885.5339877991883,2890.544735107397,2894.954457379731,2898.8345778422663,2902.2482367305392,2905.251194380169,2907.8926513696865,2910.215996934744,2912.2594693580845,2914.056748868991,2915.6374938515537,2917.02780819676,2918.2506580855616,2919.3262518997103,2920.2723599470846,2921.10461212283,2921.836750433747,2922.480855767774,2923.0475515750513,2923.5461746815454,2923.9849344507547,2924.3710467025876,2924.710855297407,2925.0099381110726,2925.2731922384446,2925.5049304199874,2925.7089443054547,2925.888565408704,2926.0467250430474,2926.1859981387324,2926.3086491153317,2926.416672483847,2926.5118188777437,2926.595631532101,2926.6694609803812,2926.734509661347,2926.791826008082,2926.842330244176,2926.886839427115,2926.9260626483924,2926.9606343925147],\"type\":\"scatter\",\"xaxis\":\"x2\",\"yaxis\":\"y2\"},{\"name\":\"マーケットシェア\",\"x\":[0.0,0.25263157894736843,0.5052631578947369,0.7578947368421053,1.0105263157894737,1.263157894736842,1.5157894736842106,1.7684210526315791,2.0210526315789474,2.2736842105263158,2.526315789473684,2.778947368421053,3.031578947368421,3.2842105263157895,3.5368421052631582,3.7894736842105265,4.042105263157895,4.294736842105263,4.5473684210526315,4.8,5.052631578947368,5.305263157894737,5.557894736842106,5.810526315789474,6.063157894736842,6.315789473684211,6.568421052631579,6.821052631578947,7.0736842105263165,7.326315789473685,7.578947368421053,7.831578947368421,8.08421052631579,8.336842105263159,8.589473684210526,8.842105263157896,9.094736842105263,9.347368421052632,9.6,9.852631578947369,10.105263157894736,10.357894736842105,10.610526315789475,10.863157894736842,11.115789473684211,11.368421052631579,11.621052631578948,11.873684210526315,12.126315789473685,12.378947368421054,12.631578947368421,12.88421052631579,13.136842105263158,13.389473684210527,13.642105263157895,13.894736842105264,14.147368421052633,14.4,14.65263157894737,14.905263157894737,15.157894736842106,15.410526315789474,15.663157894736843,15.91578947368421,16.16842105263158,16.42105263157895,16.673684210526318,16.926315789473684,17.178947368421053,17.431578947368422,17.68421052631579,17.936842105263157,18.189473684210526,18.442105263157895,18.694736842105264,18.947368421052634,19.2,19.45263157894737,19.705263157894738,19.957894736842107,20.210526315789473,20.46315789473684,20.71578947368421,20.96842105263158,21.22105263157895,21.473684210526315,21.726315789473684,21.978947368421053,22.231578947368423,22.484210526315792,22.736842105263158,22.989473684210527,23.242105263157896,23.494736842105265,23.74736842105263,24.0],\"y\":[5.032790820896626,5.999460340073962,7.163111362997482,8.562649803681492,10.243099189895581,12.2557947255581,14.658241068080248,17.513490664947657,20.888921954664397,24.85428608136194,29.47895499127711,34.828375716880565,40.0,40.0,40.0,40.0,40.0,40.0,40.0,40.0,40.0,40.0,40.0,40.0,40.0,40.0,40.0,40.0,40.0,40.0,40.0,40.0,40.0,40.0,40.0,40.0,40.0,40.0,40.0,40.0,40.0,40.0,40.0,40.0,40.0,40.0,40.0,40.0,40.0,40.0,40.0,40.0,40.0,40.0,40.0,40.0,40.0,40.0,40.0,40.0,40.0,40.0,40.0,40.0,40.0,40.0,40.0,40.0,40.0,40.0,40.0,40.0,40.0,40.0,40.0,40.0,40.0,40.0,40.0,40.0,40.0,40.0,40.0,40.0,40.0,40.0,40.0,40.0,40.0,40.0,40.0,40.0,40.0,40.0,40.0,40.0],\"type\":\"scatter\",\"xaxis\":\"x3\",\"yaxis\":\"y3\"},{\"name\":\"顧客満足度\",\"x\":[0.0,0.25263157894736843,0.5052631578947369,0.7578947368421053,1.0105263157894737,1.263157894736842,1.5157894736842106,1.7684210526315791,2.0210526315789474,2.2736842105263158,2.526315789473684,2.778947368421053,3.031578947368421,3.2842105263157895,3.5368421052631582,3.7894736842105265,4.042105263157895,4.294736842105263,4.5473684210526315,4.8,5.052631578947368,5.305263157894737,5.557894736842106,5.810526315789474,6.063157894736842,6.315789473684211,6.568421052631579,6.821052631578947,7.0736842105263165,7.326315789473685,7.578947368421053,7.831578947368421,8.08421052631579,8.336842105263159,8.589473684210526,8.842105263157896,9.094736842105263,9.347368421052632,9.6,9.852631578947369,10.105263157894736,10.357894736842105,10.610526315789475,10.863157894736842,11.115789473684211,11.368421052631579,11.621052631578948,11.873684210526315,12.126315789473685,12.378947368421054,12.631578947368421,12.88421052631579,13.136842105263158,13.389473684210527,13.642105263157895,13.894736842105264,14.147368421052633,14.4,14.65263157894737,14.905263157894737,15.157894736842106,15.410526315789474,15.663157894736843,15.91578947368421,16.16842105263158,16.42105263157895,16.673684210526318,16.926315789473684,17.178947368421053,17.431578947368422,17.68421052631579,17.936842105263157,18.189473684210526,18.442105263157895,18.694736842105264,18.947368421052634,19.2,19.45263157894737,19.705263157894738,19.957894736842107,20.210526315789473,20.46315789473684,20.71578947368421,20.96842105263158,21.22105263157895,21.473684210526315,21.726315789473684,21.978947368421053,22.231578947368423,22.484210526315792,22.736842105263158,22.989473684210527,23.242105263157896,23.494736842105265,23.74736842105263,24.0],\"y\":[77.03279082089662,77.60562613842521,78.32933766396174,79.23907653880691,80.37625517329508,81.78888181487025,83.531581735117,85.66516142369572,88.25558400284781,91.3722179151177,95.08527585355264,98.0,98.0,98.0,98.0,98.0,98.0,98.0,98.0,98.0,98.0,98.0,98.0,98.0,98.0,98.0,98.0,98.0,98.0,98.0,98.0,98.0,98.0,98.0,98.0,98.0,98.0,98.0,98.0,98.0,98.0,98.0,98.0,98.0,98.0,98.0,98.0,98.0,98.0,98.0,98.0,98.0,98.0,98.0,98.0,98.0,98.0,98.0,98.0,98.0,98.0,98.0,98.0,98.0,98.0,98.0,98.0,98.0,98.0,98.0,98.0,98.0,98.0,98.0,98.0,98.0,98.0,98.0,98.0,98.0,98.0,98.0,98.0,98.0,98.0,98.0,98.0,98.0,98.0,98.0,98.0,98.0,98.0,98.0,98.0,98.0],\"type\":\"scatter\",\"xaxis\":\"x4\",\"yaxis\":\"y4\"}],                        {\"template\":{\"data\":{\"histogram2dcontour\":[{\"type\":\"histogram2dcontour\",\"colorbar\":{\"outlinewidth\":0,\"ticks\":\"\"},\"colorscale\":[[0.0,\"#0d0887\"],[0.1111111111111111,\"#46039f\"],[0.2222222222222222,\"#7201a8\"],[0.3333333333333333,\"#9c179e\"],[0.4444444444444444,\"#bd3786\"],[0.5555555555555556,\"#d8576b\"],[0.6666666666666666,\"#ed7953\"],[0.7777777777777778,\"#fb9f3a\"],[0.8888888888888888,\"#fdca26\"],[1.0,\"#f0f921\"]]}],\"choropleth\":[{\"type\":\"choropleth\",\"colorbar\":{\"outlinewidth\":0,\"ticks\":\"\"}}],\"histogram2d\":[{\"type\":\"histogram2d\",\"colorbar\":{\"outlinewidth\":0,\"ticks\":\"\"},\"colorscale\":[[0.0,\"#0d0887\"],[0.1111111111111111,\"#46039f\"],[0.2222222222222222,\"#7201a8\"],[0.3333333333333333,\"#9c179e\"],[0.4444444444444444,\"#bd3786\"],[0.5555555555555556,\"#d8576b\"],[0.6666666666666666,\"#ed7953\"],[0.7777777777777778,\"#fb9f3a\"],[0.8888888888888888,\"#fdca26\"],[1.0,\"#f0f921\"]]}],\"heatmap\":[{\"type\":\"heatmap\",\"colorbar\":{\"outlinewidth\":0,\"ticks\":\"\"},\"colorscale\":[[0.0,\"#0d0887\"],[0.1111111111111111,\"#46039f\"],[0.2222222222222222,\"#7201a8\"],[0.3333333333333333,\"#9c179e\"],[0.4444444444444444,\"#bd3786\"],[0.5555555555555556,\"#d8576b\"],[0.6666666666666666,\"#ed7953\"],[0.7777777777777778,\"#fb9f3a\"],[0.8888888888888888,\"#fdca26\"],[1.0,\"#f0f921\"]]}],\"heatmapgl\":[{\"type\":\"heatmapgl\",\"colorbar\":{\"outlinewidth\":0,\"ticks\":\"\"},\"colorscale\":[[0.0,\"#0d0887\"],[0.1111111111111111,\"#46039f\"],[0.2222222222222222,\"#7201a8\"],[0.3333333333333333,\"#9c179e\"],[0.4444444444444444,\"#bd3786\"],[0.5555555555555556,\"#d8576b\"],[0.6666666666666666,\"#ed7953\"],[0.7777777777777778,\"#fb9f3a\"],[0.8888888888888888,\"#fdca26\"],[1.0,\"#f0f921\"]]}],\"contourcarpet\":[{\"type\":\"contourcarpet\",\"colorbar\":{\"outlinewidth\":0,\"ticks\":\"\"}}],\"contour\":[{\"type\":\"contour\",\"colorbar\":{\"outlinewidth\":0,\"ticks\":\"\"},\"colorscale\":[[0.0,\"#0d0887\"],[0.1111111111111111,\"#46039f\"],[0.2222222222222222,\"#7201a8\"],[0.3333333333333333,\"#9c179e\"],[0.4444444444444444,\"#bd3786\"],[0.5555555555555556,\"#d8576b\"],[0.6666666666666666,\"#ed7953\"],[0.7777777777777778,\"#fb9f3a\"],[0.8888888888888888,\"#fdca26\"],[1.0,\"#f0f921\"]]}],\"surface\":[{\"type\":\"surface\",\"colorbar\":{\"outlinewidth\":0,\"ticks\":\"\"},\"colorscale\":[[0.0,\"#0d0887\"],[0.1111111111111111,\"#46039f\"],[0.2222222222222222,\"#7201a8\"],[0.3333333333333333,\"#9c179e\"],[0.4444444444444444,\"#bd3786\"],[0.5555555555555556,\"#d8576b\"],[0.6666666666666666,\"#ed7953\"],[0.7777777777777778,\"#fb9f3a\"],[0.8888888888888888,\"#fdca26\"],[1.0,\"#f0f921\"]]}],\"mesh3d\":[{\"type\":\"mesh3d\",\"colorbar\":{\"outlinewidth\":0,\"ticks\":\"\"}}],\"scatter\":[{\"fillpattern\":{\"fillmode\":\"overlay\",\"size\":10,\"solidity\":0.2},\"type\":\"scatter\"}],\"parcoords\":[{\"type\":\"parcoords\",\"line\":{\"colorbar\":{\"outlinewidth\":0,\"ticks\":\"\"}}}],\"scatterpolargl\":[{\"type\":\"scatterpolargl\",\"marker\":{\"colorbar\":{\"outlinewidth\":0,\"ticks\":\"\"}}}],\"bar\":[{\"error_x\":{\"color\":\"#2a3f5f\"},\"error_y\":{\"color\":\"#2a3f5f\"},\"marker\":{\"line\":{\"color\":\"#E5ECF6\",\"width\":0.5},\"pattern\":{\"fillmode\":\"overlay\",\"size\":10,\"solidity\":0.2}},\"type\":\"bar\"}],\"scattergeo\":[{\"type\":\"scattergeo\",\"marker\":{\"colorbar\":{\"outlinewidth\":0,\"ticks\":\"\"}}}],\"scatterpolar\":[{\"type\":\"scatterpolar\",\"marker\":{\"colorbar\":{\"outlinewidth\":0,\"ticks\":\"\"}}}],\"histogram\":[{\"marker\":{\"pattern\":{\"fillmode\":\"overlay\",\"size\":10,\"solidity\":0.2}},\"type\":\"histogram\"}],\"scattergl\":[{\"type\":\"scattergl\",\"marker\":{\"colorbar\":{\"outlinewidth\":0,\"ticks\":\"\"}}}],\"scatter3d\":[{\"type\":\"scatter3d\",\"line\":{\"colorbar\":{\"outlinewidth\":0,\"ticks\":\"\"}},\"marker\":{\"colorbar\":{\"outlinewidth\":0,\"ticks\":\"\"}}}],\"scattermapbox\":[{\"type\":\"scattermapbox\",\"marker\":{\"colorbar\":{\"outlinewidth\":0,\"ticks\":\"\"}}}],\"scatterternary\":[{\"type\":\"scatterternary\",\"marker\":{\"colorbar\":{\"outlinewidth\":0,\"ticks\":\"\"}}}],\"scattercarpet\":[{\"type\":\"scattercarpet\",\"marker\":{\"colorbar\":{\"outlinewidth\":0,\"ticks\":\"\"}}}],\"carpet\":[{\"aaxis\":{\"endlinecolor\":\"#2a3f5f\",\"gridcolor\":\"white\",\"linecolor\":\"white\",\"minorgridcolor\":\"white\",\"startlinecolor\":\"#2a3f5f\"},\"baxis\":{\"endlinecolor\":\"#2a3f5f\",\"gridcolor\":\"white\",\"linecolor\":\"white\",\"minorgridcolor\":\"white\",\"startlinecolor\":\"#2a3f5f\"},\"type\":\"carpet\"}],\"table\":[{\"cells\":{\"fill\":{\"color\":\"#EBF0F8\"},\"line\":{\"color\":\"white\"}},\"header\":{\"fill\":{\"color\":\"#C8D4E3\"},\"line\":{\"color\":\"white\"}},\"type\":\"table\"}],\"barpolar\":[{\"marker\":{\"line\":{\"color\":\"#E5ECF6\",\"width\":0.5},\"pattern\":{\"fillmode\":\"overlay\",\"size\":10,\"solidity\":0.2}},\"type\":\"barpolar\"}],\"pie\":[{\"automargin\":true,\"type\":\"pie\"}]},\"layout\":{\"autotypenumbers\":\"strict\",\"colorway\":[\"#636efa\",\"#EF553B\",\"#00cc96\",\"#ab63fa\",\"#FFA15A\",\"#19d3f3\",\"#FF6692\",\"#B6E880\",\"#FF97FF\",\"#FECB52\"],\"font\":{\"color\":\"#2a3f5f\"},\"hovermode\":\"closest\",\"hoverlabel\":{\"align\":\"left\"},\"paper_bgcolor\":\"white\",\"plot_bgcolor\":\"#E5ECF6\",\"polar\":{\"bgcolor\":\"#E5ECF6\",\"angularaxis\":{\"gridcolor\":\"white\",\"linecolor\":\"white\",\"ticks\":\"\"},\"radialaxis\":{\"gridcolor\":\"white\",\"linecolor\":\"white\",\"ticks\":\"\"}},\"ternary\":{\"bgcolor\":\"#E5ECF6\",\"aaxis\":{\"gridcolor\":\"white\",\"linecolor\":\"white\",\"ticks\":\"\"},\"baxis\":{\"gridcolor\":\"white\",\"linecolor\":\"white\",\"ticks\":\"\"},\"caxis\":{\"gridcolor\":\"white\",\"linecolor\":\"white\",\"ticks\":\"\"}},\"coloraxis\":{\"colorbar\":{\"outlinewidth\":0,\"ticks\":\"\"}},\"colorscale\":{\"sequential\":[[0.0,\"#0d0887\"],[0.1111111111111111,\"#46039f\"],[0.2222222222222222,\"#7201a8\"],[0.3333333333333333,\"#9c179e\"],[0.4444444444444444,\"#bd3786\"],[0.5555555555555556,\"#d8576b\"],[0.6666666666666666,\"#ed7953\"],[0.7777777777777778,\"#fb9f3a\"],[0.8888888888888888,\"#fdca26\"],[1.0,\"#f0f921\"]],\"sequentialminus\":[[0.0,\"#0d0887\"],[0.1111111111111111,\"#46039f\"],[0.2222222222222222,\"#7201a8\"],[0.3333333333333333,\"#9c179e\"],[0.4444444444444444,\"#bd3786\"],[0.5555555555555556,\"#d8576b\"],[0.6666666666666666,\"#ed7953\"],[0.7777777777777778,\"#fb9f3a\"],[0.8888888888888888,\"#fdca26\"],[1.0,\"#f0f921\"]],\"diverging\":[[0,\"#8e0152\"],[0.1,\"#c51b7d\"],[0.2,\"#de77ae\"],[0.3,\"#f1b6da\"],[0.4,\"#fde0ef\"],[0.5,\"#f7f7f7\"],[0.6,\"#e6f5d0\"],[0.7,\"#b8e186\"],[0.8,\"#7fbc41\"],[0.9,\"#4d9221\"],[1,\"#276419\"]]},\"xaxis\":{\"gridcolor\":\"white\",\"linecolor\":\"white\",\"ticks\":\"\",\"title\":{\"standoff\":15},\"zerolinecolor\":\"white\",\"automargin\":true,\"zerolinewidth\":2},\"yaxis\":{\"gridcolor\":\"white\",\"linecolor\":\"white\",\"ticks\":\"\",\"title\":{\"standoff\":15},\"zerolinecolor\":\"white\",\"automargin\":true,\"zerolinewidth\":2},\"scene\":{\"xaxis\":{\"backgroundcolor\":\"#E5ECF6\",\"gridcolor\":\"white\",\"linecolor\":\"white\",\"showbackground\":true,\"ticks\":\"\",\"zerolinecolor\":\"white\",\"gridwidth\":2},\"yaxis\":{\"backgroundcolor\":\"#E5ECF6\",\"gridcolor\":\"white\",\"linecolor\":\"white\",\"showbackground\":true,\"ticks\":\"\",\"zerolinecolor\":\"white\",\"gridwidth\":2},\"zaxis\":{\"backgroundcolor\":\"#E5ECF6\",\"gridcolor\":\"white\",\"linecolor\":\"white\",\"showbackground\":true,\"ticks\":\"\",\"zerolinecolor\":\"white\",\"gridwidth\":2}},\"shapedefaults\":{\"line\":{\"color\":\"#2a3f5f\"}},\"annotationdefaults\":{\"arrowcolor\":\"#2a3f5f\",\"arrowhead\":0,\"arrowwidth\":1},\"geo\":{\"bgcolor\":\"white\",\"landcolor\":\"#E5ECF6\",\"subunitcolor\":\"white\",\"showland\":true,\"showlakes\":true,\"lakecolor\":\"white\"},\"title\":{\"x\":0.05},\"mapbox\":{\"style\":\"light\"}}},\"xaxis\":{\"anchor\":\"y\",\"domain\":[0.0,0.45]},\"yaxis\":{\"anchor\":\"x\",\"domain\":[0.625,1.0]},\"xaxis2\":{\"anchor\":\"y2\",\"domain\":[0.55,1.0]},\"yaxis2\":{\"anchor\":\"x2\",\"domain\":[0.625,1.0]},\"xaxis3\":{\"anchor\":\"y3\",\"domain\":[0.0,0.45]},\"yaxis3\":{\"anchor\":\"x3\",\"domain\":[0.0,0.375]},\"xaxis4\":{\"anchor\":\"y4\",\"domain\":[0.55,1.0]},\"yaxis4\":{\"anchor\":\"x4\",\"domain\":[0.0,0.375]},\"annotations\":[{\"font\":{\"size\":16},\"showarrow\":false,\"text\":\"売上成長率\",\"x\":0.225,\"xanchor\":\"center\",\"xref\":\"paper\",\"y\":1.0,\"yanchor\":\"bottom\",\"yref\":\"paper\"},{\"font\":{\"size\":16},\"showarrow\":false,\"text\":\"イノベーション指数\",\"x\":0.775,\"xanchor\":\"center\",\"xref\":\"paper\",\"y\":1.0,\"yanchor\":\"bottom\",\"yref\":\"paper\"},{\"font\":{\"size\":16},\"showarrow\":false,\"text\":\"マーケットシェア\",\"x\":0.225,\"xanchor\":\"center\",\"xref\":\"paper\",\"y\":0.375,\"yanchor\":\"bottom\",\"yref\":\"paper\"},{\"font\":{\"size\":16},\"showarrow\":false,\"text\":\"顧客満足度\",\"x\":0.775,\"xanchor\":\"center\",\"xref\":\"paper\",\"y\":0.375,\"yanchor\":\"bottom\",\"yref\":\"paper\"}],\"title\":{\"text\":\"V2: ビジネス指標予測ダッシュボード\"},\"showlegend\":false},                        {\"responsive\": true}                    ).then(function(){\n",
              "                            \n",
              "var gd = document.getElementById('7b66548a-b39a-4ff9-b92c-c69fe470ba9e');\n",
              "var x = new MutationObserver(function (mutations, observer) {{\n",
              "        var display = window.getComputedStyle(gd).display;\n",
              "        if (!display || display === 'none') {{\n",
              "            console.log([gd, 'removed!']);\n",
              "            Plotly.purge(gd);\n",
              "            observer.disconnect();\n",
              "        }}\n",
              "}});\n",
              "\n",
              "// Listen for the removal of the full notebook cells\n",
              "var notebookContainer = gd.closest('#notebook-container');\n",
              "if (notebookContainer) {{\n",
              "    x.observe(notebookContainer, {childList: true});\n",
              "}}\n",
              "\n",
              "// Listen for the clearing of the current output cell\n",
              "var outputEl = gd.closest('.output');\n",
              "if (outputEl) {{\n",
              "    x.observe(outputEl, {childList: true});\n",
              "}}\n",
              "\n",
              "                        })                };                            </script>        </div>\n",
              "</body>\n",
              "</html>"
            ]
          },
          "metadata": {}
        },
        {
          "output_type": "stream",
          "name": "stdout",
          "text": [
            "表示中: shapley_value_chart\n"
          ]
        },
        {
          "output_type": "display_data",
          "data": {
            "text/html": [
              "<html>\n",
              "<head><meta charset=\"utf-8\" /></head>\n",
              "<body>\n",
              "    <div>            <script src=\"https://cdnjs.cloudflare.com/ajax/libs/mathjax/2.7.5/MathJax.js?config=TeX-AMS-MML_SVG\"></script><script type=\"text/javascript\">if (window.MathJax && window.MathJax.Hub && window.MathJax.Hub.Config) {window.MathJax.Hub.Config({SVG: {font: \"STIX-Web\"}});}</script>                <script type=\"text/javascript\">window.PlotlyConfig = {MathJaxConfig: 'local'};</script>\n",
              "        <script charset=\"utf-8\" src=\"https://cdn.plot.ly/plotly-2.35.2.min.js\"></script>                <div id=\"dcba0b39-e167-4d92-be0b-c4f7e83ec9ec\" class=\"plotly-graph-div\" style=\"height:525px; width:100%;\"></div>            <script type=\"text/javascript\">                                    window.PLOTLYENV=window.PLOTLYENV || {};                                    if (document.getElementById(\"dcba0b39-e167-4d92-be0b-c4f7e83ec9ec\")) {                    Plotly.newPlot(                        \"dcba0b39-e167-4d92-be0b-c4f7e83ec9ec\",                        [{\"alignmentgroup\":\"True\",\"hovertemplate\":\"メンバー=%{x}\\u003cbr\\u003e価値貢献度（シャプレー値）=%{y}\\u003cbr\\u003etext=%{text}\\u003cextra\\u003e\\u003c\\u002fextra\\u003e\",\"legendgroup\":\"\",\"marker\":{\"color\":\"#636efa\",\"pattern\":{\"shape\":\"\"}},\"name\":\"\",\"offsetgroup\":\"\",\"orientation\":\"v\",\"showlegend\":false,\"text\":[41.37,41.41,42.55],\"textposition\":\"auto\",\"x\":[\"Arale Cohen\",\"Yanay Geva\",\"Yasuyuki Sakane\"],\"xaxis\":\"x\",\"y\":[41.36806816011667,41.41215911656618,42.5476809322834],\"yaxis\":\"y\",\"type\":\"bar\"}],                        {\"template\":{\"data\":{\"histogram2dcontour\":[{\"type\":\"histogram2dcontour\",\"colorbar\":{\"outlinewidth\":0,\"ticks\":\"\"},\"colorscale\":[[0.0,\"#0d0887\"],[0.1111111111111111,\"#46039f\"],[0.2222222222222222,\"#7201a8\"],[0.3333333333333333,\"#9c179e\"],[0.4444444444444444,\"#bd3786\"],[0.5555555555555556,\"#d8576b\"],[0.6666666666666666,\"#ed7953\"],[0.7777777777777778,\"#fb9f3a\"],[0.8888888888888888,\"#fdca26\"],[1.0,\"#f0f921\"]]}],\"choropleth\":[{\"type\":\"choropleth\",\"colorbar\":{\"outlinewidth\":0,\"ticks\":\"\"}}],\"histogram2d\":[{\"type\":\"histogram2d\",\"colorbar\":{\"outlinewidth\":0,\"ticks\":\"\"},\"colorscale\":[[0.0,\"#0d0887\"],[0.1111111111111111,\"#46039f\"],[0.2222222222222222,\"#7201a8\"],[0.3333333333333333,\"#9c179e\"],[0.4444444444444444,\"#bd3786\"],[0.5555555555555556,\"#d8576b\"],[0.6666666666666666,\"#ed7953\"],[0.7777777777777778,\"#fb9f3a\"],[0.8888888888888888,\"#fdca26\"],[1.0,\"#f0f921\"]]}],\"heatmap\":[{\"type\":\"heatmap\",\"colorbar\":{\"outlinewidth\":0,\"ticks\":\"\"},\"colorscale\":[[0.0,\"#0d0887\"],[0.1111111111111111,\"#46039f\"],[0.2222222222222222,\"#7201a8\"],[0.3333333333333333,\"#9c179e\"],[0.4444444444444444,\"#bd3786\"],[0.5555555555555556,\"#d8576b\"],[0.6666666666666666,\"#ed7953\"],[0.7777777777777778,\"#fb9f3a\"],[0.8888888888888888,\"#fdca26\"],[1.0,\"#f0f921\"]]}],\"heatmapgl\":[{\"type\":\"heatmapgl\",\"colorbar\":{\"outlinewidth\":0,\"ticks\":\"\"},\"colorscale\":[[0.0,\"#0d0887\"],[0.1111111111111111,\"#46039f\"],[0.2222222222222222,\"#7201a8\"],[0.3333333333333333,\"#9c179e\"],[0.4444444444444444,\"#bd3786\"],[0.5555555555555556,\"#d8576b\"],[0.6666666666666666,\"#ed7953\"],[0.7777777777777778,\"#fb9f3a\"],[0.8888888888888888,\"#fdca26\"],[1.0,\"#f0f921\"]]}],\"contourcarpet\":[{\"type\":\"contourcarpet\",\"colorbar\":{\"outlinewidth\":0,\"ticks\":\"\"}}],\"contour\":[{\"type\":\"contour\",\"colorbar\":{\"outlinewidth\":0,\"ticks\":\"\"},\"colorscale\":[[0.0,\"#0d0887\"],[0.1111111111111111,\"#46039f\"],[0.2222222222222222,\"#7201a8\"],[0.3333333333333333,\"#9c179e\"],[0.4444444444444444,\"#bd3786\"],[0.5555555555555556,\"#d8576b\"],[0.6666666666666666,\"#ed7953\"],[0.7777777777777778,\"#fb9f3a\"],[0.8888888888888888,\"#fdca26\"],[1.0,\"#f0f921\"]]}],\"surface\":[{\"type\":\"surface\",\"colorbar\":{\"outlinewidth\":0,\"ticks\":\"\"},\"colorscale\":[[0.0,\"#0d0887\"],[0.1111111111111111,\"#46039f\"],[0.2222222222222222,\"#7201a8\"],[0.3333333333333333,\"#9c179e\"],[0.4444444444444444,\"#bd3786\"],[0.5555555555555556,\"#d8576b\"],[0.6666666666666666,\"#ed7953\"],[0.7777777777777778,\"#fb9f3a\"],[0.8888888888888888,\"#fdca26\"],[1.0,\"#f0f921\"]]}],\"mesh3d\":[{\"type\":\"mesh3d\",\"colorbar\":{\"outlinewidth\":0,\"ticks\":\"\"}}],\"scatter\":[{\"fillpattern\":{\"fillmode\":\"overlay\",\"size\":10,\"solidity\":0.2},\"type\":\"scatter\"}],\"parcoords\":[{\"type\":\"parcoords\",\"line\":{\"colorbar\":{\"outlinewidth\":0,\"ticks\":\"\"}}}],\"scatterpolargl\":[{\"type\":\"scatterpolargl\",\"marker\":{\"colorbar\":{\"outlinewidth\":0,\"ticks\":\"\"}}}],\"bar\":[{\"error_x\":{\"color\":\"#2a3f5f\"},\"error_y\":{\"color\":\"#2a3f5f\"},\"marker\":{\"line\":{\"color\":\"#E5ECF6\",\"width\":0.5},\"pattern\":{\"fillmode\":\"overlay\",\"size\":10,\"solidity\":0.2}},\"type\":\"bar\"}],\"scattergeo\":[{\"type\":\"scattergeo\",\"marker\":{\"colorbar\":{\"outlinewidth\":0,\"ticks\":\"\"}}}],\"scatterpolar\":[{\"type\":\"scatterpolar\",\"marker\":{\"colorbar\":{\"outlinewidth\":0,\"ticks\":\"\"}}}],\"histogram\":[{\"marker\":{\"pattern\":{\"fillmode\":\"overlay\",\"size\":10,\"solidity\":0.2}},\"type\":\"histogram\"}],\"scattergl\":[{\"type\":\"scattergl\",\"marker\":{\"colorbar\":{\"outlinewidth\":0,\"ticks\":\"\"}}}],\"scatter3d\":[{\"type\":\"scatter3d\",\"line\":{\"colorbar\":{\"outlinewidth\":0,\"ticks\":\"\"}},\"marker\":{\"colorbar\":{\"outlinewidth\":0,\"ticks\":\"\"}}}],\"scattermapbox\":[{\"type\":\"scattermapbox\",\"marker\":{\"colorbar\":{\"outlinewidth\":0,\"ticks\":\"\"}}}],\"scatterternary\":[{\"type\":\"scatterternary\",\"marker\":{\"colorbar\":{\"outlinewidth\":0,\"ticks\":\"\"}}}],\"scattercarpet\":[{\"type\":\"scattercarpet\",\"marker\":{\"colorbar\":{\"outlinewidth\":0,\"ticks\":\"\"}}}],\"carpet\":[{\"aaxis\":{\"endlinecolor\":\"#2a3f5f\",\"gridcolor\":\"white\",\"linecolor\":\"white\",\"minorgridcolor\":\"white\",\"startlinecolor\":\"#2a3f5f\"},\"baxis\":{\"endlinecolor\":\"#2a3f5f\",\"gridcolor\":\"white\",\"linecolor\":\"white\",\"minorgridcolor\":\"white\",\"startlinecolor\":\"#2a3f5f\"},\"type\":\"carpet\"}],\"table\":[{\"cells\":{\"fill\":{\"color\":\"#EBF0F8\"},\"line\":{\"color\":\"white\"}},\"header\":{\"fill\":{\"color\":\"#C8D4E3\"},\"line\":{\"color\":\"white\"}},\"type\":\"table\"}],\"barpolar\":[{\"marker\":{\"line\":{\"color\":\"#E5ECF6\",\"width\":0.5},\"pattern\":{\"fillmode\":\"overlay\",\"size\":10,\"solidity\":0.2}},\"type\":\"barpolar\"}],\"pie\":[{\"automargin\":true,\"type\":\"pie\"}]},\"layout\":{\"autotypenumbers\":\"strict\",\"colorway\":[\"#636efa\",\"#EF553B\",\"#00cc96\",\"#ab63fa\",\"#FFA15A\",\"#19d3f3\",\"#FF6692\",\"#B6E880\",\"#FF97FF\",\"#FECB52\"],\"font\":{\"color\":\"#2a3f5f\"},\"hovermode\":\"closest\",\"hoverlabel\":{\"align\":\"left\"},\"paper_bgcolor\":\"white\",\"plot_bgcolor\":\"#E5ECF6\",\"polar\":{\"bgcolor\":\"#E5ECF6\",\"angularaxis\":{\"gridcolor\":\"white\",\"linecolor\":\"white\",\"ticks\":\"\"},\"radialaxis\":{\"gridcolor\":\"white\",\"linecolor\":\"white\",\"ticks\":\"\"}},\"ternary\":{\"bgcolor\":\"#E5ECF6\",\"aaxis\":{\"gridcolor\":\"white\",\"linecolor\":\"white\",\"ticks\":\"\"},\"baxis\":{\"gridcolor\":\"white\",\"linecolor\":\"white\",\"ticks\":\"\"},\"caxis\":{\"gridcolor\":\"white\",\"linecolor\":\"white\",\"ticks\":\"\"}},\"coloraxis\":{\"colorbar\":{\"outlinewidth\":0,\"ticks\":\"\"}},\"colorscale\":{\"sequential\":[[0.0,\"#0d0887\"],[0.1111111111111111,\"#46039f\"],[0.2222222222222222,\"#7201a8\"],[0.3333333333333333,\"#9c179e\"],[0.4444444444444444,\"#bd3786\"],[0.5555555555555556,\"#d8576b\"],[0.6666666666666666,\"#ed7953\"],[0.7777777777777778,\"#fb9f3a\"],[0.8888888888888888,\"#fdca26\"],[1.0,\"#f0f921\"]],\"sequentialminus\":[[0.0,\"#0d0887\"],[0.1111111111111111,\"#46039f\"],[0.2222222222222222,\"#7201a8\"],[0.3333333333333333,\"#9c179e\"],[0.4444444444444444,\"#bd3786\"],[0.5555555555555556,\"#d8576b\"],[0.6666666666666666,\"#ed7953\"],[0.7777777777777778,\"#fb9f3a\"],[0.8888888888888888,\"#fdca26\"],[1.0,\"#f0f921\"]],\"diverging\":[[0,\"#8e0152\"],[0.1,\"#c51b7d\"],[0.2,\"#de77ae\"],[0.3,\"#f1b6da\"],[0.4,\"#fde0ef\"],[0.5,\"#f7f7f7\"],[0.6,\"#e6f5d0\"],[0.7,\"#b8e186\"],[0.8,\"#7fbc41\"],[0.9,\"#4d9221\"],[1,\"#276419\"]]},\"xaxis\":{\"gridcolor\":\"white\",\"linecolor\":\"white\",\"ticks\":\"\",\"title\":{\"standoff\":15},\"zerolinecolor\":\"white\",\"automargin\":true,\"zerolinewidth\":2},\"yaxis\":{\"gridcolor\":\"white\",\"linecolor\":\"white\",\"ticks\":\"\",\"title\":{\"standoff\":15},\"zerolinecolor\":\"white\",\"automargin\":true,\"zerolinewidth\":2},\"scene\":{\"xaxis\":{\"backgroundcolor\":\"#E5ECF6\",\"gridcolor\":\"white\",\"linecolor\":\"white\",\"showbackground\":true,\"ticks\":\"\",\"zerolinecolor\":\"white\",\"gridwidth\":2},\"yaxis\":{\"backgroundcolor\":\"#E5ECF6\",\"gridcolor\":\"white\",\"linecolor\":\"white\",\"showbackground\":true,\"ticks\":\"\",\"zerolinecolor\":\"white\",\"gridwidth\":2},\"zaxis\":{\"backgroundcolor\":\"#E5ECF6\",\"gridcolor\":\"white\",\"linecolor\":\"white\",\"showbackground\":true,\"ticks\":\"\",\"zerolinecolor\":\"white\",\"gridwidth\":2}},\"shapedefaults\":{\"line\":{\"color\":\"#2a3f5f\"}},\"annotationdefaults\":{\"arrowcolor\":\"#2a3f5f\",\"arrowhead\":0,\"arrowwidth\":1},\"geo\":{\"bgcolor\":\"white\",\"landcolor\":\"#E5ECF6\",\"subunitcolor\":\"white\",\"showland\":true,\"showlakes\":true,\"lakecolor\":\"white\"},\"title\":{\"x\":0.05},\"mapbox\":{\"style\":\"light\"}}},\"xaxis\":{\"anchor\":\"y\",\"domain\":[0.0,1.0],\"title\":{\"text\":\"メンバー\"}},\"yaxis\":{\"anchor\":\"x\",\"domain\":[0.0,1.0],\"title\":{\"text\":\"価値貢献度（シャプレー値）\"}},\"legend\":{\"tracegroupgap\":0},\"title\":{\"text\":\"V2: シャプレー値による価値貢献度分析\"},\"barmode\":\"relative\"},                        {\"responsive\": true}                    ).then(function(){\n",
              "                            \n",
              "var gd = document.getElementById('dcba0b39-e167-4d92-be0b-c4f7e83ec9ec');\n",
              "var x = new MutationObserver(function (mutations, observer) {{\n",
              "        var display = window.getComputedStyle(gd).display;\n",
              "        if (!display || display === 'none') {{\n",
              "            console.log([gd, 'removed!']);\n",
              "            Plotly.purge(gd);\n",
              "            observer.disconnect();\n",
              "        }}\n",
              "}});\n",
              "\n",
              "// Listen for the removal of the full notebook cells\n",
              "var notebookContainer = gd.closest('#notebook-container');\n",
              "if (notebookContainer) {{\n",
              "    x.observe(notebookContainer, {childList: true});\n",
              "}}\n",
              "\n",
              "// Listen for the clearing of the current output cell\n",
              "var outputEl = gd.closest('.output');\n",
              "if (outputEl) {{\n",
              "    x.observe(outputEl, {childList: true});\n",
              "}}\n",
              "\n",
              "                        })                };                            </script>        </div>\n",
              "</body>\n",
              "</html>"
            ]
          },
          "metadata": {}
        },
        {
          "output_type": "stream",
          "name": "stdout",
          "text": [
            "表示中: network_graph\n"
          ]
        },
        {
          "output_type": "display_data",
          "data": {
            "text/html": [
              "<html>\n",
              "<head><meta charset=\"utf-8\" /></head>\n",
              "<body>\n",
              "    <div>            <script src=\"https://cdnjs.cloudflare.com/ajax/libs/mathjax/2.7.5/MathJax.js?config=TeX-AMS-MML_SVG\"></script><script type=\"text/javascript\">if (window.MathJax && window.MathJax.Hub && window.MathJax.Hub.Config) {window.MathJax.Hub.Config({SVG: {font: \"STIX-Web\"}});}</script>                <script type=\"text/javascript\">window.PlotlyConfig = {MathJaxConfig: 'local'};</script>\n",
              "        <script charset=\"utf-8\" src=\"https://cdn.plot.ly/plotly-2.35.2.min.js\"></script>                <div id=\"44527aae-1c08-49e4-8e06-d0007b06e6ab\" class=\"plotly-graph-div\" style=\"height:525px; width:100%;\"></div>            <script type=\"text/javascript\">                                    window.PLOTLYENV=window.PLOTLYENV || {};                                    if (document.getElementById(\"44527aae-1c08-49e4-8e06-d0007b06e6ab\")) {                    Plotly.newPlot(                        \"44527aae-1c08-49e4-8e06-d0007b06e6ab\",                        [{\"hoverinfo\":\"text\",\"line\":{\"color\":\"rgba(150,150,150,0.5)\",\"width\":7.848819516599178},\"mode\":\"lines\",\"text\":\"Synergy: 0.523\",\"x\":[0.5681363139246816,0.21165415228834805,null],\"y\":[-0.8599879925410779,1.0,null],\"type\":\"scatter\"},{\"hoverinfo\":\"text\",\"line\":{\"color\":\"rgba(150,150,150,0.5)\",\"width\":11.25538496375084},\"mode\":\"lines\",\"text\":\"Synergy: 0.750\",\"x\":[0.5681363139246816,-0.7797904662130293,null],\"y\":[-0.8599879925410779,-0.1400120074589217,null],\"type\":\"scatter\"},{\"hoverinfo\":\"text\",\"line\":{\"color\":\"rgba(150,150,150,0.5)\",\"width\":11.387657833099365},\"mode\":\"lines\",\"text\":\"Synergy: 0.759\",\"x\":[0.21165415228834805,-0.7797904662130293,null],\"y\":[1.0,-0.1400120074589217,null],\"type\":\"scatter\"},{\"hoverinfo\":\"none\",\"marker\":{\"color\":[\"#FF6B6B\",\"#4ECDC4\",\"#45B7D1\"],\"size\":[20.0,20.0,20.0]},\"mode\":\"markers+text\",\"text\":[\"Arale Cohen\",\"Yanay Geva\",\"Yasuyuki Sakane\"],\"textposition\":\"top center\",\"x\":[0.5681363139246816,0.21165415228834805,-0.7797904662130293],\"y\":[-0.8599879925410779,1.0,-0.1400120074589217],\"type\":\"scatter\"}],                        {\"showlegend\":false,\"title\":{\"text\":\"V2: チーム相互作用ネットワーク\"},\"xaxis\":{\"showgrid\":false,\"showticklabels\":false,\"zeroline\":false},\"yaxis\":{\"showgrid\":false,\"showticklabels\":false,\"zeroline\":false},\"template\":{\"data\":{\"histogram2dcontour\":[{\"type\":\"histogram2dcontour\",\"colorbar\":{\"outlinewidth\":0,\"ticks\":\"\"},\"colorscale\":[[0.0,\"#0d0887\"],[0.1111111111111111,\"#46039f\"],[0.2222222222222222,\"#7201a8\"],[0.3333333333333333,\"#9c179e\"],[0.4444444444444444,\"#bd3786\"],[0.5555555555555556,\"#d8576b\"],[0.6666666666666666,\"#ed7953\"],[0.7777777777777778,\"#fb9f3a\"],[0.8888888888888888,\"#fdca26\"],[1.0,\"#f0f921\"]]}],\"choropleth\":[{\"type\":\"choropleth\",\"colorbar\":{\"outlinewidth\":0,\"ticks\":\"\"}}],\"histogram2d\":[{\"type\":\"histogram2d\",\"colorbar\":{\"outlinewidth\":0,\"ticks\":\"\"},\"colorscale\":[[0.0,\"#0d0887\"],[0.1111111111111111,\"#46039f\"],[0.2222222222222222,\"#7201a8\"],[0.3333333333333333,\"#9c179e\"],[0.4444444444444444,\"#bd3786\"],[0.5555555555555556,\"#d8576b\"],[0.6666666666666666,\"#ed7953\"],[0.7777777777777778,\"#fb9f3a\"],[0.8888888888888888,\"#fdca26\"],[1.0,\"#f0f921\"]]}],\"heatmap\":[{\"type\":\"heatmap\",\"colorbar\":{\"outlinewidth\":0,\"ticks\":\"\"},\"colorscale\":[[0.0,\"#0d0887\"],[0.1111111111111111,\"#46039f\"],[0.2222222222222222,\"#7201a8\"],[0.3333333333333333,\"#9c179e\"],[0.4444444444444444,\"#bd3786\"],[0.5555555555555556,\"#d8576b\"],[0.6666666666666666,\"#ed7953\"],[0.7777777777777778,\"#fb9f3a\"],[0.8888888888888888,\"#fdca26\"],[1.0,\"#f0f921\"]]}],\"heatmapgl\":[{\"type\":\"heatmapgl\",\"colorbar\":{\"outlinewidth\":0,\"ticks\":\"\"},\"colorscale\":[[0.0,\"#0d0887\"],[0.1111111111111111,\"#46039f\"],[0.2222222222222222,\"#7201a8\"],[0.3333333333333333,\"#9c179e\"],[0.4444444444444444,\"#bd3786\"],[0.5555555555555556,\"#d8576b\"],[0.6666666666666666,\"#ed7953\"],[0.7777777777777778,\"#fb9f3a\"],[0.8888888888888888,\"#fdca26\"],[1.0,\"#f0f921\"]]}],\"contourcarpet\":[{\"type\":\"contourcarpet\",\"colorbar\":{\"outlinewidth\":0,\"ticks\":\"\"}}],\"contour\":[{\"type\":\"contour\",\"colorbar\":{\"outlinewidth\":0,\"ticks\":\"\"},\"colorscale\":[[0.0,\"#0d0887\"],[0.1111111111111111,\"#46039f\"],[0.2222222222222222,\"#7201a8\"],[0.3333333333333333,\"#9c179e\"],[0.4444444444444444,\"#bd3786\"],[0.5555555555555556,\"#d8576b\"],[0.6666666666666666,\"#ed7953\"],[0.7777777777777778,\"#fb9f3a\"],[0.8888888888888888,\"#fdca26\"],[1.0,\"#f0f921\"]]}],\"surface\":[{\"type\":\"surface\",\"colorbar\":{\"outlinewidth\":0,\"ticks\":\"\"},\"colorscale\":[[0.0,\"#0d0887\"],[0.1111111111111111,\"#46039f\"],[0.2222222222222222,\"#7201a8\"],[0.3333333333333333,\"#9c179e\"],[0.4444444444444444,\"#bd3786\"],[0.5555555555555556,\"#d8576b\"],[0.6666666666666666,\"#ed7953\"],[0.7777777777777778,\"#fb9f3a\"],[0.8888888888888888,\"#fdca26\"],[1.0,\"#f0f921\"]]}],\"mesh3d\":[{\"type\":\"mesh3d\",\"colorbar\":{\"outlinewidth\":0,\"ticks\":\"\"}}],\"scatter\":[{\"fillpattern\":{\"fillmode\":\"overlay\",\"size\":10,\"solidity\":0.2},\"type\":\"scatter\"}],\"parcoords\":[{\"type\":\"parcoords\",\"line\":{\"colorbar\":{\"outlinewidth\":0,\"ticks\":\"\"}}}],\"scatterpolargl\":[{\"type\":\"scatterpolargl\",\"marker\":{\"colorbar\":{\"outlinewidth\":0,\"ticks\":\"\"}}}],\"bar\":[{\"error_x\":{\"color\":\"#2a3f5f\"},\"error_y\":{\"color\":\"#2a3f5f\"},\"marker\":{\"line\":{\"color\":\"#E5ECF6\",\"width\":0.5},\"pattern\":{\"fillmode\":\"overlay\",\"size\":10,\"solidity\":0.2}},\"type\":\"bar\"}],\"scattergeo\":[{\"type\":\"scattergeo\",\"marker\":{\"colorbar\":{\"outlinewidth\":0,\"ticks\":\"\"}}}],\"scatterpolar\":[{\"type\":\"scatterpolar\",\"marker\":{\"colorbar\":{\"outlinewidth\":0,\"ticks\":\"\"}}}],\"histogram\":[{\"marker\":{\"pattern\":{\"fillmode\":\"overlay\",\"size\":10,\"solidity\":0.2}},\"type\":\"histogram\"}],\"scattergl\":[{\"type\":\"scattergl\",\"marker\":{\"colorbar\":{\"outlinewidth\":0,\"ticks\":\"\"}}}],\"scatter3d\":[{\"type\":\"scatter3d\",\"line\":{\"colorbar\":{\"outlinewidth\":0,\"ticks\":\"\"}},\"marker\":{\"colorbar\":{\"outlinewidth\":0,\"ticks\":\"\"}}}],\"scattermapbox\":[{\"type\":\"scattermapbox\",\"marker\":{\"colorbar\":{\"outlinewidth\":0,\"ticks\":\"\"}}}],\"scatterternary\":[{\"type\":\"scatterternary\",\"marker\":{\"colorbar\":{\"outlinewidth\":0,\"ticks\":\"\"}}}],\"scattercarpet\":[{\"type\":\"scattercarpet\",\"marker\":{\"colorbar\":{\"outlinewidth\":0,\"ticks\":\"\"}}}],\"carpet\":[{\"aaxis\":{\"endlinecolor\":\"#2a3f5f\",\"gridcolor\":\"white\",\"linecolor\":\"white\",\"minorgridcolor\":\"white\",\"startlinecolor\":\"#2a3f5f\"},\"baxis\":{\"endlinecolor\":\"#2a3f5f\",\"gridcolor\":\"white\",\"linecolor\":\"white\",\"minorgridcolor\":\"white\",\"startlinecolor\":\"#2a3f5f\"},\"type\":\"carpet\"}],\"table\":[{\"cells\":{\"fill\":{\"color\":\"#EBF0F8\"},\"line\":{\"color\":\"white\"}},\"header\":{\"fill\":{\"color\":\"#C8D4E3\"},\"line\":{\"color\":\"white\"}},\"type\":\"table\"}],\"barpolar\":[{\"marker\":{\"line\":{\"color\":\"#E5ECF6\",\"width\":0.5},\"pattern\":{\"fillmode\":\"overlay\",\"size\":10,\"solidity\":0.2}},\"type\":\"barpolar\"}],\"pie\":[{\"automargin\":true,\"type\":\"pie\"}]},\"layout\":{\"autotypenumbers\":\"strict\",\"colorway\":[\"#636efa\",\"#EF553B\",\"#00cc96\",\"#ab63fa\",\"#FFA15A\",\"#19d3f3\",\"#FF6692\",\"#B6E880\",\"#FF97FF\",\"#FECB52\"],\"font\":{\"color\":\"#2a3f5f\"},\"hovermode\":\"closest\",\"hoverlabel\":{\"align\":\"left\"},\"paper_bgcolor\":\"white\",\"plot_bgcolor\":\"#E5ECF6\",\"polar\":{\"bgcolor\":\"#E5ECF6\",\"angularaxis\":{\"gridcolor\":\"white\",\"linecolor\":\"white\",\"ticks\":\"\"},\"radialaxis\":{\"gridcolor\":\"white\",\"linecolor\":\"white\",\"ticks\":\"\"}},\"ternary\":{\"bgcolor\":\"#E5ECF6\",\"aaxis\":{\"gridcolor\":\"white\",\"linecolor\":\"white\",\"ticks\":\"\"},\"baxis\":{\"gridcolor\":\"white\",\"linecolor\":\"white\",\"ticks\":\"\"},\"caxis\":{\"gridcolor\":\"white\",\"linecolor\":\"white\",\"ticks\":\"\"}},\"coloraxis\":{\"colorbar\":{\"outlinewidth\":0,\"ticks\":\"\"}},\"colorscale\":{\"sequential\":[[0.0,\"#0d0887\"],[0.1111111111111111,\"#46039f\"],[0.2222222222222222,\"#7201a8\"],[0.3333333333333333,\"#9c179e\"],[0.4444444444444444,\"#bd3786\"],[0.5555555555555556,\"#d8576b\"],[0.6666666666666666,\"#ed7953\"],[0.7777777777777778,\"#fb9f3a\"],[0.8888888888888888,\"#fdca26\"],[1.0,\"#f0f921\"]],\"sequentialminus\":[[0.0,\"#0d0887\"],[0.1111111111111111,\"#46039f\"],[0.2222222222222222,\"#7201a8\"],[0.3333333333333333,\"#9c179e\"],[0.4444444444444444,\"#bd3786\"],[0.5555555555555556,\"#d8576b\"],[0.6666666666666666,\"#ed7953\"],[0.7777777777777778,\"#fb9f3a\"],[0.8888888888888888,\"#fdca26\"],[1.0,\"#f0f921\"]],\"diverging\":[[0,\"#8e0152\"],[0.1,\"#c51b7d\"],[0.2,\"#de77ae\"],[0.3,\"#f1b6da\"],[0.4,\"#fde0ef\"],[0.5,\"#f7f7f7\"],[0.6,\"#e6f5d0\"],[0.7,\"#b8e186\"],[0.8,\"#7fbc41\"],[0.9,\"#4d9221\"],[1,\"#276419\"]]},\"xaxis\":{\"gridcolor\":\"white\",\"linecolor\":\"white\",\"ticks\":\"\",\"title\":{\"standoff\":15},\"zerolinecolor\":\"white\",\"automargin\":true,\"zerolinewidth\":2},\"yaxis\":{\"gridcolor\":\"white\",\"linecolor\":\"white\",\"ticks\":\"\",\"title\":{\"standoff\":15},\"zerolinecolor\":\"white\",\"automargin\":true,\"zerolinewidth\":2},\"scene\":{\"xaxis\":{\"backgroundcolor\":\"#E5ECF6\",\"gridcolor\":\"white\",\"linecolor\":\"white\",\"showbackground\":true,\"ticks\":\"\",\"zerolinecolor\":\"white\",\"gridwidth\":2},\"yaxis\":{\"backgroundcolor\":\"#E5ECF6\",\"gridcolor\":\"white\",\"linecolor\":\"white\",\"showbackground\":true,\"ticks\":\"\",\"zerolinecolor\":\"white\",\"gridwidth\":2},\"zaxis\":{\"backgroundcolor\":\"#E5ECF6\",\"gridcolor\":\"white\",\"linecolor\":\"white\",\"showbackground\":true,\"ticks\":\"\",\"zerolinecolor\":\"white\",\"gridwidth\":2}},\"shapedefaults\":{\"line\":{\"color\":\"#2a3f5f\"}},\"annotationdefaults\":{\"arrowcolor\":\"#2a3f5f\",\"arrowhead\":0,\"arrowwidth\":1},\"geo\":{\"bgcolor\":\"white\",\"landcolor\":\"#E5ECF6\",\"subunitcolor\":\"white\",\"showland\":true,\"showlakes\":true,\"lakecolor\":\"white\"},\"title\":{\"x\":0.05},\"mapbox\":{\"style\":\"light\"}}}},                        {\"responsive\": true}                    ).then(function(){\n",
              "                            \n",
              "var gd = document.getElementById('44527aae-1c08-49e4-8e06-d0007b06e6ab');\n",
              "var x = new MutationObserver(function (mutations, observer) {{\n",
              "        var display = window.getComputedStyle(gd).display;\n",
              "        if (!display || display === 'none') {{\n",
              "            console.log([gd, 'removed!']);\n",
              "            Plotly.purge(gd);\n",
              "            observer.disconnect();\n",
              "        }}\n",
              "}});\n",
              "\n",
              "// Listen for the removal of the full notebook cells\n",
              "var notebookContainer = gd.closest('#notebook-container');\n",
              "if (notebookContainer) {{\n",
              "    x.observe(notebookContainer, {childList: true});\n",
              "}}\n",
              "\n",
              "// Listen for the clearing of the current output cell\n",
              "var outputEl = gd.closest('.output');\n",
              "if (outputEl) {{\n",
              "    x.observe(outputEl, {childList: true});\n",
              "}}\n",
              "\n",
              "                        })                };                            </script>        </div>\n",
              "</body>\n",
              "</html>"
            ]
          },
          "metadata": {}
        },
        {
          "output_type": "stream",
          "name": "stdout",
          "text": [
            "✅ 全てのグラフの表示が完了しました。\n",
            "\n",
            "--- HTMLファイルへの保存を開始 ---\n",
            "✅ 'synergy_heatmap' を保存しました: /content/drive/MyDrive/synergy_analysis_charts_V2/synergy_heatmap.html\n",
            "✅ 'growth_trajectory' を保存しました: /content/drive/MyDrive/synergy_analysis_charts_V2/growth_trajectory.html\n",
            "✅ 'business_metrics_dashboard' を保存しました: /content/drive/MyDrive/synergy_analysis_charts_V2/business_metrics_dashboard.html\n",
            "✅ 'shapley_value_chart' を保存しました: /content/drive/MyDrive/synergy_analysis_charts_V2/shapley_value_chart.html\n",
            "✅ 'network_graph' を保存しました: /content/drive/MyDrive/synergy_analysis_charts_V2/network_graph.html\n",
            "✅ 全てのグラフのHTML保存が完了しました。\n"
          ]
        }
      ]
    }
  ]
}